{
 "cells": [
  {
   "cell_type": "markdown",
   "id": "078755ec-58e1-43a6-9906-e034f54c4633",
   "metadata": {},
   "source": [
    "# D211 Data Cleaning\n",
    "## Darian Gurrola"
   ]
  },
  {
   "cell_type": "markdown",
   "id": "75565e2c-f062-4ed8-a892-f9beaaf0dea1",
   "metadata": {},
   "source": [
    "## External CSV Data Cleaning"
   ]
  },
  {
   "cell_type": "code",
   "execution_count": 3,
   "id": "91ff9bcd-f1d5-48de-8def-a566febe4449",
   "metadata": {},
   "outputs": [],
   "source": [
    "#Import pandas to create a dataframe and import the external\n",
    "import pandas as pd\n",
    "import matplotlib.pyplot as plt\n",
    "import seaborn as sns\n",
    "import numpy as np"
   ]
  },
  {
   "cell_type": "code",
   "execution_count": 4,
   "id": "0cd21410-86a5-44bc-893c-e3281290f1d3",
   "metadata": {},
   "outputs": [],
   "source": [
    "# Import the initial csv file and assign to df_computer\n",
    "df_initial = pd.read_csv('ACSST1Y2022.S2801-Data.csv', header=1)"
   ]
  },
  {
   "cell_type": "code",
   "execution_count": 5,
   "id": "daead3c4-f5d8-4463-9c6f-c3b7a8ca1637",
   "metadata": {},
   "outputs": [
    {
     "name": "stdout",
     "output_type": "stream",
     "text": [
      "     Geography Geographic Area Name  Estimate!!Total!!Total households  \\\n",
      "0  0400000US01              Alabama                            2016448   \n",
      "1  0400000US02               Alaska                             274574   \n",
      "2  0400000US04              Arizona                            2850377   \n",
      "3  0400000US05             Arkansas                            1216207   \n",
      "4  0400000US06           California                           13550586   \n",
      "\n",
      "   Margin of Error!!Total!!Total households  \\\n",
      "0                                     11475   \n",
      "1                                      3261   \n",
      "2                                     11519   \n",
      "3                                      8435   \n",
      "4                                     19485   \n",
      "\n",
      "   Estimate!!Total!!Total households!!TYPES OF COMPUTER!!Has one or more types of computing devices:  \\\n",
      "0                                            1896102                                                   \n",
      "1                                             267088                                                   \n",
      "2                                            2747303                                                   \n",
      "3                                            1143531                                                   \n",
      "4                                           13141047                                                   \n",
      "\n",
      "   Margin of Error!!Total!!Total households!!TYPES OF COMPUTER!!Has one or more types of computing devices:  \\\n",
      "0                                              12178                                                          \n",
      "1                                               3710                                                          \n",
      "2                                              12297                                                          \n",
      "3                                              10193                                                          \n",
      "4                                              22219                                                          \n",
      "\n",
      "   Estimate!!Total!!Total households!!TYPES OF COMPUTER!!Has one or more types of computing devices:!!Desktop or laptop  \\\n",
      "0                                            1436344                                                                      \n",
      "1                                             226777                                                                      \n",
      "2                                            2378615                                                                      \n",
      "3                                             869727                                                                      \n",
      "4                                           11424134                                                                      \n",
      "\n",
      "   Margin of Error!!Total!!Total households!!TYPES OF COMPUTER!!Has one or more types of computing devices:!!Desktop or laptop  \\\n",
      "0                                              12636                                                                             \n",
      "1                                               4304                                                                             \n",
      "2                                              15340                                                                             \n",
      "3                                              11023                                                                             \n",
      "4                                              28123                                                                             \n",
      "\n",
      "   Estimate!!Total!!Total households!!TYPES OF COMPUTER!!Has one or more types of computing devices:!!Desktop or laptop!!Desktop or laptop with no other type of computing device  \\\n",
      "0                                              44882                                                                                                                                \n",
      "1                                               6538                                                                                                                                \n",
      "2                                              73384                                                                                                                                \n",
      "3                                              30002                                                                                                                                \n",
      "4                                             268049                                                                                                                                \n",
      "\n",
      "   Margin of Error!!Total!!Total households!!TYPES OF COMPUTER!!Has one or more types of computing devices:!!Desktop or laptop!!Desktop or laptop with no other type of computing device  \\\n",
      "0                                               3476                                                                                                                                       \n",
      "1                                               1334                                                                                                                                       \n",
      "2                                               4007                                                                                                                                       \n",
      "3                                               3178                                                                                                                                       \n",
      "4                                               7495                                                                                                                                       \n",
      "\n",
      "   ...  \\\n",
      "0  ...   \n",
      "1  ...   \n",
      "2  ...   \n",
      "3  ...   \n",
      "4  ...   \n",
      "\n",
      "   Margin of Error!!Percent!!Total households!!HOUSEHOLD INCOME IN THE PAST 12 MONTHS (IN 2022 INFLATION-ADJUSTED DOLLARS)!!$20,000 to $74,999:!!Without an Internet subscription  \\\n",
      "0                                                0.6                                                                                                                                \n",
      "1                                                1.5                                                                                                                                \n",
      "2                                                0.6                                                                                                                                \n",
      "3                                                0.8                                                                                                                                \n",
      "4                                                0.2                                                                                                                                \n",
      "\n",
      "   Estimate!!Percent!!Total households!!HOUSEHOLD INCOME IN THE PAST 12 MONTHS (IN 2022 INFLATION-ADJUSTED DOLLARS)!!$75,000 or more:  \\\n",
      "0                                                (X)                                                                                    \n",
      "1                                                (X)                                                                                    \n",
      "2                                                (X)                                                                                    \n",
      "3                                                (X)                                                                                    \n",
      "4                                                (X)                                                                                    \n",
      "\n",
      "   Margin of Error!!Percent!!Total households!!HOUSEHOLD INCOME IN THE PAST 12 MONTHS (IN 2022 INFLATION-ADJUSTED DOLLARS)!!$75,000 or more:  \\\n",
      "0                                                (X)                                                                                           \n",
      "1                                                (X)                                                                                           \n",
      "2                                                (X)                                                                                           \n",
      "3                                                (X)                                                                                           \n",
      "4                                                (X)                                                                                           \n",
      "\n",
      "   Estimate!!Percent!!Total households!!HOUSEHOLD INCOME IN THE PAST 12 MONTHS (IN 2022 INFLATION-ADJUSTED DOLLARS)!!$75,000 or more:!!With dial-up Internet subscription alone  \\\n",
      "0                                                0.2                                                                                                                              \n",
      "1                                                0.0                                                                                                                              \n",
      "2                                                0.0                                                                                                                              \n",
      "3                                                0.1                                                                                                                              \n",
      "4                                                0.1                                                                                                                              \n",
      "\n",
      "   Margin of Error!!Percent!!Total households!!HOUSEHOLD INCOME IN THE PAST 12 MONTHS (IN 2022 INFLATION-ADJUSTED DOLLARS)!!$75,000 or more:!!With dial-up Internet subscription alone  \\\n",
      "0                                                0.1                                                                                                                                     \n",
      "1                                                0.1                                                                                                                                     \n",
      "2                                                0.1                                                                                                                                     \n",
      "3                                                0.1                                                                                                                                     \n",
      "4                                                0.1                                                                                                                                     \n",
      "\n",
      "   Estimate!!Percent!!Total households!!HOUSEHOLD INCOME IN THE PAST 12 MONTHS (IN 2022 INFLATION-ADJUSTED DOLLARS)!!$75,000 or more:!!With a broadband Internet subscription  \\\n",
      "0                                               95.4                                                                                                                            \n",
      "1                                               96.3                                                                                                                            \n",
      "2                                               96.3                                                                                                                            \n",
      "3                                               95.6                                                                                                                            \n",
      "4                                               97.3                                                                                                                            \n",
      "\n",
      "   Margin of Error!!Percent!!Total households!!HOUSEHOLD INCOME IN THE PAST 12 MONTHS (IN 2022 INFLATION-ADJUSTED DOLLARS)!!$75,000 or more:!!With a broadband Internet subscription  \\\n",
      "0                                                0.4                                                                                                                                   \n",
      "1                                                0.5                                                                                                                                   \n",
      "2                                                0.3                                                                                                                                   \n",
      "3                                                0.6                                                                                                                                   \n",
      "4                                                0.1                                                                                                                                   \n",
      "\n",
      "   Estimate!!Percent!!Total households!!HOUSEHOLD INCOME IN THE PAST 12 MONTHS (IN 2022 INFLATION-ADJUSTED DOLLARS)!!$75,000 or more:!!Without an Internet subscription  \\\n",
      "0                                                4.5                                                                                                                      \n",
      "1                                                3.6                                                                                                                      \n",
      "2                                                3.7                                                                                                                      \n",
      "3                                                4.3                                                                                                                      \n",
      "4                                                2.6                                                                                                                      \n",
      "\n",
      "   Margin of Error!!Percent!!Total households!!HOUSEHOLD INCOME IN THE PAST 12 MONTHS (IN 2022 INFLATION-ADJUSTED DOLLARS)!!$75,000 or more:!!Without an Internet subscription  \\\n",
      "0                                                0.4                                                                                                                             \n",
      "1                                                0.5                                                                                                                             \n",
      "2                                                0.3                                                                                                                             \n",
      "3                                                0.6                                                                                                                             \n",
      "4                                                0.1                                                                                                                             \n",
      "\n",
      "   Unnamed: 126  \n",
      "0           NaN  \n",
      "1           NaN  \n",
      "2           NaN  \n",
      "3           NaN  \n",
      "4           NaN  \n",
      "\n",
      "[5 rows x 127 columns]\n"
     ]
    }
   ],
   "source": [
    "print(df_initial.head())"
   ]
  },
  {
   "cell_type": "code",
   "execution_count": 6,
   "id": "3145ca8f-c961-4bf2-b399-d933d2997892",
   "metadata": {},
   "outputs": [],
   "source": [
    "#Select the columns that will be used in the analysis and assign to df_computer\n",
    "df_computer = df_initial[[\"Geographic Area Name\", \"Estimate!!Total!!Total households\", \"Estimate!!Total!!Total households!!TYPE OF INTERNET SUBSCRIPTIONS!!With an Internet subscription:!!Broadband of any type!!Cellular data plan\", \"Estimate!!Total!!Total households!!TYPE OF INTERNET SUBSCRIPTIONS!!With an Internet subscription:!!Broadband of any type!!Broadband such as cable, fiber optic or DSL\", \"Estimate!!Percent!!Total households!!TYPES OF COMPUTER!!Has one or more types of computing devices:!!Tablet or other portable wireless computer\", \"Estimate!!Percent!!Total households!!TYPE OF INTERNET SUBSCRIPTIONS!!With an Internet subscription:!!Broadband of any type!!Broadband such as cable, fiber optic or DSL\", \"Estimate!!Percent!!Total households!!HOUSEHOLD INCOME IN THE PAST 12 MONTHS (IN 2022 INFLATION-ADJUSTED DOLLARS)!!Less than $20,000:!!With a broadband Internet subscription\", \"Estimate!!Percent!!Total households!!HOUSEHOLD INCOME IN THE PAST 12 MONTHS (IN 2022 INFLATION-ADJUSTED DOLLARS)!!$20,000 to $74,999:!!With a broadband Internet subscription\", \"Estimate!!Percent!!Total households!!HOUSEHOLD INCOME IN THE PAST 12 MONTHS (IN 2022 INFLATION-ADJUSTED DOLLARS)!!$75,000 or more:!!With a broadband Internet subscription\"]]"
   ]
  },
  {
   "cell_type": "code",
   "execution_count": 7,
   "id": "08c17202-b24f-41b5-9825-bf9e270a5277",
   "metadata": {},
   "outputs": [
    {
     "name": "stdout",
     "output_type": "stream",
     "text": [
      "  Geographic Area Name  Estimate!!Total!!Total households  \\\n",
      "0              Alabama                            2016448   \n",
      "1               Alaska                             274574   \n",
      "2              Arizona                            2850377   \n",
      "3             Arkansas                            1216207   \n",
      "4           California                           13550586   \n",
      "\n",
      "   Estimate!!Total!!Total households!!TYPE OF INTERNET SUBSCRIPTIONS!!With an Internet subscription:!!Broadband of any type!!Cellular data plan  \\\n",
      "0                                            1639736                                                                                              \n",
      "1                                             239052                                                                                              \n",
      "2                                            2395194                                                                                              \n",
      "3                                             988480                                                                                              \n",
      "4                                           12035392                                                                                              \n",
      "\n",
      "   Estimate!!Total!!Total households!!TYPE OF INTERNET SUBSCRIPTIONS!!With an Internet subscription:!!Broadband of any type!!Broadband such as cable, fiber optic or DSL  \\\n",
      "0                                            1377556                                                                                                                       \n",
      "1                                             187858                                                                                                                       \n",
      "2                                            2169440                                                                                                                       \n",
      "3                                             815531                                                                                                                       \n",
      "4                                           10729302                                                                                                                       \n",
      "\n",
      "   Estimate!!Percent!!Total households!!TYPES OF COMPUTER!!Has one or more types of computing devices:!!Tablet or other portable wireless computer  \\\n",
      "0                                               57.5                                                                                                 \n",
      "1                                               63.9                                                                                                 \n",
      "2                                               64.6                                                                                                 \n",
      "3                                               55.3                                                                                                 \n",
      "4                                               67.4                                                                                                 \n",
      "\n",
      "   Estimate!!Percent!!Total households!!TYPE OF INTERNET SUBSCRIPTIONS!!With an Internet subscription:!!Broadband of any type!!Broadband such as cable, fiber optic or DSL  \\\n",
      "0                                               68.3                                                                                                                         \n",
      "1                                               68.4                                                                                                                         \n",
      "2                                               76.1                                                                                                                         \n",
      "3                                               67.1                                                                                                                         \n",
      "4                                               79.2                                                                                                                         \n",
      "\n",
      "   Estimate!!Percent!!Total households!!HOUSEHOLD INCOME IN THE PAST 12 MONTHS (IN 2022 INFLATION-ADJUSTED DOLLARS)!!Less than $20,000:!!With a broadband Internet subscription  \\\n",
      "0                                               72.2                                                                                                                              \n",
      "1                                               75.7                                                                                                                              \n",
      "2                                               75.2                                                                                                                              \n",
      "3                                               69.7                                                                                                                              \n",
      "4                                               79.7                                                                                                                              \n",
      "\n",
      "   Estimate!!Percent!!Total households!!HOUSEHOLD INCOME IN THE PAST 12 MONTHS (IN 2022 INFLATION-ADJUSTED DOLLARS)!!$20,000 to $74,999:!!With a broadband Internet subscription  \\\n",
      "0                                               86.1                                                                                                                               \n",
      "1                                               87.8                                                                                                                               \n",
      "2                                               89.2                                                                                                                               \n",
      "3                                               86.5                                                                                                                               \n",
      "4                                               90.8                                                                                                                               \n",
      "\n",
      "   Estimate!!Percent!!Total households!!HOUSEHOLD INCOME IN THE PAST 12 MONTHS (IN 2022 INFLATION-ADJUSTED DOLLARS)!!$75,000 or more:!!With a broadband Internet subscription  \n",
      "0                                               95.4                                                                                                                           \n",
      "1                                               96.3                                                                                                                           \n",
      "2                                               96.3                                                                                                                           \n",
      "3                                               95.6                                                                                                                           \n",
      "4                                               97.3                                                                                                                           \n"
     ]
    }
   ],
   "source": [
    "print(df_computer.head())"
   ]
  },
  {
   "cell_type": "markdown",
   "id": "2d85ce91-92af-48b3-afb8-8a49a625cacc",
   "metadata": {},
   "source": [
    "## Check for missing values"
   ]
  },
  {
   "cell_type": "code",
   "execution_count": 9,
   "id": "d914aade-4fdf-4d18-9c71-c9f99467f9bc",
   "metadata": {},
   "outputs": [
    {
     "data": {
      "text/plain": [
       "Geographic Area Name                                                                                                                                                             0\n",
       "Estimate!!Total!!Total households                                                                                                                                                0\n",
       "Estimate!!Total!!Total households!!TYPE OF INTERNET SUBSCRIPTIONS!!With an Internet subscription:!!Broadband of any type!!Cellular data plan                                     0\n",
       "Estimate!!Total!!Total households!!TYPE OF INTERNET SUBSCRIPTIONS!!With an Internet subscription:!!Broadband of any type!!Broadband such as cable, fiber optic or DSL            0\n",
       "Estimate!!Percent!!Total households!!TYPES OF COMPUTER!!Has one or more types of computing devices:!!Tablet or other portable wireless computer                                  0\n",
       "Estimate!!Percent!!Total households!!TYPE OF INTERNET SUBSCRIPTIONS!!With an Internet subscription:!!Broadband of any type!!Broadband such as cable, fiber optic or DSL          0\n",
       "Estimate!!Percent!!Total households!!HOUSEHOLD INCOME IN THE PAST 12 MONTHS (IN 2022 INFLATION-ADJUSTED DOLLARS)!!Less than $20,000:!!With a broadband Internet subscription     0\n",
       "Estimate!!Percent!!Total households!!HOUSEHOLD INCOME IN THE PAST 12 MONTHS (IN 2022 INFLATION-ADJUSTED DOLLARS)!!$20,000 to $74,999:!!With a broadband Internet subscription    0\n",
       "Estimate!!Percent!!Total households!!HOUSEHOLD INCOME IN THE PAST 12 MONTHS (IN 2022 INFLATION-ADJUSTED DOLLARS)!!$75,000 or more:!!With a broadband Internet subscription       0\n",
       "dtype: int64"
      ]
     },
     "execution_count": 9,
     "metadata": {},
     "output_type": "execute_result"
    }
   ],
   "source": [
    "#detect missing values in each variable of df_churn\n",
    "df_computer.isnull().sum()"
   ]
  },
  {
   "cell_type": "markdown",
   "id": "f183df1d-9a30-4f37-ac1a-6ec5b7636d13",
   "metadata": {},
   "source": [
    "## Rename columns"
   ]
  },
  {
   "cell_type": "code",
   "execution_count": 12,
   "id": "92bad753-fb61-42fe-a7a9-c803b44da7d4",
   "metadata": {},
   "outputs": [],
   "source": [
    "df_computer = df_computer.rename(columns = {\"Geographic Area Name\":\"state\", \"Estimate!!Total!!Total households\":\"total households\", \"Estimate!!Total!!Total households!!TYPE OF INTERNET SUBSCRIPTIONS!!With an Internet subscription:!!Broadband of any type!!Cellular data plan\":\"cellular data plan (total)\", \"Estimate!!Total!!Total households!!TYPE OF INTERNET SUBSCRIPTIONS!!With an Internet subscription:!!Broadband of any type!!Broadband such as cable, fiber optic or DSL\":\"broadband such as cable, fiber optic, or dsl (total)\", \"Estimate!!Percent!!Total households!!TYPES OF COMPUTER!!Has one or more types of computing devices:!!Tablet or other portable wireless computer\":\"has one or more tablet (percent)\", \"Estimate!!Percent!!Total households!!TYPE OF INTERNET SUBSCRIPTIONS!!With an Internet subscription:!!Broadband of any type!!Broadband such as cable, fiber optic or DSL\":\"broadband such as cable, fiber optic, or dsl (percent)\", \"Estimate!!Percent!!Total households!!HOUSEHOLD INCOME IN THE PAST 12 MONTHS (IN 2022 INFLATION-ADJUSTED DOLLARS)!!Less than $20,000:!!With a broadband Internet subscription\":\"less than $20,000 with broadband internet (percent)\", \"Estimate!!Percent!!Total households!!HOUSEHOLD INCOME IN THE PAST 12 MONTHS (IN 2022 INFLATION-ADJUSTED DOLLARS)!!$20,000 to $74,999:!!With a broadband Internet subscription\":\"$20,000 to $74,999 with broadband internet (percent)\", \"Estimate!!Percent!!Total households!!HOUSEHOLD INCOME IN THE PAST 12 MONTHS (IN 2022 INFLATION-ADJUSTED DOLLARS)!!$75,000 or more:!!With a broadband Internet subscription\":\"$75,000 or more with broadband internet (percent)\"}) "
   ]
  },
  {
   "cell_type": "code",
   "execution_count": 13,
   "id": "d8b4d66e-e1ec-401e-b3b4-edb41d709d67",
   "metadata": {},
   "outputs": [
    {
     "name": "stdout",
     "output_type": "stream",
     "text": [
      "        state  total households  cellular data plan (total)  \\\n",
      "0     Alabama           2016448                     1639736   \n",
      "1      Alaska            274574                      239052   \n",
      "2     Arizona           2850377                     2395194   \n",
      "3    Arkansas           1216207                      988480   \n",
      "4  California          13550586                    12035392   \n",
      "\n",
      "   broadband such as cable, fiber optic, or dsl (total)  \\\n",
      "0                                            1377556      \n",
      "1                                             187858      \n",
      "2                                            2169440      \n",
      "3                                             815531      \n",
      "4                                           10729302      \n",
      "\n",
      "   has one or more tablet (percent)  \\\n",
      "0                              57.5   \n",
      "1                              63.9   \n",
      "2                              64.6   \n",
      "3                              55.3   \n",
      "4                              67.4   \n",
      "\n",
      "   broadband such as cable, fiber optic, or dsl (percent)  \\\n",
      "0                                               68.3        \n",
      "1                                               68.4        \n",
      "2                                               76.1        \n",
      "3                                               67.1        \n",
      "4                                               79.2        \n",
      "\n",
      "   less than $20,000 with broadband internet (percent)  \\\n",
      "0                                               72.2     \n",
      "1                                               75.7     \n",
      "2                                               75.2     \n",
      "3                                               69.7     \n",
      "4                                               79.7     \n",
      "\n",
      "   $20,000 to $74,999 with broadband internet (percent)  \\\n",
      "0                                               86.1      \n",
      "1                                               87.8      \n",
      "2                                               89.2      \n",
      "3                                               86.5      \n",
      "4                                               90.8      \n",
      "\n",
      "   $75,000 or more with broadband internet (percent)  \n",
      "0                                               95.4  \n",
      "1                                               96.3  \n",
      "2                                               96.3  \n",
      "3                                               95.6  \n",
      "4                                               97.3  \n"
     ]
    }
   ],
   "source": [
    "print(df_computer.head())"
   ]
  },
  {
   "cell_type": "code",
   "execution_count": 14,
   "id": "ab25ac7e-a025-4163-a77d-ea5166aedec6",
   "metadata": {},
   "outputs": [
    {
     "name": "stdout",
     "output_type": "stream",
     "text": [
      "['Alabama' 'Alaska' 'Arizona' 'Arkansas' 'California' 'Colorado'\n",
      " 'Connecticut' 'Delaware' 'District of Columbia' 'Florida' 'Georgia'\n",
      " 'Hawaii' 'Idaho' 'Illinois' 'Indiana' 'Iowa' 'Kansas' 'Kentucky'\n",
      " 'Louisiana' 'Maine' 'Maryland' 'Massachusetts' 'Michigan' 'Minnesota'\n",
      " 'Mississippi' 'Missouri' 'Montana' 'Nebraska' 'Nevada' 'New Hampshire'\n",
      " 'New Jersey' 'New Mexico' 'New York' 'North Carolina' 'North Dakota'\n",
      " 'Ohio' 'Oklahoma' 'Oregon' 'Pennsylvania' 'Rhode Island' 'South Carolina'\n",
      " 'South Dakota' 'Tennessee' 'Texas' 'Utah' 'Vermont' 'Virginia'\n",
      " 'Washington' 'West Virginia' 'Wisconsin' 'Wyoming' 'Puerto Rico']\n"
     ]
    }
   ],
   "source": [
    "#Rename values in State column \n",
    "\n",
    "#Find unique values of variable\n",
    "print(df_computer[\"state\"].unique())"
   ]
  },
  {
   "cell_type": "code",
   "execution_count": 15,
   "id": "99914417-238f-4cc3-ab43-9148beea7e36",
   "metadata": {},
   "outputs": [
    {
     "name": "stdout",
     "output_type": "stream",
     "text": [
      "['AL' 'AK' 'AZ' 'AR' 'CA' 'CO' 'CT' 'DE' 'DC' 'FL' 'GA' 'HI' 'ID' 'IL'\n",
      " 'IN' 'IA' 'KS' 'KY' 'LA' 'ME' 'MD' 'MA' 'MI' 'MN' 'MS' 'MO' 'MT' 'NE'\n",
      " 'NV' 'NH' 'NJ' 'NM' 'NY' 'NC' 'ND' 'OH' 'OK' 'OR' 'PA' 'RI' 'SC' 'SD'\n",
      " 'TN' 'TX' 'UT' 'VT' 'VA' 'WA' 'WV' 'WI' 'WY' 'PR']\n"
     ]
    }
   ],
   "source": [
    "#Create dictionary to store numeric values for variable\n",
    "dict_state = {\"state\":\n",
    "                    {\"Alabama\":\"AL\",\n",
    "                     \"Alaska\":\"AK\",\n",
    "                     \"Arizona\":\"AZ\",\n",
    "                     \"Arkansas\":\"AR\",\n",
    "                     \"California\":\"CA\",\n",
    "                     \"Colorado\":\"CO\",\n",
    "                     \"Connecticut\":\"CT\",\n",
    "                     \"Delaware\":\"DE\",\n",
    "                     \"District of Columbia\":\"DC\",\n",
    "                     \"Florida\":\"FL\",\n",
    "                     \"Georgia\":\"GA\",\n",
    "                     \"Hawaii\":\"HI\",\n",
    "                     \"Idaho\":\"ID\",\n",
    "                     \"Illinois\":\"IL\",\n",
    "                     \"Indiana\":\"IN\",\n",
    "                     \"Iowa\":\"IA\",\n",
    "                     \"Kansas\":\"KS\",\n",
    "                     \"Kentucky\":\"KY\",\n",
    "                     \"Louisiana\":\"LA\",\n",
    "                     \"Maine\":\"ME\",\n",
    "                     \"Maryland\":\"MD\",\n",
    "                     \"Massachusetts\":\"MA\",\n",
    "                     \"Michigan\":\"MI\",\n",
    "                     \"Minnesota\":\"MN\",\n",
    "                     \"Mississippi\":\"MS\",\n",
    "                     \"Missouri\":\"MO\",\n",
    "                     \"Montana\":\"MT\",\n",
    "                     \"Nebraska\":\"NE\",\n",
    "                     \"Nevada\":\"NV\",\n",
    "                     \"New Hampshire\":\"NH\",\n",
    "                     \"New Jersey\":\"NJ\",\n",
    "                     \"New Mexico\":\"NM\",\n",
    "                     \"New York\":\"NY\",\n",
    "                     \"North Carolina\":\"NC\",\n",
    "                     \"North Dakota\":\"ND\",\n",
    "                     \"Ohio\":\"OH\",\n",
    "                     \"Oklahoma\":\"OK\",\n",
    "                     \"Oregon\":\"OR\",\n",
    "                     \"Pennsylvania\":\"PA\",\n",
    "                     \"Rhode Island\":\"RI\",\n",
    "                     \"South Carolina\":\"SC\",\n",
    "                     \"South Dakota\":\"SD\",\n",
    "                     \"Tennessee\":\"TN\",\n",
    "                     \"Texas\":\"TX\",\n",
    "                     \"Utah\":\"UT\",\n",
    "                     \"Vermont\":\"VT\",\n",
    "                     \"Virginia\":\"VA\",\n",
    "                     \"Washington\":\"WA\",\n",
    "                     \"West Virginia\":\"WV\",\n",
    "                     \"Wisconsin\":\"WI\",\n",
    "                     \"Wyoming\":\"WY\",\n",
    "                     \"Puerto Rico\":\"PR\"\n",
    "                    }\n",
    "                }\n",
    "\n",
    "#Replace categorical values with numeric values from dictionary\n",
    "df_computer.replace(dict_state, inplace=True)\n",
    "\n",
    "#Confirm categorical values have been replaced\n",
    "print(df_computer[\"state\"].unique())"
   ]
  },
  {
   "cell_type": "code",
   "execution_count": 16,
   "id": "45c73bcb-731a-43fe-adb2-4d3c9574aad2",
   "metadata": {},
   "outputs": [],
   "source": [
    "df_computer.to_csv('computer_clean.csv', index=False)"
   ]
  },
  {
   "cell_type": "markdown",
   "id": "6349cb78-0d2c-4723-99b9-c54423a241e7",
   "metadata": {},
   "source": [
    "## Location Table Cleaning"
   ]
  },
  {
   "cell_type": "code",
   "execution_count": 18,
   "id": "d13d64d1-6aa6-4e31-bdda-e04e3c372d0b",
   "metadata": {},
   "outputs": [],
   "source": [
    "# Import the location csv file and assign to df_location\n",
    "df_location = pd.read_csv('location.csv')"
   ]
  },
  {
   "cell_type": "code",
   "execution_count": 19,
   "id": "f4ba0e8e-e2af-4067-8bc6-098d0d698903",
   "metadata": {},
   "outputs": [
    {
     "name": "stdout",
     "output_type": "stream",
     "text": [
      "8583\n"
     ]
    }
   ],
   "source": [
    "print(len(df_location))"
   ]
  },
  {
   "cell_type": "code",
   "execution_count": 20,
   "id": "d1e31222-aa3d-4ca4-9df0-a0b0fa63f728",
   "metadata": {},
   "outputs": [
    {
     "name": "stdout",
     "output_type": "stream",
     "text": [
      "   location_id    zip           city state    county\n",
      "0         5599  62419        Calhoun    IL  Richland\n",
      "1         2737  32266  Neptune Beach    FL     Duval\n",
      "2         1297  16424     Linesville    PA  Crawford\n",
      "3         5181  58428         Dawson    ND    Kidder\n",
      "4           30    952    Sabana Seca    PR  Toa Baja\n"
     ]
    }
   ],
   "source": [
    "# Count rows in location table\n",
    "print(df_location.head())"
   ]
  },
  {
   "cell_type": "code",
   "execution_count": 21,
   "id": "82c9b5aa-ec55-4147-b4b1-27b3ece11c21",
   "metadata": {},
   "outputs": [
    {
     "name": "stdout",
     "output_type": "stream",
     "text": [
      "False    8583\n",
      "Name: count, dtype: int64\n"
     ]
    }
   ],
   "source": [
    "#Detect duplicate rows in df_location\n",
    "print(df_location.duplicated().value_counts())"
   ]
  },
  {
   "cell_type": "code",
   "execution_count": 22,
   "id": "6fcdf544-e43c-45d2-b979-543b55ddf944",
   "metadata": {},
   "outputs": [
    {
     "data": {
      "text/plain": [
       "location_id    0\n",
       "zip            0\n",
       "city           0\n",
       "state          0\n",
       "county         0\n",
       "dtype: int64"
      ]
     },
     "execution_count": 22,
     "metadata": {},
     "output_type": "execute_result"
    }
   ],
   "source": [
    "#detect missing values in each column of df_location\n",
    "df_location.isnull().sum()"
   ]
  },
  {
   "cell_type": "markdown",
   "id": "56adc0c7-2b04-48bf-8916-8620eb48d664",
   "metadata": {},
   "source": [
    "## Job Table Cleaning"
   ]
  },
  {
   "cell_type": "code",
   "execution_count": 24,
   "id": "875c3406-5936-4967-ba03-2d443b16cd8d",
   "metadata": {},
   "outputs": [],
   "source": [
    "# Import the job csv file and assign to df_job\n",
    "df_job = pd.read_csv('job.csv')"
   ]
  },
  {
   "cell_type": "code",
   "execution_count": 25,
   "id": "93c6bb3d-b678-4161-bc4a-4d6579c213be",
   "metadata": {},
   "outputs": [
    {
     "name": "stdout",
     "output_type": "stream",
     "text": [
      "   job_id                         job_title\n",
      "0       1                Academic librarian\n",
      "1       2             Accommodation manager\n",
      "2       3             Accountant- chartered\n",
      "3       4   Accountant- chartered certified\n",
      "4       5  Accountant- chartered management\n"
     ]
    }
   ],
   "source": [
    "print(df_job.head())"
   ]
  },
  {
   "cell_type": "code",
   "execution_count": 92,
   "id": "9de8d757-82aa-47fa-a010-025db69f36c6",
   "metadata": {},
   "outputs": [
    {
     "name": "stdout",
     "output_type": "stream",
     "text": [
      "639\n"
     ]
    }
   ],
   "source": [
    "print(len(df_job))"
   ]
  },
  {
   "cell_type": "code",
   "execution_count": 94,
   "id": "bd621628-e7e3-4e16-a2c6-d487519f3f57",
   "metadata": {},
   "outputs": [
    {
     "name": "stdout",
     "output_type": "stream",
     "text": [
      "False    639\n",
      "Name: count, dtype: int64\n"
     ]
    }
   ],
   "source": [
    "#Detect duplicate rows in df_churn \n",
    "print(df_job.duplicated().value_counts())"
   ]
  },
  {
   "cell_type": "code",
   "execution_count": 96,
   "id": "2a2088c4-4114-4a2d-8435-12c9a5a34fd6",
   "metadata": {},
   "outputs": [
    {
     "data": {
      "text/plain": [
       "job_id       0\n",
       "job_title    0\n",
       "dtype: int64"
      ]
     },
     "execution_count": 96,
     "metadata": {},
     "output_type": "execute_result"
    }
   ],
   "source": [
    "#detect missing values in each column of df_location\n",
    "df_job.isnull().sum()"
   ]
  },
  {
   "cell_type": "markdown",
   "id": "cb45decc-1d68-407b-ab4c-e029ea87833d",
   "metadata": {},
   "source": [
    "## Customer Table Cleaning"
   ]
  },
  {
   "cell_type": "code",
   "execution_count": 29,
   "id": "dd1532e3-292f-4201-97da-f0b60a601252",
   "metadata": {},
   "outputs": [],
   "source": [
    "# Import the customer csv file and assign to df_job\n",
    "df_customer = pd.read_csv('customer.csv')"
   ]
  },
  {
   "cell_type": "code",
   "execution_count": 30,
   "id": "f0602fa1-e824-427f-a25a-cac9368fbeba",
   "metadata": {},
   "outputs": [
    {
     "name": "stdout",
     "output_type": "stream",
     "text": [
      "  customer_id       lat        lng  population  children  age    income  \\\n",
      "0     K409198  56.25100 -133.37571          38         0   68  28561.99   \n",
      "1     S120509  44.32893  -84.24080       10446         1   27  21704.77   \n",
      "2     K191035  45.35589 -123.24657        3735         4   50   9609.57   \n",
      "3      D90850  32.96687 -117.24798       13863         1   48  18925.23   \n",
      "4     K662701  29.38012  -95.80673       11352         0   83  40074.19   \n",
      "\n",
      "     marital churn  gender  ...  email  contacts  yearly_equip_faiure  techie  \\\n",
      "0    Widowed    No    Male  ...     10         0                    1      No   \n",
      "1    Married   Yes  Female  ...     12         0                    1     Yes   \n",
      "2    Widowed    No  Female  ...      9         0                    1     Yes   \n",
      "3    Married    No    Male  ...     15         2                    0     Yes   \n",
      "4  Separated   Yes    Male  ...     16         2                    1      No   \n",
      "\n",
      "   port_modem  tablet  job_id payment_id contract_id location_id  \n",
      "0         Yes     Yes     229          2           2        5599  \n",
      "1          No     Yes     468          1           1        2737  \n",
      "2         Yes      No      96          2           3        1297  \n",
      "3          No      No     552          4           3        5181  \n",
      "4         Yes      No     371          4           1          30  \n",
      "\n",
      "[5 rows x 24 columns]\n"
     ]
    }
   ],
   "source": [
    "print(df_customer.head())"
   ]
  },
  {
   "cell_type": "code",
   "execution_count": 98,
   "id": "a5b8a1c8-7a0a-43bc-8e0d-81443eb5314b",
   "metadata": {},
   "outputs": [
    {
     "name": "stdout",
     "output_type": "stream",
     "text": [
      "10000\n"
     ]
    }
   ],
   "source": [
    "print(len(df_customer))"
   ]
  },
  {
   "cell_type": "code",
   "execution_count": 100,
   "id": "b65fb4ba-4f1f-4f63-8bf6-e7a3a14b1ce4",
   "metadata": {},
   "outputs": [
    {
     "name": "stdout",
     "output_type": "stream",
     "text": [
      "False    10000\n",
      "Name: count, dtype: int64\n"
     ]
    }
   ],
   "source": [
    "#Detect duplicate rows in df_customer\n",
    "print(df_customer.duplicated().value_counts())"
   ]
  },
  {
   "cell_type": "code",
   "execution_count": 32,
   "id": "c511b810-d16d-4264-9b61-4037b03c70b3",
   "metadata": {},
   "outputs": [
    {
     "data": {
      "text/plain": [
       "customer_id            0\n",
       "lat                    0\n",
       "lng                    0\n",
       "population             0\n",
       "children               0\n",
       "age                    0\n",
       "income                 0\n",
       "marital                0\n",
       "churn                  0\n",
       "gender                 0\n",
       "tenure                 0\n",
       "monthly_charge         0\n",
       "bandwidth_gp_year      0\n",
       "outage_sec_week        0\n",
       "email                  0\n",
       "contacts               0\n",
       "yearly_equip_faiure    0\n",
       "techie                 0\n",
       "port_modem             0\n",
       "tablet                 0\n",
       "job_id                 0\n",
       "payment_id             0\n",
       "contract_id            0\n",
       "location_id            0\n",
       "dtype: int64"
      ]
     },
     "execution_count": 32,
     "metadata": {},
     "output_type": "execute_result"
    }
   ],
   "source": [
    "#detect missing values in each column of df_location\n",
    "df_customer.isnull().sum()"
   ]
  },
  {
   "cell_type": "code",
   "execution_count": 33,
   "id": "67477f8a-4515-4831-b550-da286de7678a",
   "metadata": {},
   "outputs": [
    {
     "data": {
      "image/png": "[encoded data removed]",
      "text/plain": [
       "<Figure size 640x480 with 1 Axes>"
      ]
     },
     "metadata": {},
     "output_type": "display_data"
    }
   ],
   "source": [
    "#Detect outliers in Population variable\n",
    "boxplot = sns.boxplot(x=\"population\", data = df_customer).set_title(\"Population\")"
   ]
  },
  {
   "cell_type": "code",
   "execution_count": 34,
   "id": "2beb5b46-bfdd-4e96-ba67-017797a34468",
   "metadata": {},
   "outputs": [
    {
     "data": {
      "image/png": "[encoded data removed]",
      "text/plain": [
       "<Figure size 640x480 with 1 Axes>"
      ]
     },
     "metadata": {},
     "output_type": "display_data"
    }
   ],
   "source": [
    "#Detect outliers in children variable\n",
    "boxplot = sns.boxplot(x=\"children\", data = df_customer).set_title(\"Children\")"
   ]
  },
  {
   "cell_type": "code",
   "execution_count": 35,
   "id": "e70b201c-4965-4595-a7cd-70f85b382cad",
   "metadata": {},
   "outputs": [
    {
     "data": {
      "image/png": "[encoded data removed]",
      "text/plain": [
       "<Figure size 640x480 with 1 Axes>"
      ]
     },
     "metadata": {},
     "output_type": "display_data"
    }
   ],
   "source": [
    "#Detect outliers in age variable\n",
    "boxplot = sns.boxplot(x=\"age\", data = df_customer).set_title(\"Age\")"
   ]
  },
  {
   "cell_type": "code",
   "execution_count": 36,
   "id": "772f96e4-4f2d-42a9-bf3a-c3f0e1035b5b",
   "metadata": {},
   "outputs": [
    {
     "data": {
      "image/png": "[encoded data removed]",
      "text/plain": [
       "<Figure size 640x480 with 1 Axes>"
      ]
     },
     "metadata": {},
     "output_type": "display_data"
    }
   ],
   "source": [
    "#Detect outliers in income variable\n",
    "boxplot = sns.boxplot(x=\"income\", data = df_customer).set_title(\"Income\")"
   ]
  },
  {
   "cell_type": "code",
   "execution_count": 37,
   "id": "32dbe524-8950-499d-acf3-e30e41e3fded",
   "metadata": {},
   "outputs": [
    {
     "data": {
      "image/png": "[encoded data removed]",
      "text/plain": [
       "<Figure size 640x480 with 1 Axes>"
      ]
     },
     "metadata": {},
     "output_type": "display_data"
    }
   ],
   "source": [
    "#Detect outliers in tenure variable\n",
    "boxplot = sns.boxplot(x=\"tenure\", data = df_customer).set_title(\"Tenure\")"
   ]
  },
  {
   "cell_type": "code",
   "execution_count": 38,
   "id": "6008574b-ca64-44de-9a15-b727687d2ed3",
   "metadata": {},
   "outputs": [
    {
     "data": {
      "image/png": "[encoded data removed]",
      "text/plain": [
       "<Figure size 640x480 with 1 Axes>"
      ]
     },
     "metadata": {},
     "output_type": "display_data"
    }
   ],
   "source": [
    "#Detect outliers in monthly_charge variable\n",
    "boxplot = sns.boxplot(x=\"monthly_charge\", data = df_customer).set_title(\"Monthly Charge\")"
   ]
  },
  {
   "cell_type": "code",
   "execution_count": 39,
   "id": "95c63a21-f502-4ad6-8d72-5468d4d65065",
   "metadata": {},
   "outputs": [
    {
     "data": {
      "image/png": "[encoded data removed]",
      "text/plain": [
       "<Figure size 640x480 with 1 Axes>"
      ]
     },
     "metadata": {},
     "output_type": "display_data"
    }
   ],
   "source": [
    "#Detect outliers in bandwidth_gp_year variable\n",
    "boxplot = sns.boxplot(x=\"bandwidth_gp_year\", data = df_customer).set_title(\"Bandwidth GB Year\")"
   ]
  },
  {
   "cell_type": "code",
   "execution_count": 40,
   "id": "55d9fa86-df66-444f-9664-99d7a8994998",
   "metadata": {},
   "outputs": [
    {
     "data": {
      "image/png": "[encoded data removed]",
      "text/plain": [
       "<Figure size 640x480 with 1 Axes>"
      ]
     },
     "metadata": {},
     "output_type": "display_data"
    }
   ],
   "source": [
    "#Detect outliers in outage_sec_week variable\n",
    "boxplot = sns.boxplot(x=\"outage_sec_week\", data = df_customer).set_title(\"outage_sec_week\")"
   ]
  },
  {
   "cell_type": "code",
   "execution_count": 41,
   "id": "da6b105c-9434-4486-8fb1-3ebd9b0c25e2",
   "metadata": {},
   "outputs": [
    {
     "data": {
      "image/png": "[encoded data removed]",
      "text/plain": [
       "<Figure size 640x480 with 1 Axes>"
      ]
     },
     "metadata": {},
     "output_type": "display_data"
    }
   ],
   "source": [
    "#Detect outliers in email variable\n",
    "boxplot = sns.boxplot(x=\"email\", data = df_customer).set_title(\"Email\")"
   ]
  },
  {
   "cell_type": "code",
   "execution_count": 42,
   "id": "62f02ab5-4811-4e87-b12b-f69398886423",
   "metadata": {},
   "outputs": [
    {
     "data": {
      "image/png": "[encoded data removed]",
      "text/plain": [
       "<Figure size 640x480 with 1 Axes>"
      ]
     },
     "metadata": {},
     "output_type": "display_data"
    }
   ],
   "source": [
    "#Detect outliers in contacts variable\n",
    "boxplot = sns.boxplot(x=\"contacts\", data = df_customer).set_title(\"contacts\")"
   ]
  },
  {
   "cell_type": "code",
   "execution_count": 43,
   "id": "e94fa58d-fef4-4aab-8d2a-5ecd553e8061",
   "metadata": {},
   "outputs": [
    {
     "data": {
      "image/png": "[encoded data removed]",
      "text/plain": [
       "<Figure size 640x480 with 1 Axes>"
      ]
     },
     "metadata": {},
     "output_type": "display_data"
    }
   ],
   "source": [
    "#Detect outliers in yearly_equip_faiure variable\n",
    "boxplot = sns.boxplot(x=\"yearly_equip_faiure\", data = df_customer).set_title(\"Yearly Equipment Failure\")"
   ]
  },
  {
   "cell_type": "code",
   "execution_count": 44,
   "id": "18296f6b-fbef-468d-927e-ad9ba0a2e110",
   "metadata": {},
   "outputs": [
    {
     "name": "stdout",
     "output_type": "stream",
     "text": [
      "155.5067148\n"
     ]
    }
   ],
   "source": [
    "print(min(df_customer['bandwidth_gp_year']))"
   ]
  },
  {
   "cell_type": "markdown",
   "id": "2d310221-ec1c-4172-b20b-091517e17473",
   "metadata": {},
   "source": [
    "## Payment Table Cleaning"
   ]
  },
  {
   "cell_type": "code",
   "execution_count": 46,
   "id": "1057e039-6009-4c94-89fe-4ed4f9d0f8ae",
   "metadata": {},
   "outputs": [],
   "source": [
    "# Import the payment csv file and assign to df_payment\n",
    "df_payment = pd.read_csv('payment.csv')"
   ]
  },
  {
   "cell_type": "code",
   "execution_count": 47,
   "id": "3dd4b494-a29c-47cc-8587-add2737a8a48",
   "metadata": {},
   "outputs": [
    {
     "name": "stdout",
     "output_type": "stream",
     "text": [
      "   payment_id             payment_type\n",
      "0           1  Bank Transfer Automatic\n",
      "1           2    Credit Card Automatic\n",
      "2           3         Electronic Check\n",
      "3           4             Mailed Check\n"
     ]
    }
   ],
   "source": [
    "print(df_payment.head())"
   ]
  },
  {
   "cell_type": "markdown",
   "id": "b59f95a5-e427-4e40-8305-2a975fb597af",
   "metadata": {},
   "source": [
    "## Contract Table Cleaning"
   ]
  },
  {
   "cell_type": "code",
   "execution_count": 49,
   "id": "95caf97a-9622-4ced-9135-9b445abfde53",
   "metadata": {},
   "outputs": [],
   "source": [
    "# Import the contract csv file and assign to df_contract\n",
    "df_contract = pd.read_csv('contract.csv')"
   ]
  },
  {
   "cell_type": "code",
   "execution_count": 50,
   "id": "f884f889-33d7-4409-8cf2-5b7138098e07",
   "metadata": {},
   "outputs": [
    {
     "name": "stdout",
     "output_type": "stream",
     "text": [
      "   contract_id        duration\n",
      "0            1  Month-to-month\n",
      "1            2        One year\n",
      "2            3        Two Year\n"
     ]
    }
   ],
   "source": [
    "print(df_contract.head())"
   ]
  }
 ],
 "metadata": {
  "kernelspec": {
   "display_name": "anaconda-panel-2023.05-py310",
   "language": "python",
   "name": "conda-env-anaconda-panel-2023.05-py310-py"
  },
  "language_info": {
   "codemirror_mode": {
    "name": "ipython",
    "version": 3
   },
   "file_extension": ".py",
   "mimetype": "text/x-python",
   "name": "python",
   "nbconvert_exporter": "python",
   "pygments_lexer": "ipython3",
   "version": "3.11.5"
  }
 },
 "nbformat": 4,
 "nbformat_minor": 5
}
