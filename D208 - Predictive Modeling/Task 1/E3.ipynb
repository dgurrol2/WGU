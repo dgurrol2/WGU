{
 "cells": [
  {
   "cell_type": "markdown",
   "id": "1617e942-d08e-413a-990f-f6bc13709ce0",
   "metadata": {},
   "source": [
    "# D208 Performance Assessment \n",
    "### Task 1 - E3\n",
    "### Darian Gurrola\n",
    "### Course Instructor: Dr. Keiona Middleton"
   ]
  },
  {
   "cell_type": "code",
   "execution_count": 3,
   "id": "0a832acf-2dca-4369-96c6-101c15604b1c",
   "metadata": {},
   "outputs": [],
   "source": [
    "import pandas as pd\n",
    "import numpy as np\n",
    "import seaborn as sns\n",
    "import matplotlib.pyplot as plt\n",
    "import sklearn\n",
    "import statsmodels.api as sm\n",
    "from statsmodels.stats.outliers_influence import variance_inflation_factor\n",
    "\n",
    "df_churn = pd.read_csv('churn_clean.csv')"
   ]
  },
  {
   "cell_type": "markdown",
   "id": "0052300a-9bcd-476e-94e9-0a96fd272557",
   "metadata": {},
   "source": [
    "### Data Cleaning / Transformation"
   ]
  },
  {
   "cell_type": "code",
   "execution_count": 4,
   "id": "1d3a9212-aedd-41f8-afa3-696b32dd86ce",
   "metadata": {},
   "outputs": [],
   "source": [
    "#Create function to provide boxplot information\n",
    "def boxplot_info(input):\n",
    "\n",
    "    #obtain values of column and ignore nulls \n",
    "    data = input.dropna().values\n",
    "    \n",
    "    #generate q1 and q3 using pandas.DataFrame.quantile.  \n",
    "    q1 = input.quantile(0.25)\n",
    "    print(\"Q1: \" + str(q1))\n",
    "    q3 = input.quantile(0.75)\n",
    "    print(\"Q3: \" + str(q3))\n",
    "    \n",
    "    #Calculate interquartile range for boxplot by subtracting Q1 from Q3\n",
    "    iqr = q3 - q1\n",
    "    print(\"IQR: \" + str(iqr))\n",
    "    \n",
    "    #Calculate whisker values of boxplot. \n",
    "    whisker_lower = q1 - (1.5 * iqr)\n",
    "    print(\"Lower Whisker: \" + str(whisker_lower))\n",
    "    whisker_upper = q3 + (1.5 * iqr)\n",
    "    print(\"Upper Whisker: \" + str(whisker_upper))\n",
    "    \n",
    "     #Find number of outliers outside of Q1 and Q3.  Print total number of outliers in column.  \n",
    "    outliers_min = (input < whisker_lower).sum()\n",
    "    print(\"Number of outliers lower than boxplot minimum: \" + str(outliers_min))\n",
    "    outliers_max = (input > whisker_upper).sum()\n",
    "    print(\"Number of outliers greater than boxplot maximum: \" + str(outliers_max))\n",
    "    outliers_total = outliers_min + outliers_max\n",
    "    print(\"Total number of Outliers: \" + str(outliers_total))\n",
    "    max_outlier = max(data)\n",
    "    print(\"Highest Outlier: \" + str(max_outlier))\n",
    "    min_outlier = min(data)\n",
    "    print(\"Lowest Outlier: \" + str(min_outlier))"
   ]
  },
  {
   "cell_type": "code",
   "execution_count": 6,
   "id": "2233944c-fa6f-4d79-ad44-814fbb4e1073",
   "metadata": {},
   "outputs": [],
   "source": [
    "#Treat missing values in InternetService with mode imputation\n",
    "df_churn['InternetService'] = df_churn['InternetService'].fillna(df_churn['InternetService'].mode()[0])"
   ]
  },
  {
   "cell_type": "code",
   "execution_count": 7,
   "id": "a4a5c461-0623-4aac-8641-13674d424745",
   "metadata": {},
   "outputs": [],
   "source": [
    "#Re-express Area as numeric using one-hot encoding\n",
    "\n",
    "#Use pd.get_dummies to turn Area variable into 3 dummy variables\n",
    "df_area = pd.get_dummies(df_churn[\"Area\"], prefix=\"dummy\")\n",
    "\n",
    "#Change data type of dummy variables from boolean to float\n",
    "df_area = df_area.astype(float)\n",
    "\n",
    "#Join dummy_Suburban and dummy_Urban to df_churn.  Use dummy_Rural as base.\n",
    "df_churn = df_churn.join(df_area[[\"dummy_Suburban\",\"dummy_Urban\"]])"
   ]
  },
  {
   "cell_type": "code",
   "execution_count": 8,
   "id": "924b5e66-4e6b-451b-a20e-0554bbce392e",
   "metadata": {},
   "outputs": [],
   "source": [
    "#Re-express Contract as numeric using one-hot encoding\n",
    "\n",
    "#Use pd.get_dummies to turn Area variable into 3 dummy variables\n",
    "df_contract = pd.get_dummies(df_churn[\"Contract\"], prefix=\"dummy\")\n",
    "\n",
    "#Change data type of dummy variables from boolean to float\n",
    "df_contract = df_contract.astype(float)\n",
    "\n",
    "#Join dummy_One year and dummy_Two Year to df_churn.  Use dummy_Month-to-month as base.\n",
    "df_churn = df_churn.join(df_contract[[\"dummy_One year\",\"dummy_Two Year\"]])"
   ]
  },
  {
   "cell_type": "code",
   "execution_count": 9,
   "id": "8478fb41-3365-4f78-9dff-ec8d3f42042e",
   "metadata": {},
   "outputs": [
    {
     "name": "stdout",
     "output_type": "stream",
     "text": [
      "['Yes' 'No']\n",
      "[1. 0.]\n"
     ]
    }
   ],
   "source": [
    "#Re-express Port_modem as numeric \n",
    "\n",
    "#Find unique values of  variable\n",
    "print(df_churn[\"Port_modem\"].unique())\n",
    "\n",
    "#Create dictionary to store numeric values for variable\n",
    "dict_modem = {\"Port_modem\":\n",
    "                    {\"Yes\":1,\n",
    "                     \"No\": 0,\n",
    "                    }\n",
    "                }\n",
    "\n",
    "#Replace categorical values with numeric values from dictionary\n",
    "df_churn.replace(dict_modem, inplace=True)\n",
    "\n",
    "#Change variable to float for compatability with linear regression\n",
    "df_churn[\"Port_modem\"] = df_churn[\"Port_modem\"].astype(float)\n",
    "\n",
    "#Confirm categorical values have been replaced\n",
    "print(df_churn[\"Port_modem\"].unique())"
   ]
  },
  {
   "cell_type": "code",
   "execution_count": 10,
   "id": "bd55f6bb-c008-4268-ba79-2a60137244b1",
   "metadata": {},
   "outputs": [
    {
     "name": "stdout",
     "output_type": "stream",
     "text": [
      "['Yes' 'No']\n",
      "[1. 0.]\n"
     ]
    }
   ],
   "source": [
    "#Re-express OnlineBackup as numeric \n",
    "\n",
    "#Find unique values of  variable\n",
    "print(df_churn[\"OnlineBackup\"].unique())\n",
    "\n",
    "#Create dictionary to store numeric values for variable\n",
    "dict_backup = {\"OnlineBackup\":\n",
    "                    {\"Yes\":1,\n",
    "                     \"No\":0,\n",
    "                    }\n",
    "                }\n",
    "\n",
    "#Replace categorical values with numeric values from dictionary\n",
    "df_churn.replace(dict_backup, inplace=True)\n",
    "\n",
    "#Change variable to float for compatability with linear regression\n",
    "df_churn[\"OnlineBackup\"] = df_churn[\"OnlineBackup\"].astype(float)\n",
    "\n",
    "#Confirm categorical values have been replaced\n",
    "print(df_churn[\"OnlineBackup\"].unique())"
   ]
  },
  {
   "cell_type": "code",
   "execution_count": 11,
   "id": "1b891fdb-21b6-4abb-bf5a-1246cfa5859e",
   "metadata": {},
   "outputs": [
    {
     "name": "stdout",
     "output_type": "stream",
     "text": [
      "['No' 'Yes']\n",
      "[0. 1.]\n"
     ]
    }
   ],
   "source": [
    "#Re-express StreamingTV as numeric \n",
    "\n",
    "#Find unique values of  variable\n",
    "print(df_churn[\"StreamingTV\"].unique())\n",
    "\n",
    "#Create dictionary to store numeric values for variable\n",
    "dict_streamingtv = {\"StreamingTV\":\n",
    "                    {\"Yes\":1,\n",
    "                     \"No\":0,\n",
    "                    }\n",
    "                }\n",
    "\n",
    "#Replace categorical values with numeric values from dictionary\n",
    "df_churn.replace(dict_streamingtv, inplace=True)\n",
    "\n",
    "#Change variable to float for compatability with linear regression\n",
    "df_churn[\"StreamingTV\"] = df_churn[\"StreamingTV\"].astype(float)\n",
    "\n",
    "#Confirm categorical values have been replaced\n",
    "print(df_churn[\"StreamingTV\"].unique())"
   ]
  },
  {
   "cell_type": "code",
   "execution_count": 12,
   "id": "5a889005-183e-4482-932c-71e47f024bbc",
   "metadata": {},
   "outputs": [
    {
     "name": "stdout",
     "output_type": "stream",
     "text": [
      "['Yes' 'No']\n",
      "[1. 0.]\n"
     ]
    }
   ],
   "source": [
    "#Re-express StreamingMovies as numeric \n",
    "\n",
    "#Find unique values of  variable\n",
    "print(df_churn[\"StreamingMovies\"].unique())\n",
    "\n",
    "#Create dictionary to store numeric values for variable\n",
    "dict_movies = {\"StreamingMovies\":\n",
    "                    {\"Yes\":1,\n",
    "                     \"No\":0,\n",
    "                    }\n",
    "                }\n",
    "\n",
    "#Replace categorical values with numeric values from dictionary\n",
    "df_churn.replace(dict_movies, inplace=True)\n",
    "\n",
    "#Change variable to float for compatability with linear regression\n",
    "df_churn[\"StreamingMovies\"] = df_churn[\"StreamingMovies\"].astype(float)\n",
    "\n",
    "#Confirm categorical values have been replaced\n",
    "print(df_churn[\"StreamingMovies\"].unique())"
   ]
  },
  {
   "cell_type": "markdown",
   "id": "3c2ae995-b164-4d7f-baa8-345258e6730c",
   "metadata": {},
   "source": [
    "### Initial Model"
   ]
  },
  {
   "cell_type": "code",
   "execution_count": 14,
   "id": "248dbfac-354f-4048-bdcb-e376799cf3f9",
   "metadata": {},
   "outputs": [
    {
     "name": "stdout",
     "output_type": "stream",
     "text": [
      "                            OLS Regression Results                            \n",
      "==============================================================================\n",
      "Dep. Variable:      Bandwidth_GB_Year   R-squared:                       0.991\n",
      "Model:                            OLS   Adj. R-squared:                  0.991\n",
      "Method:                 Least Squares   F-statistic:                 6.983e+04\n",
      "Date:                Tue, 30 Jan 2024   Prob (F-statistic):               0.00\n",
      "Time:                        19:38:14   Log-Likelihood:                -67771.\n",
      "No. Observations:               10000   AIC:                         1.356e+05\n",
      "Df Residuals:                    9984   BIC:                         1.357e+05\n",
      "Df Model:                          15                                         \n",
      "Covariance Type:            nonrobust                                         \n",
      "======================================================================================\n",
      "                         coef    std err          t      P>|t|      [0.025      0.975]\n",
      "--------------------------------------------------------------------------------------\n",
      "const                342.1945     15.419     22.192      0.000     311.969     372.420\n",
      "Population          8.485e-05      0.000      0.576      0.565      -0.000       0.000\n",
      "dummy_Suburban         3.6540      5.204      0.702      0.483      -6.547      13.856\n",
      "dummy_Urban            2.9427      5.213      0.565      0.572      -7.275      13.160\n",
      "Children              30.5125      0.991     30.796      0.000      28.570      32.455\n",
      "Age                   -3.3012      0.103    -32.124      0.000      -3.503      -3.100\n",
      "Income                 0.0001   7.54e-05      1.583      0.113   -2.84e-05       0.000\n",
      "dummy_One year         4.3917      5.459      0.805      0.421      -6.309      15.092\n",
      "dummy_Two Year         4.9515      5.179      0.956      0.339      -5.200      15.103\n",
      "Port_modem            -1.3478      4.254     -0.317      0.751      -9.687       6.991\n",
      "Outage_sec_perweek    -0.3382      0.714     -0.473      0.636      -1.739       1.062\n",
      "OnlineBackup          82.1162      4.708     17.441      0.000      72.887      91.345\n",
      "StreamingTV          207.1198      5.620     36.851      0.000     196.103     218.137\n",
      "StreamingMovies      184.3503      6.258     29.460      0.000     172.084     196.617\n",
      "Tenure                81.9655      0.080   1018.966      0.000      81.808      82.123\n",
      "MonthlyCharge          0.5596      0.087      6.418      0.000       0.389       0.731\n",
      "==============================================================================\n",
      "Omnibus:                    12968.032   Durbin-Watson:                   1.960\n",
      "Prob(Omnibus):                  0.000   Jarque-Bera (JB):             1129.823\n",
      "Skew:                           0.544   Prob(JB):                    4.59e-246\n",
      "Kurtosis:                       1.764   Cond. No.                     3.70e+05\n",
      "==============================================================================\n",
      "\n",
      "Notes:\n",
      "[1] Standard Errors assume that the covariance matrix of the errors is correctly specified.\n",
      "[2] The condition number is large, 3.7e+05. This might indicate that there are\n",
      "strong multicollinearity or other numerical problems.\n"
     ]
    }
   ],
   "source": [
    "#Build initial linear regression model [In-text citation: (LaRose et al, 2019)]\n",
    "\n",
    "#Assign independent variables to dataframe X\n",
    "X = pd.DataFrame(df_churn[[\"Population\",\"dummy_Suburban\",\"dummy_Urban\",\"Children\",\"Age\",\"Income\",\"dummy_One year\",\"dummy_Two Year\",\"Port_modem\",\"Outage_sec_perweek\",\"OnlineBackup\",\"StreamingTV\",\"StreamingMovies\",\"Tenure\",\"MonthlyCharge\"]])\n",
    "\n",
    "#Add constant to regression model\n",
    "X = sm.add_constant(X)\n",
    "\n",
    "#Assign dependent variable (Bandwidth_GB_Year) to dataframe y\n",
    "y = pd.DataFrame(df_churn[[\"Bandwidth_GB_Year\"]])\n",
    "\n",
    "#Run multiple linear regression model\n",
    "mdl_initial = sm.OLS(y, X).fit()\n",
    "\n",
    "#Print results of regression\n",
    "print(mdl_initial.summary())"
   ]
  },
  {
   "cell_type": "markdown",
   "id": "a5ac7878-f4a1-41c1-860b-557e30e76cc2",
   "metadata": {},
   "source": [
    "### Model Reduction "
   ]
  },
  {
   "cell_type": "code",
   "execution_count": 16,
   "id": "acadf76e-55f5-4e82-aab9-14e8e13a6ad3",
   "metadata": {},
   "outputs": [
    {
     "name": "stdout",
     "output_type": "stream",
     "text": [
      "               feature        VIF\n",
      "0           Population   1.446931\n",
      "1       dummy_Suburban   1.950691\n",
      "2          dummy_Urban   1.946850\n",
      "3             Children   1.905455\n",
      "4                  Age   6.660254\n",
      "5               Income   2.874223\n",
      "6       dummy_One year   1.375000\n",
      "7       dummy_Two Year   1.439851\n",
      "8           Port_modem   1.903563\n",
      "9   Outage_sec_perweek   9.759777\n",
      "10        OnlineBackup   2.152764\n",
      "11         StreamingTV   3.085446\n",
      "12     StreamingMovies   3.584116\n",
      "13              Tenure   2.620867\n",
      "14       MonthlyCharge  30.663539\n"
     ]
    }
   ],
   "source": [
    "#Assign independent variables to dataframe X\n",
    "X = pd.DataFrame(df_churn[[\"Population\",\"dummy_Suburban\",\"dummy_Urban\",\"Children\",\"Age\",\"Income\",\"dummy_One year\",\"dummy_Two Year\",\"Port_modem\",\"Outage_sec_perweek\",\"OnlineBackup\",\"StreamingTV\",\"StreamingMovies\",\"Tenure\",\"MonthlyCharge\"]])\n",
    "\n",
    "#Create VIF dataframe [In-text citation: GeeksforGeeks]\n",
    "vif_data = pd.DataFrame()\n",
    "vif_data[\"feature\"] = X.columns\n",
    "\n",
    "#Calculate VIF for each independent variable\n",
    "vif_data[\"VIF\"] = [variance_inflation_factor(X.values, i) for i in range(len(X.columns))]\n",
    "\n",
    "#print VIF data\n",
    "print(vif_data)"
   ]
  },
  {
   "cell_type": "code",
   "execution_count": 17,
   "id": "00846c09-8bd7-4793-ac60-adf2cc80f123",
   "metadata": {},
   "outputs": [
    {
     "name": "stdout",
     "output_type": "stream",
     "text": [
      "               feature       VIF\n",
      "0           Population  1.438758\n",
      "1       dummy_Suburban  1.911255\n",
      "2          dummy_Urban  1.901632\n",
      "3             Children  1.882061\n",
      "4                  Age  5.933914\n",
      "5               Income  2.781405\n",
      "6       dummy_One year  1.362977\n",
      "7       dummy_Two Year  1.427496\n",
      "8           Port_modem  1.880992\n",
      "9   Outage_sec_perweek  7.768865\n",
      "10        OnlineBackup  1.775575\n",
      "11         StreamingTV  1.912008\n",
      "12     StreamingMovies  1.905778\n",
      "13              Tenure  2.571060\n"
     ]
    }
   ],
   "source": [
    "#Remove MonthlyCharge (VIF = 30.663539)\n",
    "X = pd.DataFrame(df_churn[[\"Population\",\"dummy_Suburban\",\"dummy_Urban\",\"Children\",\"Age\",\"Income\",\"dummy_One year\",\"dummy_Two Year\",\"Port_modem\",\"Outage_sec_perweek\",\"OnlineBackup\",\"StreamingTV\",\"StreamingMovies\",\"Tenure\"]])\n",
    "\n",
    "#Create VIF dataframe [In-text citation: GeeksforGeeks]\n",
    "vif_data = pd.DataFrame()\n",
    "vif_data[\"feature\"] = X.columns\n",
    "\n",
    "#Calculate VIF for each independent variable\n",
    "vif_data[\"VIF\"] = [variance_inflation_factor(X.values, i) for i in range(len(X.columns))]\n",
    "\n",
    "#print VIF data\n",
    "print(vif_data)"
   ]
  },
  {
   "cell_type": "code",
   "execution_count": 18,
   "id": "23588b2a-e455-477f-8ad8-a43e3215cff6",
   "metadata": {},
   "outputs": [
    {
     "name": "stdout",
     "output_type": "stream",
     "text": [
      "                            OLS Regression Results                            \n",
      "==============================================================================\n",
      "Dep. Variable:      Bandwidth_GB_Year   R-squared:                       0.991\n",
      "Model:                            OLS   Adj. R-squared:                  0.991\n",
      "Method:                 Least Squares   F-statistic:                 7.451e+04\n",
      "Date:                Tue, 30 Jan 2024   Prob (F-statistic):               0.00\n",
      "Time:                        19:38:14   Log-Likelihood:                -67792.\n",
      "No. Observations:               10000   AIC:                         1.356e+05\n",
      "Df Residuals:                    9985   BIC:                         1.357e+05\n",
      "Df Model:                          14                                         \n",
      "Covariance Type:            nonrobust                                         \n",
      "======================================================================================\n",
      "                         coef    std err          t      P>|t|      [0.025      0.975]\n",
      "--------------------------------------------------------------------------------------\n",
      "const                406.6627     11.722     34.692      0.000     383.685     429.640\n",
      "Population          8.351e-05      0.000      0.566      0.572      -0.000       0.000\n",
      "dummy_Suburban         3.5675      5.215      0.684      0.494      -6.654      13.789\n",
      "dummy_Urban            3.1481      5.223      0.603      0.547      -7.090      13.386\n",
      "Children              30.4176      0.993     30.642      0.000      28.472      32.363\n",
      "Age                   -3.2968      0.103    -32.018      0.000      -3.499      -3.095\n",
      "Income                 0.0001   7.55e-05      1.599      0.110   -2.73e-05       0.000\n",
      "dummy_One year         4.7433      5.469      0.867      0.386      -5.978      15.465\n",
      "dummy_Two Year         5.4456      5.189      1.050      0.294      -4.725      15.616\n",
      "Port_modem            -1.4630      4.263     -0.343      0.731      -9.819       6.893\n",
      "Outage_sec_perweek    -0.2984      0.716     -0.417      0.677      -1.702       1.105\n",
      "OnlineBackup          94.8001      4.282     22.140      0.000      86.407     103.193\n",
      "StreamingTV          230.7034      4.261     54.140      0.000     222.351     239.056\n",
      "StreamingMovies      213.8117      4.261     50.175      0.000     205.459     222.165\n",
      "Tenure                81.9576      0.081   1016.942      0.000      81.800      82.116\n",
      "==============================================================================\n",
      "Omnibus:                     7144.203   Durbin-Watson:                   1.959\n",
      "Prob(Omnibus):                  0.000   Jarque-Bera (JB):             1030.382\n",
      "Skew:                           0.525   Prob(JB):                    1.80e-224\n",
      "Kurtosis:                       1.830   Cond. No.                     2.79e+05\n",
      "==============================================================================\n",
      "\n",
      "Notes:\n",
      "[1] Standard Errors assume that the covariance matrix of the errors is correctly specified.\n",
      "[2] The condition number is large, 2.79e+05. This might indicate that there are\n",
      "strong multicollinearity or other numerical problems.\n"
     ]
    }
   ],
   "source": [
    "#Iterate on initial model, remove MonthlyCharge and check p-values\n",
    "\n",
    "#Assign independent variables to dataframe X\n",
    "X = pd.DataFrame(df_churn[[\"Population\",\"dummy_Suburban\",\"dummy_Urban\",\"Children\",\"Age\",\"Income\",\"dummy_One year\",\"dummy_Two Year\",\"Port_modem\",\"Outage_sec_perweek\",\"OnlineBackup\",\"StreamingTV\",\"StreamingMovies\",\"Tenure\"]])\n",
    "\n",
    "#Add constant to regression model\n",
    "X = sm.add_constant(X)\n",
    "\n",
    "#Assign dependent variable (Bandwidth_GB_Year) to dataframe y\n",
    "y = pd.DataFrame(df_churn[[\"Bandwidth_GB_Year\"]])\n",
    "\n",
    "#Run multiple linear regression model\n",
    "mdl_iteration = sm.OLS(y, X).fit()\n",
    "\n",
    "#Print results of regression\n",
    "print(mdl_iteration.summary())"
   ]
  },
  {
   "cell_type": "code",
   "execution_count": 19,
   "id": "ff85f4f0-3dc3-41c7-a68d-8cb27b8c8409",
   "metadata": {},
   "outputs": [
    {
     "name": "stdout",
     "output_type": "stream",
     "text": [
      "                            OLS Regression Results                            \n",
      "==============================================================================\n",
      "Dep. Variable:      Bandwidth_GB_Year   R-squared:                       0.991\n",
      "Model:                            OLS   Adj. R-squared:                  0.991\n",
      "Method:                 Least Squares   F-statistic:                 8.025e+04\n",
      "Date:                Tue, 30 Jan 2024   Prob (F-statistic):               0.00\n",
      "Time:                        19:38:14   Log-Likelihood:                -67792.\n",
      "No. Observations:               10000   AIC:                         1.356e+05\n",
      "Df Residuals:                    9986   BIC:                         1.357e+05\n",
      "Df Model:                          13                                         \n",
      "Covariance Type:            nonrobust                                         \n",
      "======================================================================================\n",
      "                         coef    std err          t      P>|t|      [0.025      0.975]\n",
      "--------------------------------------------------------------------------------------\n",
      "const                405.9764     11.550     35.151      0.000     383.337     428.616\n",
      "Population          8.308e-05      0.000      0.563      0.574      -0.000       0.000\n",
      "dummy_Suburban         3.5730      5.214      0.685      0.493      -6.649      13.794\n",
      "dummy_Urban            3.1644      5.222      0.606      0.545      -7.073      13.402\n",
      "Children              30.4136      0.993     30.641      0.000      28.468      32.359\n",
      "Age                   -3.2971      0.103    -32.022      0.000      -3.499      -3.095\n",
      "Income                 0.0001   7.55e-05      1.604      0.109   -2.69e-05       0.000\n",
      "dummy_One year         4.7657      5.469      0.871      0.384      -5.954      15.486\n",
      "dummy_Two Year         5.4502      5.188      1.050      0.294      -4.720      15.620\n",
      "Outage_sec_perweek    -0.2999      0.716     -0.419      0.675      -1.703       1.103\n",
      "OnlineBackup          94.8036      4.282     22.142      0.000      86.411     103.197\n",
      "StreamingTV          230.7034      4.261     54.142      0.000     222.351     239.056\n",
      "StreamingMovies      213.8037      4.261     50.176      0.000     205.451     222.156\n",
      "Tenure                81.9574      0.081   1017.022      0.000      81.799      82.115\n",
      "==============================================================================\n",
      "Omnibus:                     7136.482   Durbin-Watson:                   1.959\n",
      "Prob(Omnibus):                  0.000   Jarque-Bera (JB):             1030.453\n",
      "Skew:                           0.525   Prob(JB):                    1.74e-224\n",
      "Kurtosis:                       1.830   Cond. No.                     2.75e+05\n",
      "==============================================================================\n",
      "\n",
      "Notes:\n",
      "[1] Standard Errors assume that the covariance matrix of the errors is correctly specified.\n",
      "[2] The condition number is large, 2.75e+05. This might indicate that there are\n",
      "strong multicollinearity or other numerical problems.\n"
     ]
    }
   ],
   "source": [
    "#Continue iterating on model, remove Port_modem and check p-values again\n",
    "\n",
    "#Assign independent variables to dataframe X\n",
    "X = pd.DataFrame(df_churn[[\"Population\",\"dummy_Suburban\",\"dummy_Urban\",\"Children\",\"Age\",\"Income\",\"dummy_One year\",\"dummy_Two Year\",\"Outage_sec_perweek\",\"OnlineBackup\",\"StreamingTV\",\"StreamingMovies\",\"Tenure\"]])\n",
    "\n",
    "#Add constant to regression model\n",
    "X = sm.add_constant(X)\n",
    "\n",
    "#Assign dependent variable (Bandwidth_GB_Year) to dataframe y\n",
    "y = pd.DataFrame(df_churn[[\"Bandwidth_GB_Year\"]])\n",
    "\n",
    "#Run multiple linear regression model\n",
    "mdl_iteration = sm.OLS(y, X).fit()\n",
    "\n",
    "#Print results of regression\n",
    "print(mdl_iteration.summary())"
   ]
  },
  {
   "cell_type": "code",
   "execution_count": 20,
   "id": "1fffb245-deb5-4349-93cf-63bdd5d81e48",
   "metadata": {},
   "outputs": [
    {
     "name": "stdout",
     "output_type": "stream",
     "text": [
      "                            OLS Regression Results                            \n",
      "==============================================================================\n",
      "Dep. Variable:      Bandwidth_GB_Year   R-squared:                       0.991\n",
      "Model:                            OLS   Adj. R-squared:                  0.991\n",
      "Method:                 Least Squares   F-statistic:                 8.694e+04\n",
      "Date:                Tue, 30 Jan 2024   Prob (F-statistic):               0.00\n",
      "Time:                        19:38:14   Log-Likelihood:                -67792.\n",
      "No. Observations:               10000   AIC:                         1.356e+05\n",
      "Df Residuals:                    9987   BIC:                         1.357e+05\n",
      "Df Model:                          12                                         \n",
      "Covariance Type:            nonrobust                                         \n",
      "===================================================================================\n",
      "                      coef    std err          t      P>|t|      [0.025      0.975]\n",
      "-----------------------------------------------------------------------------------\n",
      "const             402.9893      9.086     44.355      0.000     385.180     420.799\n",
      "Population       8.276e-05      0.000      0.561      0.575      -0.000       0.000\n",
      "dummy_Suburban      3.5608      5.214      0.683      0.495      -6.660      13.782\n",
      "dummy_Urban         3.1631      5.222      0.606      0.545      -7.074      13.400\n",
      "Children           30.4129      0.993     30.642      0.000      28.467      32.358\n",
      "Age                -3.2967      0.103    -32.021      0.000      -3.499      -3.095\n",
      "Income              0.0001   7.55e-05      1.609      0.108   -2.66e-05       0.000\n",
      "dummy_One year      4.7686      5.469      0.872      0.383      -5.951      15.488\n",
      "dummy_Two Year      5.4197      5.188      1.045      0.296      -4.749      15.588\n",
      "OnlineBackup       94.8027      4.282     22.142      0.000      86.410     103.195\n",
      "StreamingTV       230.6871      4.261     54.143      0.000     222.335     239.039\n",
      "StreamingMovies   213.7709      4.260     50.179      0.000     205.420     222.122\n",
      "Tenure             81.9573      0.081   1017.067      0.000      81.799      82.115\n",
      "==============================================================================\n",
      "Omnibus:                     7145.415   Durbin-Watson:                   1.959\n",
      "Prob(Omnibus):                  0.000   Jarque-Bera (JB):             1030.887\n",
      "Skew:                           0.526   Prob(JB):                    1.40e-224\n",
      "Kurtosis:                       1.830   Cond. No.                     2.26e+05\n",
      "==============================================================================\n",
      "\n",
      "Notes:\n",
      "[1] Standard Errors assume that the covariance matrix of the errors is correctly specified.\n",
      "[2] The condition number is large, 2.26e+05. This might indicate that there are\n",
      "strong multicollinearity or other numerical problems.\n"
     ]
    }
   ],
   "source": [
    "#Continue iterating on model, remove Outage_sec_perweek and check p-values again\n",
    "\n",
    "#Assign independent variables to dataframe X\n",
    "X = pd.DataFrame(df_churn[[\"Population\",\"dummy_Suburban\",\"dummy_Urban\",\"Children\",\"Age\",\"Income\",\"dummy_One year\",\"dummy_Two Year\",\"OnlineBackup\",\"StreamingTV\",\"StreamingMovies\",\"Tenure\"]])\n",
    "\n",
    "#Add constant to regression model\n",
    "X = sm.add_constant(X)\n",
    "\n",
    "#Assign dependent variable (Bandwidth_GB_Year) to dataframe y\n",
    "y = pd.DataFrame(df_churn[[\"Bandwidth_GB_Year\"]])\n",
    "\n",
    "#Run multiple linear regression model\n",
    "mdl_iteration = sm.OLS(y, X).fit()\n",
    "\n",
    "#Print results of regression\n",
    "print(mdl_iteration.summary())"
   ]
  },
  {
   "cell_type": "code",
   "execution_count": 21,
   "id": "87a409aa-33b4-4d61-834c-66530a30ad3a",
   "metadata": {},
   "outputs": [
    {
     "name": "stdout",
     "output_type": "stream",
     "text": [
      "                            OLS Regression Results                            \n",
      "==============================================================================\n",
      "Dep. Variable:      Bandwidth_GB_Year   R-squared:                       0.991\n",
      "Model:                            OLS   Adj. R-squared:                  0.991\n",
      "Method:                 Least Squares   F-statistic:                 9.486e+04\n",
      "Date:                Tue, 30 Jan 2024   Prob (F-statistic):               0.00\n",
      "Time:                        19:38:14   Log-Likelihood:                -67792.\n",
      "No. Observations:               10000   AIC:                         1.356e+05\n",
      "Df Residuals:                    9988   BIC:                         1.357e+05\n",
      "Df Model:                          11                                         \n",
      "Covariance Type:            nonrobust                                         \n",
      "===================================================================================\n",
      "                      coef    std err          t      P>|t|      [0.025      0.975]\n",
      "-----------------------------------------------------------------------------------\n",
      "const             403.7859      8.973     44.998      0.000     386.196     421.376\n",
      "dummy_Suburban      3.5819      5.214      0.687      0.492      -6.638      13.802\n",
      "dummy_Urban         3.1465      5.222      0.603      0.547      -7.090      13.383\n",
      "Children           30.4097      0.992     30.640      0.000      28.464      32.355\n",
      "Age                -3.2961      0.103    -32.018      0.000      -3.498      -3.094\n",
      "Income              0.0001   7.55e-05      1.604      0.109   -2.69e-05       0.000\n",
      "dummy_One year      4.7522      5.468      0.869      0.385      -5.967      15.471\n",
      "dummy_Two Year      5.4669      5.187      1.054      0.292      -4.700      15.634\n",
      "OnlineBackup       94.8282      4.281     22.150      0.000      86.436     103.220\n",
      "StreamingTV       230.6713      4.260     54.142      0.000     222.320     239.023\n",
      "StreamingMovies   213.7565      4.260     50.179      0.000     205.406     222.107\n",
      "Tenure             81.9571      0.081   1017.109      0.000      81.799      82.115\n",
      "==============================================================================\n",
      "Omnibus:                     7154.019   Durbin-Watson:                   1.959\n",
      "Prob(Omnibus):                  0.000   Jarque-Bera (JB):             1031.061\n",
      "Skew:                           0.526   Prob(JB):                    1.28e-224\n",
      "Kurtosis:                       1.830   Cond. No.                     2.21e+05\n",
      "==============================================================================\n",
      "\n",
      "Notes:\n",
      "[1] Standard Errors assume that the covariance matrix of the errors is correctly specified.\n",
      "[2] The condition number is large, 2.21e+05. This might indicate that there are\n",
      "strong multicollinearity or other numerical problems.\n"
     ]
    }
   ],
   "source": [
    "#Continue iterating on model, remove Population and check p-values again\n",
    "\n",
    "#Assign independent variables to dataframe X\n",
    "X = pd.DataFrame(df_churn[[\"dummy_Suburban\",\"dummy_Urban\",\"Children\",\"Age\",\"Income\",\"dummy_One year\",\"dummy_Two Year\",\"OnlineBackup\",\"StreamingTV\",\"StreamingMovies\",\"Tenure\"]])\n",
    "\n",
    "#Add constant to regression model\n",
    "X = sm.add_constant(X)\n",
    "\n",
    "#Assign dependent variable (Bandwidth_GB_Year) to dataframe y\n",
    "y = pd.DataFrame(df_churn[[\"Bandwidth_GB_Year\"]])\n",
    "\n",
    "#Run multiple linear regression model\n",
    "mdl_iteration = sm.OLS(y, X).fit()\n",
    "\n",
    "#Print results of regression\n",
    "print(mdl_iteration.summary())"
   ]
  },
  {
   "cell_type": "code",
   "execution_count": 22,
   "id": "85ed242f-ba70-4343-a4f1-aafe338e66eb",
   "metadata": {},
   "outputs": [
    {
     "name": "stdout",
     "output_type": "stream",
     "text": [
      "                            OLS Regression Results                            \n",
      "==============================================================================\n",
      "Dep. Variable:      Bandwidth_GB_Year   R-squared:                       0.991\n",
      "Model:                            OLS   Adj. R-squared:                  0.991\n",
      "Method:                 Least Squares   F-statistic:                 1.043e+05\n",
      "Date:                Tue, 30 Jan 2024   Prob (F-statistic):               0.00\n",
      "Time:                        19:38:14   Log-Likelihood:                -67792.\n",
      "No. Observations:               10000   AIC:                         1.356e+05\n",
      "Df Residuals:                    9989   BIC:                         1.357e+05\n",
      "Df Model:                          10                                         \n",
      "Covariance Type:            nonrobust                                         \n",
      "===================================================================================\n",
      "                      coef    std err          t      P>|t|      [0.025      0.975]\n",
      "-----------------------------------------------------------------------------------\n",
      "const             405.3515      8.589     47.195      0.000     388.516     422.187\n",
      "dummy_Suburban      2.0088      4.513      0.445      0.656      -6.838      10.855\n",
      "Children           30.4052      0.992     30.638      0.000      28.460      32.350\n",
      "Age                -3.2954      0.103    -32.014      0.000      -3.497      -3.094\n",
      "Income              0.0001   7.55e-05      1.606      0.108   -2.68e-05       0.000\n",
      "dummy_One year      4.7495      5.468      0.869      0.385      -5.969      15.468\n",
      "dummy_Two Year      5.4527      5.186      1.051      0.293      -4.714      15.619\n",
      "OnlineBackup       94.8599      4.281     22.160      0.000      86.469     103.251\n",
      "StreamingTV       230.6515      4.260     54.141      0.000     222.301     239.002\n",
      "StreamingMovies   213.7596      4.260     50.181      0.000     205.410     222.110\n",
      "Tenure             81.9563      0.081   1017.278      0.000      81.798      82.114\n",
      "==============================================================================\n",
      "Omnibus:                     7172.405   Durbin-Watson:                   1.959\n",
      "Prob(Omnibus):                  0.000   Jarque-Bera (JB):             1031.304\n",
      "Skew:                           0.526   Prob(JB):                    1.14e-224\n",
      "Kurtosis:                       1.829   Cond. No.                     2.06e+05\n",
      "==============================================================================\n",
      "\n",
      "Notes:\n",
      "[1] Standard Errors assume that the covariance matrix of the errors is correctly specified.\n",
      "[2] The condition number is large, 2.06e+05. This might indicate that there are\n",
      "strong multicollinearity or other numerical problems.\n"
     ]
    }
   ],
   "source": [
    "#Continue iterating on model, remove dummy_Urban and check p-values again\n",
    "\n",
    "#Assign independent variables to dataframe X\n",
    "X = pd.DataFrame(df_churn[[\"dummy_Suburban\",\"Children\",\"Age\",\"Income\",\"dummy_One year\",\"dummy_Two Year\",\"OnlineBackup\",\"StreamingTV\",\"StreamingMovies\",\"Tenure\"]])\n",
    "\n",
    "#Add constant to regression model\n",
    "X = sm.add_constant(X)\n",
    "\n",
    "#Assign dependent variable (Bandwidth_GB_Year) to dataframe y\n",
    "y = pd.DataFrame(df_churn[[\"Bandwidth_GB_Year\"]])\n",
    "\n",
    "#Run multiple linear regression model\n",
    "mdl_iteration = sm.OLS(y, X).fit()\n",
    "\n",
    "#Print results of regression\n",
    "print(mdl_iteration.summary())"
   ]
  },
  {
   "cell_type": "code",
   "execution_count": 23,
   "id": "0822e286-3eb5-4d0f-811d-9ac609be58e5",
   "metadata": {},
   "outputs": [
    {
     "name": "stdout",
     "output_type": "stream",
     "text": [
      "                            OLS Regression Results                            \n",
      "==============================================================================\n",
      "Dep. Variable:      Bandwidth_GB_Year   R-squared:                       0.991\n",
      "Model:                            OLS   Adj. R-squared:                  0.991\n",
      "Method:                 Least Squares   F-statistic:                 1.160e+05\n",
      "Date:                Tue, 30 Jan 2024   Prob (F-statistic):               0.00\n",
      "Time:                        19:38:14   Log-Likelihood:                -67792.\n",
      "No. Observations:               10000   AIC:                         1.356e+05\n",
      "Df Residuals:                    9990   BIC:                         1.357e+05\n",
      "Df Model:                           9                                         \n",
      "Covariance Type:            nonrobust                                         \n",
      "===================================================================================\n",
      "                      coef    std err          t      P>|t|      [0.025      0.975]\n",
      "-----------------------------------------------------------------------------------\n",
      "const             406.0201      8.456     48.015      0.000     389.444     422.596\n",
      "Children           30.4036      0.992     30.637      0.000      28.458      32.349\n",
      "Age                -3.2951      0.103    -32.014      0.000      -3.497      -3.093\n",
      "Income              0.0001   7.55e-05      1.607      0.108   -2.67e-05       0.000\n",
      "dummy_One year      4.7341      5.468      0.866      0.387      -5.984      15.452\n",
      "dummy_Two Year      5.4672      5.186      1.054      0.292      -4.699      15.633\n",
      "OnlineBackup       94.8320      4.280     22.157      0.000      86.442     103.222\n",
      "StreamingTV       230.6579      4.260     54.145      0.000     222.307     239.008\n",
      "StreamingMovies   213.7708      4.260     50.186      0.000     205.421     222.120\n",
      "Tenure             81.9561      0.081   1017.326      0.000      81.798      82.114\n",
      "==============================================================================\n",
      "Omnibus:                     7179.166   Durbin-Watson:                   1.959\n",
      "Prob(Omnibus):                  0.000   Jarque-Bera (JB):             1031.379\n",
      "Skew:                           0.526   Prob(JB):                    1.09e-224\n",
      "Kurtosis:                       1.829   Cond. No.                     2.03e+05\n",
      "==============================================================================\n",
      "\n",
      "Notes:\n",
      "[1] Standard Errors assume that the covariance matrix of the errors is correctly specified.\n",
      "[2] The condition number is large, 2.03e+05. This might indicate that there are\n",
      "strong multicollinearity or other numerical problems.\n"
     ]
    }
   ],
   "source": [
    "#Continue iterating on model, remove dummy_Suburban and check p-values again\n",
    "\n",
    "#Assign independent variables to dataframe X\n",
    "X = pd.DataFrame(df_churn[[\"Children\",\"Age\",\"Income\",\"dummy_One year\",\"dummy_Two Year\",\"OnlineBackup\",\"StreamingTV\",\"StreamingMovies\",\"Tenure\"]])\n",
    "\n",
    "#Add constant to regression model\n",
    "X = sm.add_constant(X)\n",
    "\n",
    "#Assign dependent variable (Bandwidth_GB_Year) to dataframe y\n",
    "y = pd.DataFrame(df_churn[[\"Bandwidth_GB_Year\"]])\n",
    "\n",
    "#Run multiple linear regression model\n",
    "mdl_iteration = sm.OLS(y, X).fit()\n",
    "\n",
    "#Print results of regression\n",
    "print(mdl_iteration.summary())"
   ]
  },
  {
   "cell_type": "code",
   "execution_count": 24,
   "id": "72f10e44-81dc-4581-9add-5a79ff4940f2",
   "metadata": {},
   "outputs": [
    {
     "name": "stdout",
     "output_type": "stream",
     "text": [
      "                            OLS Regression Results                            \n",
      "==============================================================================\n",
      "Dep. Variable:      Bandwidth_GB_Year   R-squared:                       0.991\n",
      "Model:                            OLS   Adj. R-squared:                  0.991\n",
      "Method:                 Least Squares   F-statistic:                 1.304e+05\n",
      "Date:                Tue, 30 Jan 2024   Prob (F-statistic):               0.00\n",
      "Time:                        19:38:14   Log-Likelihood:                -67793.\n",
      "No. Observations:               10000   AIC:                         1.356e+05\n",
      "Df Residuals:                    9991   BIC:                         1.357e+05\n",
      "Df Model:                           8                                         \n",
      "Covariance Type:            nonrobust                                         \n",
      "===================================================================================\n",
      "                      coef    std err          t      P>|t|      [0.025      0.975]\n",
      "-----------------------------------------------------------------------------------\n",
      "const             407.3065      8.324     48.929      0.000     390.989     423.624\n",
      "Children           30.4184      0.992     30.657      0.000      28.473      32.363\n",
      "Age                -3.2958      0.103    -32.021      0.000      -3.498      -3.094\n",
      "Income              0.0001   7.55e-05      1.608      0.108   -2.66e-05       0.000\n",
      "dummy_Two Year      4.1487      4.957      0.837      0.403      -5.569      13.866\n",
      "OnlineBackup       94.8218      4.280     22.155      0.000      86.432     103.211\n",
      "StreamingTV       230.7455      4.259     54.181      0.000     222.397     239.094\n",
      "StreamingMovies   213.7565      4.259     50.184      0.000     205.407     222.106\n",
      "Tenure             81.9561      0.081   1017.339      0.000      81.798      82.114\n",
      "==============================================================================\n",
      "Omnibus:                     7166.908   Durbin-Watson:                   1.959\n",
      "Prob(Omnibus):                  0.000   Jarque-Bera (JB):             1031.278\n",
      "Skew:                           0.526   Prob(JB):                    1.15e-224\n",
      "Kurtosis:                       1.829   Cond. No.                     1.97e+05\n",
      "==============================================================================\n",
      "\n",
      "Notes:\n",
      "[1] Standard Errors assume that the covariance matrix of the errors is correctly specified.\n",
      "[2] The condition number is large, 1.97e+05. This might indicate that there are\n",
      "strong multicollinearity or other numerical problems.\n"
     ]
    }
   ],
   "source": [
    "#Continue iterating on model, remove dummy_One year and check p-values again\n",
    "\n",
    "#Assign independent variables to dataframe X\n",
    "X = pd.DataFrame(df_churn[[\"Children\",\"Age\",\"Income\",\"dummy_Two Year\",\"OnlineBackup\",\"StreamingTV\",\"StreamingMovies\",\"Tenure\"]])\n",
    "\n",
    "#Add constant to regression model\n",
    "X = sm.add_constant(X)\n",
    "\n",
    "#Assign dependent variable (Bandwidth_GB_Year) to dataframe y\n",
    "y = pd.DataFrame(df_churn[[\"Bandwidth_GB_Year\"]])\n",
    "\n",
    "#Run multiple linear regression model\n",
    "mdl_iteration = sm.OLS(y, X).fit()\n",
    "\n",
    "#Print results of regression\n",
    "print(mdl_iteration.summary())"
   ]
  },
  {
   "cell_type": "code",
   "execution_count": 25,
   "id": "4c310b1a-b3ea-495d-af3b-707134c0b4f0",
   "metadata": {},
   "outputs": [
    {
     "name": "stdout",
     "output_type": "stream",
     "text": [
      "                            OLS Regression Results                            \n",
      "==============================================================================\n",
      "Dep. Variable:      Bandwidth_GB_Year   R-squared:                       0.991\n",
      "Model:                            OLS   Adj. R-squared:                  0.991\n",
      "Method:                 Least Squares   F-statistic:                 1.491e+05\n",
      "Date:                Tue, 30 Jan 2024   Prob (F-statistic):               0.00\n",
      "Time:                        19:38:14   Log-Likelihood:                -67793.\n",
      "No. Observations:               10000   AIC:                         1.356e+05\n",
      "Df Residuals:                    9992   BIC:                         1.357e+05\n",
      "Df Model:                           7                                         \n",
      "Covariance Type:            nonrobust                                         \n",
      "===================================================================================\n",
      "                      coef    std err          t      P>|t|      [0.025      0.975]\n",
      "-----------------------------------------------------------------------------------\n",
      "const             408.3024      8.239     49.559      0.000     392.153     424.452\n",
      "Children           30.4330      0.992     30.677      0.000      28.488      32.378\n",
      "Age                -3.2964      0.103    -32.028      0.000      -3.498      -3.095\n",
      "Income              0.0001   7.55e-05      1.604      0.109   -2.69e-05       0.000\n",
      "OnlineBackup       94.8048      4.280     22.151      0.000      86.415     103.194\n",
      "StreamingTV       230.7525      4.259     54.184      0.000     222.405     239.100\n",
      "StreamingMovies   213.7316      4.259     50.180      0.000     205.383     222.081\n",
      "Tenure             81.9574      0.081   1017.570      0.000      81.800      82.115\n",
      "==============================================================================\n",
      "Omnibus:                     7168.691   Durbin-Watson:                   1.959\n",
      "Prob(Omnibus):                  0.000   Jarque-Bera (JB):             1031.176\n",
      "Skew:                           0.526   Prob(JB):                    1.21e-224\n",
      "Kurtosis:                       1.829   Cond. No.                     1.95e+05\n",
      "==============================================================================\n",
      "\n",
      "Notes:\n",
      "[1] Standard Errors assume that the covariance matrix of the errors is correctly specified.\n",
      "[2] The condition number is large, 1.95e+05. This might indicate that there are\n",
      "strong multicollinearity or other numerical problems.\n"
     ]
    }
   ],
   "source": [
    "#Continue iterating on model, remove dummy_Two Year and check p-values again\n",
    "\n",
    "#Assign independent variables to dataframe X\n",
    "X = pd.DataFrame(df_churn[[\"Children\",\"Age\",\"Income\",\"OnlineBackup\",\"StreamingTV\",\"StreamingMovies\",\"Tenure\"]])\n",
    "\n",
    "#Add constant to regression model\n",
    "X = sm.add_constant(X)\n",
    "\n",
    "#Assign dependent variable (Bandwidth_GB_Year) to dataframe y\n",
    "y = pd.DataFrame(df_churn[[\"Bandwidth_GB_Year\"]])\n",
    "\n",
    "#Run multiple linear regression model\n",
    "mdl_iteration = sm.OLS(y, X).fit()\n",
    "\n",
    "#Print results of regression\n",
    "print(mdl_iteration.summary())"
   ]
  },
  {
   "cell_type": "code",
   "execution_count": 26,
   "id": "a10d6eea-422d-4d04-bf67-df9687b95c08",
   "metadata": {},
   "outputs": [
    {
     "name": "stdout",
     "output_type": "stream",
     "text": [
      "                            OLS Regression Results                            \n",
      "==============================================================================\n",
      "Dep. Variable:      Bandwidth_GB_Year   R-squared:                       0.991\n",
      "Model:                            OLS   Adj. R-squared:                  0.991\n",
      "Method:                 Least Squares   F-statistic:                 1.739e+05\n",
      "Date:                Tue, 30 Jan 2024   Prob (F-statistic):               0.00\n",
      "Time:                        19:38:14   Log-Likelihood:                -67794.\n",
      "No. Observations:               10000   AIC:                         1.356e+05\n",
      "Df Residuals:                    9993   BIC:                         1.357e+05\n",
      "Df Model:                           6                                         \n",
      "Covariance Type:            nonrobust                                         \n",
      "===================================================================================\n",
      "                      coef    std err          t      P>|t|      [0.025      0.975]\n",
      "-----------------------------------------------------------------------------------\n",
      "const             413.1511      7.665     53.902      0.000     398.126     428.176\n",
      "Children           30.4486      0.992     30.692      0.000      28.504      32.393\n",
      "Age                -3.2970      0.103    -32.032      0.000      -3.499      -3.095\n",
      "OnlineBackup       94.7634      4.280     22.140      0.000      86.374     103.153\n",
      "StreamingTV       230.7298      4.259     54.175      0.000     222.381     239.078\n",
      "StreamingMovies   213.7166      4.260     50.173      0.000     205.367     222.066\n",
      "Tenure             81.9577      0.081   1017.496      0.000      81.800      82.116\n",
      "==============================================================================\n",
      "Omnibus:                     7277.296   Durbin-Watson:                   1.959\n",
      "Prob(Omnibus):                  0.000   Jarque-Bera (JB):             1033.109\n",
      "Skew:                           0.526   Prob(JB):                    4.61e-225\n",
      "Kurtosis:                       1.827   Cond. No.                         253.\n",
      "==============================================================================\n",
      "\n",
      "Notes:\n",
      "[1] Standard Errors assume that the covariance matrix of the errors is correctly specified.\n"
     ]
    }
   ],
   "source": [
    "#Continue iterating on model, remove Income and check p-values again\n",
    "\n",
    "#Assign independent variables to dataframe X\n",
    "X = pd.DataFrame(df_churn[[\"Children\",\"Age\",\"OnlineBackup\",\"StreamingTV\",\"StreamingMovies\",\"Tenure\"]])\n",
    "\n",
    "#Add constant to regression model\n",
    "X = sm.add_constant(X)\n",
    "\n",
    "#Assign dependent variable (Bandwidth_GB_Year) to dataframe y\n",
    "y = pd.DataFrame(df_churn[[\"Bandwidth_GB_Year\"]])\n",
    "\n",
    "#Run multiple linear regression model\n",
    "mdl_iteration = sm.OLS(y, X).fit()\n",
    "\n",
    "#Print results of regression\n",
    "print(mdl_iteration.summary())"
   ]
  },
  {
   "cell_type": "markdown",
   "id": "031c4e5d-f2cb-49a9-bbe2-c1370d2a7ef5",
   "metadata": {},
   "source": [
    "### Reduced Model"
   ]
  },
  {
   "cell_type": "code",
   "execution_count": 28,
   "id": "5f19f64f-4655-4217-9b67-60de45f25711",
   "metadata": {},
   "outputs": [
    {
     "name": "stdout",
     "output_type": "stream",
     "text": [
      "                            OLS Regression Results                            \n",
      "==============================================================================\n",
      "Dep. Variable:      Bandwidth_GB_Year   R-squared:                       0.991\n",
      "Model:                            OLS   Adj. R-squared:                  0.991\n",
      "Method:                 Least Squares   F-statistic:                 1.739e+05\n",
      "Date:                Tue, 30 Jan 2024   Prob (F-statistic):               0.00\n",
      "Time:                        19:38:15   Log-Likelihood:                -67794.\n",
      "No. Observations:               10000   AIC:                         1.356e+05\n",
      "Df Residuals:                    9993   BIC:                         1.357e+05\n",
      "Df Model:                           6                                         \n",
      "Covariance Type:            nonrobust                                         \n",
      "===================================================================================\n",
      "                      coef    std err          t      P>|t|      [0.025      0.975]\n",
      "-----------------------------------------------------------------------------------\n",
      "const             413.1511      7.665     53.902      0.000     398.126     428.176\n",
      "Children           30.4486      0.992     30.692      0.000      28.504      32.393\n",
      "Age                -3.2970      0.103    -32.032      0.000      -3.499      -3.095\n",
      "OnlineBackup       94.7634      4.280     22.140      0.000      86.374     103.153\n",
      "StreamingTV       230.7298      4.259     54.175      0.000     222.381     239.078\n",
      "StreamingMovies   213.7166      4.260     50.173      0.000     205.367     222.066\n",
      "Tenure             81.9577      0.081   1017.496      0.000      81.800      82.116\n",
      "==============================================================================\n",
      "Omnibus:                     7277.296   Durbin-Watson:                   1.959\n",
      "Prob(Omnibus):                  0.000   Jarque-Bera (JB):             1033.109\n",
      "Skew:                           0.526   Prob(JB):                    4.61e-225\n",
      "Kurtosis:                       1.827   Cond. No.                         253.\n",
      "==============================================================================\n",
      "\n",
      "Notes:\n",
      "[1] Standard Errors assume that the covariance matrix of the errors is correctly specified.\n"
     ]
    }
   ],
   "source": [
    "#Continue iterating on model, remove Income and check p-values again\n",
    "\n",
    "#Assign independent variables to dataframe X\n",
    "X = pd.DataFrame(df_churn[[\"Children\",\"Age\",\"OnlineBackup\",\"StreamingTV\",\"StreamingMovies\",\"Tenure\"]])\n",
    "\n",
    "#Add constant to regression model\n",
    "X = sm.add_constant(X)\n",
    "\n",
    "#Assign dependent variable (Bandwidth_GB_Year) to dataframe y\n",
    "y = pd.DataFrame(df_churn[[\"Bandwidth_GB_Year\"]])\n",
    "\n",
    "#Run multiple linear regression model\n",
    "mdl_reduced = sm.OLS(y, X).fit()\n",
    "\n",
    "#Print results of regression\n",
    "print(mdl_reduced.summary())"
   ]
  },
  {
   "cell_type": "markdown",
   "id": "2c165ef1-119c-4b4a-b444-112b445b2e10",
   "metadata": {},
   "source": [
    "### Residual Plot"
   ]
  },
  {
   "cell_type": "code",
   "execution_count": 30,
   "id": "c8dd1df7-8d1b-40ae-936f-8d9afdd7eeba",
   "metadata": {},
   "outputs": [
    {
     "name": "stdout",
     "output_type": "stream",
     "text": [
      "0      -149.843210\n",
      "1       -92.843021\n",
      "2       179.721248\n",
      "3       248.075866\n",
      "4      -235.684753\n",
      "           ...    \n",
      "9995    398.540805\n",
      "9996     -8.961244\n",
      "9997   -106.982030\n",
      "9998   -117.840687\n",
      "9999      5.729408\n",
      "Length: 10000, dtype: float64\n"
     ]
    }
   ],
   "source": [
    "#Assign independent variables to ind_variables\n",
    "X = pd.DataFrame(df_churn[[\"Children\",\"Age\",\"OnlineBackup\",\"StreamingTV\",\"StreamingMovies\",\"Tenure\"]])\n",
    "\n",
    "#Add constant\n",
    "X = sm.add_constant(X)\n",
    "\n",
    "#Generate predictions using sklearn.predict().  [In-text citation: (Ebner, 2022)]\n",
    "Predicted_Bandwidth_GB_Year = mdl_reduced.predict(X)\n",
    "\n",
    "#Calculate residuals\n",
    "residuals = df_churn[\"Bandwidth_GB_Year\"] - Predicted_Bandwidth_GB_Year\n",
    "print(residuals)"
   ]
  },
  {
   "cell_type": "code",
   "execution_count": 31,
   "id": "4e49a249-0736-43d2-acfa-1d8fff27abea",
   "metadata": {},
   "outputs": [
    {
     "data": {
      "text/plain": [
       "Text(0, 0.5, 'Residuals')"
      ]
     },
     "execution_count": 31,
     "metadata": {},
     "output_type": "execute_result"
    },
    {
     "data": {
      "image/png": "[encoded data removed]",
      "text/plain": [
       "<Figure size 432x288 with 1 Axes>"
      ]
     },
     "metadata": {
      "needs_background": "light"
     },
     "output_type": "display_data"
    }
   ],
   "source": [
    "sns.regplot(y=residuals, x=Predicted_Bandwidth_GB_Year)\n",
    "plt.title(\"Predicted Bandwidth_GB_Year vs. Residuals\")\n",
    "plt.xlabel(\"Predicted_Bandwidth_GB_Year\")\n",
    "plt.ylabel(\"Residuals\")"
   ]
  },
  {
   "cell_type": "markdown",
   "id": "c3c61473-f559-46c6-8dfa-d61b9934d773",
   "metadata": {},
   "source": [
    "### Residual Standard Error"
   ]
  },
  {
   "cell_type": "code",
   "execution_count": 61,
   "id": "4da7dd20-9870-498c-8572-19115e174fb4",
   "metadata": {},
   "outputs": [
    {
     "name": "stdout",
     "output_type": "stream",
     "text": [
      "Reduced Model Residual Standard Error: 212.90385030731335\n"
     ]
    }
   ],
   "source": [
    "#Calculate mean squared error of initial model\n",
    "mse_reduced = mdl_reduced.mse_resid\n",
    "\n",
    "#Calculate residual standard error using mse\n",
    "rse_reduced = np.sqrt(mse_reduced)\n",
    "print(\"Reduced Model Residual Standard Error: \" + str(rse_reduced))"
   ]
  }
 ],
 "metadata": {
  "kernelspec": {
   "display_name": "anaconda-2022.05-py39",
   "language": "python",
   "name": "conda-env-anaconda-2022.05-py39-py"
  },
  "language_info": {
   "codemirror_mode": {
    "name": "ipython",
    "version": 3
   },
   "file_extension": ".py",
   "mimetype": "text/x-python",
   "name": "python",
   "nbconvert_exporter": "python",
   "pygments_lexer": "ipython3",
   "version": "3.9.12"
  }
 },
 "nbformat": 4,
 "nbformat_minor": 5
}
