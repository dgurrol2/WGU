{
 "cells": [
  {
   "cell_type": "markdown",
   "id": "eedba445-742d-4d90-b82c-58203947de70",
   "metadata": {},
   "source": [
    "## A1.  \n",
    "\n",
    "One of the challenges that many telecommunications companies face is customer retention.  Customers commonly change providers for various reasons ranging from affordability to wider service offerings.  In this analysis we will ask \"What factors are most responsible for customer churn?\".  The independent variables below will be used in the analysis.\n",
    "\n",
    "<ul>\n",
    "    <li>Outage_sec_perweek</li>\n",
    "    <li>Contacts</li>\n",
    "    <li>Yearly_equip_failure</li>\n",
    "    <li>Tenure</li>\n",
    "    <li>MonthlyCharge</li>\n",
    "    <li>Contract</li>\n",
    "    <li>InternetService</li>\n",
    "    <li>TechSupport</li>\n",
    "    <li>Item1</li>\n",
    "    <li>Item2</li>\n",
    "    <li>Item3</li>\n",
    "    <li>Item4</li>\n",
    "</ul>\n",
    "\n",
    "## A2.\n",
    "\n",
    "The goal of this analysis is to determine which factors have the most influence on customer churn.  The telecommunications company will use this information to retain customers and prevent them seeking out competitors."
   ]
  },
  {
   "cell_type": "markdown",
   "id": "7f8da8c9-2e02-4467-b075-6dcb6781374d",
   "metadata": {},
   "source": [
    "## B1. \n",
    "\n",
    "&nbsp;&nbsp;&nbsp;&nbsp;&nbsp;Logistic regression is one of the most useful tools for predicting binary outcomes.  In order to do this effectively, the model makes several assumptions.  These assumptions are independence of observations, absence of multicollinearity in independent variables, absence of extreme outliers, and a linear relationship between independent variables and the logit of the dependent variable (Statology, 2020).  \n",
    "\n",
    "&nbsp;&nbsp;&nbsp;&nbsp;&nbsp;Two of these assumptions, independence of observations and absence of extreme outliers, are very straightforward.  Independence of observations means that the each data point in the dataset must be unrelated.  Absence of extreme outliers is required to prevent the results of a regression from being skewed. \n",
    "\n",
    "&nbsp;&nbsp;&nbsp;&nbsp;&nbsp;Lack of multicollinearity in the independent variables is a another critical component of logistic regression.  Multicollinearity occurs when there is high correlation between multiple independent variables.  If this is not dealt with, it can cause the regression model to make unreliable predictions. \n",
    "\n",
    "&nbsp;&nbsp;&nbsp;&nbsp;&nbsp;The last assumption is that there is a linear relationship between the independent variables and the logit of the dependent variable.  The logit, or log odds, is the logarithm of the odds of the probability of an event occurring.  This is important because the goal of logistic regression is to predict a binary outcome. \n"
   ]
  },
  {
   "cell_type": "markdown",
   "id": "2c266297-c8be-4674-9c27-8be7a0ae27f3",
   "metadata": {},
   "source": [
    "## B2.\n",
    "\n",
    "&nbsp;&nbsp;&nbsp;&nbsp;&nbsp;For this analysis, I will be using Python to perform multiple logistic regression. Python is one of the most popular tools for predictive modeling and machine learning.  One of the benefits of this language is the wide variety of libraries.  I plan on using several libraries throughout the different phases of the analysis.  Pandas will be used to import and manipulate data from the \"churn_clean\" csv file.  Numpy will be used to perform statistical calculations.  Seaborn and Matplotlib will be used to generate visualizations for each of the variables.  Lastly, Scikit-learn will be used to develop the logistic regression model.\n",
    "\n",
    "&nbsp;&nbsp;&nbsp;&nbsp;&nbsp;Another benefit of python is its speed.  Although R has the advantage of being specialized towards data science, Python is able to render data at a much faster speed (Turing).  This should prove very useful when performing the complex calculations required for logistic regression. "
   ]
  },
  {
   "cell_type": "markdown",
   "id": "76d47f3c-5488-4871-887a-f78ded84a79d",
   "metadata": {},
   "source": [
    "## B3. \n",
    "\n",
    "&nbsp;&nbsp;&nbsp;&nbsp;&nbsp;Multiple logistic regression is the appropriate technique for this analysis because it can be used to analyze the relationship between independent variables and a dependent categorical variable (Walwadkar, 2022).  This method is effective because the dependent variable, \"churn\", has only two possible values, \"Yes\" and \"No\".  Multiple logistic regression will allow us to utilize a variety of continuous and categorical variables to predict a binary outcome.  "
   ]
  },
  {
   "cell_type": "markdown",
   "id": "93a54c6b-3b39-476d-8c13-aba67ef97b7b",
   "metadata": {},
   "source": [
    "## C1.\n",
    "\n",
    "&nbsp;&nbsp;&nbsp;&nbsp;&nbsp;Before performing the regression analysis, the data must be sufficiently cleaned.  This process will involve the detection treatment of duplicates, missing values, and outliers, as well as the re-expression of categorical variables.  The churn data has been imported into a python variable named \"df_churn\".\n",
    "\n",
    "&nbsp;&nbsp;&nbsp;&nbsp;&nbsp;The first part of the data cleaning process is to detect duplicates, missing values, and outliers.  To identify duplicates in \"df_churn\", I combined the \"duplicated()\" and \"value_counts()” methods from the pandas library.  The resulting output indicated that there were no duplicate rows found in the dataset.\n",
    "\n",
    "&nbsp;&nbsp;&nbsp;&nbsp;&nbsp;To detect missing values, I used the \"isnull()\" function from pandas, along with the \"sum()\" function on \"df_churn\".  The output shows that there were 2,129 missing values in the InternetService variable.  Lastly, I detected outliers by generating boxplots for each quantitative variable.  This was done using the \"boxplot()\" function from the seaborn library.   The resulting output showed that there were outliers in \"Population\", \"Children\", \"Income\", \"Outage_sec_perweek\", \"Email\", \"Contacts\", and \"Yearly_equip_failure\".  To supplement the boxplots, I created a function called \"boxplot_info()\".  This function accepts a variable from df_churn as an input and provides a detailed output of boxplot and outlier information.\n",
    "\n",
    "&nbsp;&nbsp;&nbsp;&nbsp;&nbsp;The next step in the data cleaning process is to treat the data quality issues mentioned previously.  Duplicates do not need to be treated because they are not present in the dataset. To treat the missing values in \"InternetService\" I used the \"fillna()\" method and imputed missing values with the mode.  This was done because \"InternetService\" is a categorical variable.\n",
    "\n",
    "&nbsp;&nbsp;&nbsp;&nbsp;&nbsp;After reviewing the boxplots for each numerical variable, I chose to retain all outliers.  This was because the values were plausible and not extreme enough to exclude.  I do not believe that retaining these values will violate the outlier assumption in B1.  I also did not want to reduce the sample size or potentially introduce bias into the dataset.  \n",
    "\n",
    "&nbsp;&nbsp;&nbsp;&nbsp;&nbsp;Please see the annotated below, which was used to detect and treat data quality issues."
   ]
  },
  {
   "cell_type": "code",
   "execution_count": 1,
   "id": "1380612a-cef1-4650-a1f5-ac416dc4e99d",
   "metadata": {},
   "outputs": [],
   "source": [
    "import pandas as pd\n",
    "import numpy as np\n",
    "import seaborn as sns\n",
    "import matplotlib.pyplot as plt\n",
    "import statsmodels.api as sm\n",
    "import statsmodels.stats.outliers_influence as inf\n",
    "from scipy import stats\n",
    "from statsmodels.stats.outliers_influence import variance_inflation_factor\n",
    "from sklearn.metrics import confusion_matrix\n",
    "from sklearn.metrics import accuracy_score\n",
    "\n",
    "df_churn = pd.read_csv('churn_clean.csv')"
   ]
  },
  {
   "cell_type": "code",
   "execution_count": 2,
   "id": "a302fb88-14c5-48b6-b0f2-2c2212a64322",
   "metadata": {},
   "outputs": [
    {
     "name": "stdout",
     "output_type": "stream",
     "text": [
      "False    10000\n",
      "dtype: int64\n"
     ]
    }
   ],
   "source": [
    "#Detect duplicate rows in df_churn \n",
    "print(df_churn.duplicated().value_counts())"
   ]
  },
  {
   "cell_type": "code",
   "execution_count": 3,
   "id": "3a4fe498-a355-467c-bffa-e2e242e1991c",
   "metadata": {},
   "outputs": [
    {
     "data": {
      "text/plain": [
       "CaseOrder               0\n",
       "Customer_id             0\n",
       "Interaction             0\n",
       "UID                     0\n",
       "City                    0\n",
       "State                   0\n",
       "County                  0\n",
       "Zip                     0\n",
       "Lat                     0\n",
       "Lng                     0\n",
       "Population              0\n",
       "Area                    0\n",
       "TimeZone                0\n",
       "Job                     0\n",
       "Children                0\n",
       "Age                     0\n",
       "Income                  0\n",
       "Marital                 0\n",
       "Gender                  0\n",
       "Churn                   0\n",
       "Outage_sec_perweek      0\n",
       "Email                   0\n",
       "Contacts                0\n",
       "Yearly_equip_failure    0\n",
       "Techie                  0\n",
       "Contract                0\n",
       "Port_modem              0\n",
       "Tablet                  0\n",
       "InternetService         0\n",
       "Phone                   0\n",
       "Multiple                0\n",
       "OnlineSecurity          0\n",
       "OnlineBackup            0\n",
       "DeviceProtection        0\n",
       "TechSupport             0\n",
       "StreamingTV             0\n",
       "StreamingMovies         0\n",
       "PaperlessBilling        0\n",
       "PaymentMethod           0\n",
       "Tenure                  0\n",
       "MonthlyCharge           0\n",
       "Bandwidth_GB_Year       0\n",
       "Item1                   0\n",
       "Item2                   0\n",
       "Item3                   0\n",
       "Item4                   0\n",
       "Item5                   0\n",
       "Item6                   0\n",
       "Item7                   0\n",
       "Item8                   0\n",
       "dtype: int64"
      ]
     },
     "execution_count": 3,
     "metadata": {},
     "output_type": "execute_result"
    }
   ],
   "source": [
    "#Detect missing values in df_churn\n",
    "df_churn.isnull().sum()"
   ]
  },
  {
   "cell_type": "code",
   "execution_count": 4,
   "id": "e6dfcd61-9e14-45d2-a86c-d713a7aada00",
   "metadata": {},
   "outputs": [],
   "source": [
    "#Create function to provide boxplot information\n",
    "def boxplot_info(input):\n",
    "\n",
    "    #obtain values of column and ignore nulls \n",
    "    data = input.dropna().values\n",
    "    \n",
    "    #generate q1 and q3 using pandas.DataFrame.quantile.  [In-text citation: (Pandas documentation)]\n",
    "    q1 = input.quantile(0.25)\n",
    "    print(\"Q1: \" + str(q1))\n",
    "    q3 = input.quantile(0.75)\n",
    "    print(\"Q3: \" + str(q3))\n",
    "    \n",
    "    #Calculate interquartile range for boxplot by subtracting Q1 from Q3\n",
    "    iqr = q3 - q1\n",
    "    print(\"IQR: \" + str(iqr))\n",
    "    \n",
    "    #Calculate whisker values of boxplot. \n",
    "    whisker_lower = q1 - (1.5 * iqr)\n",
    "    print(\"Lower Whisker: \" + str(whisker_lower))\n",
    "    whisker_upper = q3 + (1.5 * iqr)\n",
    "    print(\"Upper Whisker: \" + str(whisker_upper))\n",
    "    \n",
    "     #Find number of outliers outside of Q1 and Q3.  Print total number of outliers in column.  \n",
    "    outliers_min = (input < whisker_lower).sum()\n",
    "    print(\"Number of outliers lower than boxplot minimum: \" + str(outliers_min))\n",
    "    outliers_max = (input > whisker_upper).sum()\n",
    "    print(\"Number of outliers greater than boxplot maximum: \" + str(outliers_max))\n",
    "    outliers_total = outliers_min + outliers_max\n",
    "    print(\"Total number of Outliers: \" + str(outliers_total))\n",
    "    max_outlier = max(data)\n",
    "    print(\"Highest Outlier: \" + str(max_outlier))\n",
    "    min_outlier = min(data)\n",
    "    print(\"Lowest Outlier: \" + str(min_outlier))"
   ]
  },
  {
   "cell_type": "code",
   "execution_count": 5,
   "id": "5b5bd0b3-31e0-4f16-bff5-ee63c56f3aca",
   "metadata": {},
   "outputs": [
    {
     "name": "stdout",
     "output_type": "stream",
     "text": [
      "Q1: 738.0\n",
      "Q3: 13168.0\n",
      "IQR: 12430.0\n",
      "Lower Whisker: -17907.0\n",
      "Upper Whisker: 31813.0\n",
      "Number of outliers lower than boxplot minimum: 0\n",
      "Number of outliers greater than boxplot maximum: 937\n",
      "Total number of Outliers: 937\n",
      "Highest Outlier: 111850\n",
      "Lowest Outlier: 0\n"
     ]
    },
    {
     "data": {
      "image/png": "[encoded data removed]",
      "text/plain": [
       "<Figure size 640x480 with 1 Axes>"
      ]
     },
     "metadata": {},
     "output_type": "display_data"
    }
   ],
   "source": [
    "#Detect outliers in Population variable\n",
    "population_boxplot = sns.boxplot(x=\"Population\", data = df_churn).set_title(\"Population\")\n",
    "\n",
    "#Generate boxplot info for Population using boxplot_info function\n",
    "boxplot_info(df_churn['Population'])"
   ]
  },
  {
   "cell_type": "code",
   "execution_count": 6,
   "id": "6c4e90d1-a1cc-4128-bbcf-414a75ed4077",
   "metadata": {},
   "outputs": [
    {
     "name": "stdout",
     "output_type": "stream",
     "text": [
      "Q1: 0.0\n",
      "Q3: 3.0\n",
      "IQR: 3.0\n",
      "Lower Whisker: -4.5\n",
      "Upper Whisker: 7.5\n",
      "Number of outliers lower than boxplot minimum: 0\n",
      "Number of outliers greater than boxplot maximum: 401\n",
      "Total number of Outliers: 401\n",
      "Highest Outlier: 10\n",
      "Lowest Outlier: 0\n"
     ]
    },
    {
     "data": {
      "image/png": "[encoded data removed]",
      "text/plain": [
       "<Figure size 640x480 with 1 Axes>"
      ]
     },
     "metadata": {},
     "output_type": "display_data"
    }
   ],
   "source": [
    "#Detect outliers in Children variable\n",
    "population_boxplot = sns.boxplot(x=\"Children\", data = df_churn).set_title(\"Children\")\n",
    "\n",
    "#Generate boxplot info for Children using boxplot_info function\n",
    "boxplot_info(df_churn['Children'])"
   ]
  },
  {
   "cell_type": "code",
   "execution_count": 7,
   "id": "c8451a60-de5b-406f-bf23-3bf380e761b3",
   "metadata": {},
   "outputs": [
    {
     "name": "stdout",
     "output_type": "stream",
     "text": [
      "Q1: 35.0\n",
      "Q3: 71.0\n",
      "IQR: 36.0\n",
      "Lower Whisker: -19.0\n",
      "Upper Whisker: 125.0\n",
      "Number of outliers lower than boxplot minimum: 0\n",
      "Number of outliers greater than boxplot maximum: 0\n",
      "Total number of Outliers: 0\n",
      "Highest Outlier: 89\n",
      "Lowest Outlier: 18\n"
     ]
    },
    {
     "data": {
      "image/png": "[encoded data removed]",
      "text/plain": [
       "<Figure size 640x480 with 1 Axes>"
      ]
     },
     "metadata": {},
     "output_type": "display_data"
    }
   ],
   "source": [
    "#Detect outliers in Age variable\n",
    "population_boxplot = sns.boxplot(x=\"Age\", data = df_churn).set_title(\"Age\")\n",
    "\n",
    "#Generate boxplot info for Population using boxplot_info function\n",
    "boxplot_info(df_churn['Age'])"
   ]
  },
  {
   "cell_type": "code",
   "execution_count": 8,
   "id": "6ce09620-1df7-47a5-bd8e-0e67c3341362",
   "metadata": {},
   "outputs": [
    {
     "name": "stdout",
     "output_type": "stream",
     "text": [
      "Q1: 19224.7175\n",
      "Q3: 53246.17\n",
      "IQR: 34021.4525\n",
      "Lower Whisker: -31807.46125\n",
      "Upper Whisker: 104278.34875\n",
      "Number of outliers lower than boxplot minimum: 0\n",
      "Number of outliers greater than boxplot maximum: 336\n",
      "Total number of Outliers: 336\n",
      "Highest Outlier: 258900.7\n",
      "Lowest Outlier: 348.67\n"
     ]
    },
    {
     "data": {
      "image/png": "[encoded data removed]",
      "text/plain": [
       "<Figure size 640x480 with 1 Axes>"
      ]
     },
     "metadata": {},
     "output_type": "display_data"
    }
   ],
   "source": [
    "#Generate boxplot for Income variable\n",
    "income_boxplot = sns.boxplot(x=\"Income\", data = df_churn).set_title(\"Income\")\n",
    "\n",
    "#Generate boxplot info using boxplot_info() function\n",
    "boxplot_info(df_churn['Income'])"
   ]
  },
  {
   "cell_type": "code",
   "execution_count": 9,
   "id": "5b60c0a5-0208-4cae-a2f6-066e4b91786e",
   "metadata": {},
   "outputs": [
    {
     "name": "stdout",
     "output_type": "stream",
     "text": [
      "Q1: 8.018214\n",
      "Q3: 11.969485\n",
      "IQR: 3.951271\n",
      "Lower Whisker: 2.0913075\n",
      "Upper Whisker: 17.8963915\n",
      "Number of outliers lower than boxplot minimum: 33\n",
      "Number of outliers greater than boxplot maximum: 43\n",
      "Total number of Outliers: 76\n",
      "Highest Outlier: 21.20723\n",
      "Lowest Outlier: 0.09974694\n"
     ]
    },
    {
     "data": {
      "image/png": "[encoded data removed]",
      "text/plain": [
       "<Figure size 640x480 with 1 Axes>"
      ]
     },
     "metadata": {},
     "output_type": "display_data"
    }
   ],
   "source": [
    "#Generate boxplot for Outage_sec_perweek variable\n",
    "outage_boxplot = sns.boxplot(x=\"Outage_sec_perweek\", data = df_churn).set_title(\"Outage_sec_perweek\")\n",
    "\n",
    "#Generate boxplot info using boxplot_info() function\n",
    "boxplot_info(df_churn['Outage_sec_perweek'])"
   ]
  },
  {
   "cell_type": "code",
   "execution_count": 10,
   "id": "d03cd0dd-b32d-4591-b2c5-7353129b9914",
   "metadata": {},
   "outputs": [
    {
     "name": "stdout",
     "output_type": "stream",
     "text": [
      "Q1: 10.0\n",
      "Q3: 14.0\n",
      "IQR: 4.0\n",
      "Lower Whisker: 4.0\n",
      "Upper Whisker: 20.0\n",
      "Number of outliers lower than boxplot minimum: 23\n",
      "Number of outliers greater than boxplot maximum: 15\n",
      "Total number of Outliers: 38\n",
      "Highest Outlier: 23\n",
      "Lowest Outlier: 1\n"
     ]
    },
    {
     "data": {
      "image/png": "[encoded data removed]",
      "text/plain": [
       "<Figure size 640x480 with 1 Axes>"
      ]
     },
     "metadata": {},
     "output_type": "display_data"
    }
   ],
   "source": [
    "#Generate boxplot for Email variable\n",
    "email_boxplot = sns.boxplot(x=\"Email\", data = df_churn).set_title(\"Email\")\n",
    "\n",
    "#Generate boxplot info using boxplot_info() function\n",
    "boxplot_info(df_churn['Email'])"
   ]
  },
  {
   "cell_type": "code",
   "execution_count": 11,
   "id": "90ae5211-3a72-401a-91dd-2684baf22d43",
   "metadata": {},
   "outputs": [
    {
     "name": "stdout",
     "output_type": "stream",
     "text": [
      "Q1: 0.0\n",
      "Q3: 2.0\n",
      "IQR: 2.0\n",
      "Lower Whisker: -3.0\n",
      "Upper Whisker: 5.0\n",
      "Number of outliers lower than boxplot minimum: 0\n",
      "Number of outliers greater than boxplot maximum: 8\n",
      "Total number of Outliers: 8\n",
      "Highest Outlier: 7\n",
      "Lowest Outlier: 0\n"
     ]
    },
    {
     "data": {
      "image/png": "[encoded data removed]",
      "text/plain": [
       "<Figure size 640x480 with 1 Axes>"
      ]
     },
     "metadata": {},
     "output_type": "display_data"
    }
   ],
   "source": [
    "#Generate boxplot for Contacts variable\n",
    "Contacts_boxplot = sns.boxplot(x=\"Contacts\", data = df_churn).set_title(\"Contacts\")\n",
    "\n",
    "#Generate boxplot info using boxplot_info() function\n",
    "boxplot_info(df_churn['Contacts'])"
   ]
  },
  {
   "cell_type": "code",
   "execution_count": 12,
   "id": "2f50d7a3-6326-40b3-9927-47970542599b",
   "metadata": {},
   "outputs": [
    {
     "name": "stdout",
     "output_type": "stream",
     "text": [
      "Q1: 0.0\n",
      "Q3: 1.0\n",
      "IQR: 1.0\n",
      "Lower Whisker: -1.5\n",
      "Upper Whisker: 2.5\n",
      "Number of outliers lower than boxplot minimum: 0\n",
      "Number of outliers greater than boxplot maximum: 94\n",
      "Total number of Outliers: 94\n",
      "Highest Outlier: 6\n",
      "Lowest Outlier: 0\n"
     ]
    },
    {
     "data": {
      "image/png": "[encoded data removed]",
      "text/plain": [
       "<Figure size 640x480 with 1 Axes>"
      ]
     },
     "metadata": {},
     "output_type": "display_data"
    }
   ],
   "source": [
    "#Generate boxplot for Yearly_equip_failure variable\n",
    "failure_boxplot = sns.boxplot(x=\"Yearly_equip_failure\", data = df_churn).set_title(\"Yearly_equip_failure\")\n",
    "\n",
    "#Generate boxplot info using boxplot_info() function\n",
    "boxplot_info(df_churn['Yearly_equip_failure'])"
   ]
  },
  {
   "cell_type": "code",
   "execution_count": 13,
   "id": "7478fe3e-4eb3-4b4f-94e9-914209238702",
   "metadata": {},
   "outputs": [
    {
     "name": "stdout",
     "output_type": "stream",
     "text": [
      "Q1: 7.91769359175\n",
      "Q3: 61.479795\n",
      "IQR: 53.56210140825\n",
      "Lower Whisker: -72.42545852062501\n",
      "Upper Whisker: 141.822947112375\n",
      "Number of outliers lower than boxplot minimum: 0\n",
      "Number of outliers greater than boxplot maximum: 0\n",
      "Total number of Outliers: 0\n",
      "Highest Outlier: 71.99928\n",
      "Lowest Outlier: 1.00025934\n"
     ]
    },
    {
     "data": {
      "image/png": "[encoded data removed]",
      "text/plain": [
       "<Figure size 640x480 with 1 Axes>"
      ]
     },
     "metadata": {},
     "output_type": "display_data"
    }
   ],
   "source": [
    "#Generate boxplot for Tenure variable\n",
    "tenure_boxplot = sns.boxplot(x=\"Tenure\", data = df_churn).set_title(\"Tenure\")\n",
    "\n",
    "#Generate boxplot info using boxplot_info() function\n",
    "boxplot_info(df_churn['Tenure'])"
   ]
  },
  {
   "cell_type": "code",
   "execution_count": 14,
   "id": "0cb0fa48-d6b3-411e-9271-0f23b8c62e5b",
   "metadata": {},
   "outputs": [
    {
     "name": "stdout",
     "output_type": "stream",
     "text": [
      "Q1: 139.979239\n",
      "Q3: 200.734725\n",
      "IQR: 60.75548599999999\n",
      "Lower Whisker: 48.84601000000002\n",
      "Upper Whisker: 291.867954\n",
      "Number of outliers lower than boxplot minimum: 0\n",
      "Number of outliers greater than boxplot maximum: 0\n",
      "Total number of Outliers: 0\n",
      "Highest Outlier: 290.160419\n",
      "Lowest Outlier: 79.97886\n"
     ]
    },
    {
     "data": {
      "image/png": "[encoded data removed]",
      "text/plain": [
       "<Figure size 640x480 with 1 Axes>"
      ]
     },
     "metadata": {},
     "output_type": "display_data"
    }
   ],
   "source": [
    "#Generate boxplot for MonthlyCharge variable\n",
    "MonthlyCharge_boxplot = sns.boxplot(x=\"MonthlyCharge\", data = df_churn).set_title(\"MonthlyCharge\")\n",
    "\n",
    "#Generate boxplot info using boxplot_info() function\n",
    "boxplot_info(df_churn['MonthlyCharge'])"
   ]
  },
  {
   "cell_type": "code",
   "execution_count": 15,
   "id": "d7a5818a-7c74-471d-91ea-70e8b24b46a6",
   "metadata": {},
   "outputs": [
    {
     "name": "stdout",
     "output_type": "stream",
     "text": [
      "Q1: 1236.470827\n",
      "Q3: 5586.1413695\n",
      "IQR: 4349.6705425\n",
      "Lower Whisker: -5288.03498675\n",
      "Upper Whisker: 12110.64718325\n",
      "Number of outliers lower than boxplot minimum: 0\n",
      "Number of outliers greater than boxplot maximum: 0\n",
      "Total number of Outliers: 0\n",
      "Highest Outlier: 7158.98153\n",
      "Lowest Outlier: 155.5067148\n"
     ]
    },
    {
     "data": {
      "image/png": "[encoded data removed]",
      "text/plain": [
       "<Figure size 640x480 with 1 Axes>"
      ]
     },
     "metadata": {},
     "output_type": "display_data"
    }
   ],
   "source": [
    "#Generate boxplot for Bandwidth_GB_Year variable\n",
    "bandwidth_boxplot = sns.boxplot(x=\"Bandwidth_GB_Year\", data = df_churn).set_title(\"Bandwidth_GB_Year\")\n",
    "\n",
    "#Generate boxplot info using boxplot_info() function\n",
    "boxplot_info(df_churn['Bandwidth_GB_Year'])"
   ]
  },
  {
   "cell_type": "code",
   "execution_count": 16,
   "id": "ff659375-da06-42cd-9dd8-ef4634bdf367",
   "metadata": {},
   "outputs": [],
   "source": [
    "#Treat missing values in InternetService with mode imputation\n",
    "df_churn['InternetService'] = df_churn['InternetService'].fillna(df_churn['InternetService'].mode()[0])"
   ]
  },
  {
   "cell_type": "markdown",
   "id": "65a9ae3a-1175-4af4-a14c-b5bff65f294c",
   "metadata": {},
   "source": [
    "## C2. \n",
    "\n",
    "Please see the summary statistics for the dependent and independent variables below.  For the numerical variables, I used the \"describe()\" method to obtain basic information such as the mean and standard deviation.  For the categorical variables, I used the \"value_counts()\" method and multiplied by 100 to obtain percentages for category.  "
   ]
  },
  {
   "cell_type": "markdown",
   "id": "c7417284-706f-468e-a4e7-06aaa8613108",
   "metadata": {},
   "source": [
    "<ul>\n",
    "    <li>Outage_sec_perweek</li>\n",
    "    <li>Contacts</li>\n",
    "    <li>Yearly_equip_failure</li>\n",
    "    <li>Tenure</li>\n",
    "    <li>MonthlyCharge</li>\n",
    "    <li>Contract</li>\n",
    "    <li>InternetService</li>\n",
    "    <li>TechSupport</li>\n",
    "    <li>Item1</li>\n",
    "    <li>Item2</li>\n",
    "    <li>Item3</li>\n",
    "    <li>Item4</li>\n",
    "</ul>"
   ]
  },
  {
   "cell_type": "code",
   "execution_count": 17,
   "id": "7c486a01-2736-4c0a-9655-90f69c5f076f",
   "metadata": {},
   "outputs": [
    {
     "data": {
      "text/plain": [
       "No     73.5\n",
       "Yes    26.5\n",
       "Name: Churn, dtype: float64"
      ]
     },
     "execution_count": 17,
     "metadata": {},
     "output_type": "execute_result"
    }
   ],
   "source": [
    "#Describe dependent variable, Churn, using percentages for categories\n",
    "df_churn['Churn'].value_counts(normalize = True) * 100 "
   ]
  },
  {
   "cell_type": "code",
   "execution_count": 18,
   "id": "315ae976-c6e4-47c9-95d7-c37a7b87d566",
   "metadata": {},
   "outputs": [
    {
     "data": {
      "text/plain": [
       "Month-to-month    54.56\n",
       "Two Year          24.42\n",
       "One year          21.02\n",
       "Name: Contract, dtype: float64"
      ]
     },
     "execution_count": 18,
     "metadata": {},
     "output_type": "execute_result"
    }
   ],
   "source": [
    "#Describe independent variable, Contract, using percentages for categories\n",
    "df_churn['Contract'].value_counts(normalize = True) * 100 "
   ]
  },
  {
   "cell_type": "code",
   "execution_count": 19,
   "id": "cd5d1444-031b-4e59-ae8c-af7544a83b65",
   "metadata": {},
   "outputs": [
    {
     "data": {
      "text/plain": [
       "Fiber Optic    44.08\n",
       "DSL            34.63\n",
       "None           21.29\n",
       "Name: InternetService, dtype: float64"
      ]
     },
     "execution_count": 19,
     "metadata": {},
     "output_type": "execute_result"
    }
   ],
   "source": [
    "#Describe independent variable, InternetService, using percentages for categories\n",
    "df_churn['InternetService'].value_counts(normalize = True) * 100 "
   ]
  },
  {
   "cell_type": "code",
   "execution_count": 20,
   "id": "f8f4211e-c1b3-416e-970d-547862203489",
   "metadata": {},
   "outputs": [
    {
     "data": {
      "text/plain": [
       "No     62.5\n",
       "Yes    37.5\n",
       "Name: TechSupport, dtype: float64"
      ]
     },
     "execution_count": 20,
     "metadata": {},
     "output_type": "execute_result"
    }
   ],
   "source": [
    "#Describe independent variable, TechSupport, using percentages for categories\n",
    "df_churn['TechSupport'].value_counts(normalize = True) * 100 "
   ]
  },
  {
   "cell_type": "code",
   "execution_count": 21,
   "id": "c1a83a19-940a-4085-bdb1-a3f52eca90e8",
   "metadata": {},
   "outputs": [
    {
     "data": {
      "text/plain": [
       "3    34.48\n",
       "4    33.58\n",
       "2    13.93\n",
       "5    13.59\n",
       "1     2.24\n",
       "6     1.99\n",
       "7     0.19\n",
       "Name: Item1, dtype: float64"
      ]
     },
     "execution_count": 21,
     "metadata": {},
     "output_type": "execute_result"
    }
   ],
   "source": [
    "#Describe independent variable, Item1, using percentages for categories\n",
    "df_churn['Item1'].value_counts(normalize = True) * 100 "
   ]
  },
  {
   "cell_type": "code",
   "execution_count": 22,
   "id": "f7d5f22d-1bb0-429e-ad24-2c3dc2b97add",
   "metadata": {},
   "outputs": [
    {
     "data": {
      "text/plain": [
       "3    34.15\n",
       "4    34.12\n",
       "5    13.68\n",
       "2    13.60\n",
       "1     2.17\n",
       "6     2.15\n",
       "7     0.13\n",
       "Name: Item2, dtype: float64"
      ]
     },
     "execution_count": 22,
     "metadata": {},
     "output_type": "execute_result"
    }
   ],
   "source": [
    "#Describe independent variable, Item2, using percentages for categories\n",
    "df_churn['Item2'].value_counts(normalize = True) * 100 "
   ]
  },
  {
   "cell_type": "code",
   "execution_count": 23,
   "id": "b6220b98-bf1a-4875-8616-a9e60de7ad23",
   "metadata": {},
   "outputs": [
    {
     "data": {
      "text/plain": [
       "3    34.35\n",
       "4    34.10\n",
       "2    14.24\n",
       "5    13.13\n",
       "6     2.03\n",
       "1     2.02\n",
       "7     0.12\n",
       "8     0.01\n",
       "Name: Item3, dtype: float64"
      ]
     },
     "execution_count": 23,
     "metadata": {},
     "output_type": "execute_result"
    }
   ],
   "source": [
    "#Describe independent variable, Item3, using percentages for categories\n",
    "df_churn['Item3'].value_counts(normalize = True) * 100 "
   ]
  },
  {
   "cell_type": "code",
   "execution_count": 24,
   "id": "ace60a97-f0a1-415c-99c0-9b805a478df2",
   "metadata": {},
   "outputs": [
    {
     "data": {
      "text/plain": [
       "4    34.52\n",
       "3    34.30\n",
       "2    13.50\n",
       "5    13.35\n",
       "1     2.21\n",
       "6     2.03\n",
       "7     0.09\n",
       "Name: Item4, dtype: float64"
      ]
     },
     "execution_count": 24,
     "metadata": {},
     "output_type": "execute_result"
    }
   ],
   "source": [
    "#Describe independent variable, Item4, using percentages for categories\n",
    "df_churn['Item4'].value_counts(normalize = True) * 100 "
   ]
  },
  {
   "cell_type": "code",
   "execution_count": 25,
   "id": "58aed14d-7769-4dc0-b2ec-8d3f7250dfa5",
   "metadata": {},
   "outputs": [
    {
     "data": {
      "text/plain": [
       "count    10000.000000\n",
       "mean        10.001848\n",
       "std          2.976019\n",
       "min          0.099747\n",
       "25%          8.018214\n",
       "50%         10.018560\n",
       "75%         11.969485\n",
       "max         21.207230\n",
       "Name: Outage_sec_perweek, dtype: float64"
      ]
     },
     "execution_count": 25,
     "metadata": {},
     "output_type": "execute_result"
    }
   ],
   "source": [
    "#Describe independent variable, Outage_sec_perweek\n",
    "df_churn['Outage_sec_perweek'].describe()"
   ]
  },
  {
   "cell_type": "code",
   "execution_count": 26,
   "id": "64aaf742-0555-4285-ace7-a98915699c99",
   "metadata": {},
   "outputs": [
    {
     "data": {
      "text/plain": [
       "count    10000.000000\n",
       "mean         0.994200\n",
       "std          0.988466\n",
       "min          0.000000\n",
       "25%          0.000000\n",
       "50%          1.000000\n",
       "75%          2.000000\n",
       "max          7.000000\n",
       "Name: Contacts, dtype: float64"
      ]
     },
     "execution_count": 26,
     "metadata": {},
     "output_type": "execute_result"
    }
   ],
   "source": [
    "#Describe independent variable, Contacts\n",
    "df_churn['Contacts'].describe()"
   ]
  },
  {
   "cell_type": "code",
   "execution_count": 27,
   "id": "29f2fd1b-43cc-4323-a34b-70ac8cd773d1",
   "metadata": {},
   "outputs": [
    {
     "data": {
      "text/plain": [
       "count    10000.000000\n",
       "mean         0.398000\n",
       "std          0.635953\n",
       "min          0.000000\n",
       "25%          0.000000\n",
       "50%          0.000000\n",
       "75%          1.000000\n",
       "max          6.000000\n",
       "Name: Yearly_equip_failure, dtype: float64"
      ]
     },
     "execution_count": 27,
     "metadata": {},
     "output_type": "execute_result"
    }
   ],
   "source": [
    "#Describe independent variable, Yearly_equip_failure\n",
    "df_churn['Yearly_equip_failure'].describe()"
   ]
  },
  {
   "cell_type": "code",
   "execution_count": 28,
   "id": "f1ef8590-237a-4ff5-9b3e-ed6bab0f7e26",
   "metadata": {},
   "outputs": [
    {
     "data": {
      "text/plain": [
       "count    10000.000000\n",
       "mean        34.526188\n",
       "std         26.443063\n",
       "min          1.000259\n",
       "25%          7.917694\n",
       "50%         35.430507\n",
       "75%         61.479795\n",
       "max         71.999280\n",
       "Name: Tenure, dtype: float64"
      ]
     },
     "execution_count": 28,
     "metadata": {},
     "output_type": "execute_result"
    }
   ],
   "source": [
    "#Describe independent variable, Tenure\n",
    "df_churn['Tenure'].describe()"
   ]
  },
  {
   "cell_type": "code",
   "execution_count": 29,
   "id": "f0350b87-a1df-4914-8f15-664d6a10f6c0",
   "metadata": {},
   "outputs": [
    {
     "data": {
      "text/plain": [
       "count    10000.000000\n",
       "mean       172.624816\n",
       "std         42.943094\n",
       "min         79.978860\n",
       "25%        139.979239\n",
       "50%        167.484700\n",
       "75%        200.734725\n",
       "max        290.160419\n",
       "Name: MonthlyCharge, dtype: float64"
      ]
     },
     "execution_count": 29,
     "metadata": {},
     "output_type": "execute_result"
    }
   ],
   "source": [
    "#Describe independent variable, MonthlyCharge\n",
    "df_churn['MonthlyCharge'].describe()"
   ]
  },
  {
   "cell_type": "markdown",
   "id": "187cff5f-0d0d-428f-84a2-50c4b7c90abd",
   "metadata": {},
   "source": [
    "## C3.\n",
    "\n",
    "&nbsp;&nbsp;&nbsp;&nbsp;&nbsp;Please see univariate and bivariate visualizations of dependent and independent variables below.  I generated histograms for the univariate visualizations, boxplots for continuous bivariate visualizations, and crosstabulations for categorical bivariate visualizations.  The dependent variable \"Churn\" is included in all bivariate visualizations. "
   ]
  },
  {
   "cell_type": "code",
   "execution_count": 30,
   "id": "e00f16c0-956b-4f52-9a4f-4d1b9ff9a2b0",
   "metadata": {},
   "outputs": [
    {
     "data": {
      "text/plain": [
       "Text(0.5, 1.0, 'Churn - Dependent Variable')"
      ]
     },
     "execution_count": 30,
     "metadata": {},
     "output_type": "execute_result"
    },
    {
     "data": {
      "image/png": "[encoded data removed]",
      "text/plain": [
       "<Figure size 640x480 with 1 Axes>"
      ]
     },
     "metadata": {},
     "output_type": "display_data"
    }
   ],
   "source": [
    "#Univariate distribution of dependent variable, Churn\n",
    "plt.hist(df_churn['Churn'])\n",
    "plt.title('Churn - Dependent Variable')"
   ]
  },
  {
   "cell_type": "code",
   "execution_count": 31,
   "id": "d9733ea8-818b-4fe9-b108-1935bee4ff4a",
   "metadata": {},
   "outputs": [
    {
     "data": {
      "text/plain": [
       "Text(0.5, 1.0, 'Outage_sec_perweek - Independent Variable')"
      ]
     },
     "execution_count": 31,
     "metadata": {},
     "output_type": "execute_result"
    },
    {
     "data": {
      "image/png": "[encoded data removed]",
      "text/plain": [
       "<Figure size 640x480 with 1 Axes>"
      ]
     },
     "metadata": {},
     "output_type": "display_data"
    }
   ],
   "source": [
    "#Univariate distribution of dependent variable, Outage_sec_perweek\n",
    "plt.hist(df_churn['Outage_sec_perweek'])\n",
    "plt.title('Outage_sec_perweek - Independent Variable')"
   ]
  },
  {
   "cell_type": "code",
   "execution_count": 32,
   "id": "35ab5b88-a633-4070-8334-0d2237405ba2",
   "metadata": {},
   "outputs": [
    {
     "data": {
      "text/plain": [
       "<Axes: xlabel='Churn', ylabel='Outage_sec_perweek'>"
      ]
     },
     "execution_count": 32,
     "metadata": {},
     "output_type": "execute_result"
    },
    {
     "data": {
      "image/png": "[encoded data removed]",
      "text/plain": [
       "<Figure size 640x480 with 1 Axes>"
      ]
     },
     "metadata": {},
     "output_type": "display_data"
    }
   ],
   "source": [
    "# Bivariate distribution between Outage_sec_perweek and Churn\n",
    "sns.boxplot(x=\"Churn\", y=\"Outage_sec_perweek\", data = df_churn)"
   ]
  },
  {
   "cell_type": "code",
   "execution_count": 33,
   "id": "3d811b32-c4bf-409f-970c-100427e1613d",
   "metadata": {},
   "outputs": [
    {
     "data": {
      "text/plain": [
       "Text(0.5, 1.0, 'Contacts - Independent Variable')"
      ]
     },
     "execution_count": 33,
     "metadata": {},
     "output_type": "execute_result"
    },
    {
     "data": {
      "image/png": "[encoded data removed]",
      "text/plain": [
       "<Figure size 640x480 with 1 Axes>"
      ]
     },
     "metadata": {},
     "output_type": "display_data"
    }
   ],
   "source": [
    "#Univariate distribution of Independent variable, Contacts\n",
    "plt.hist(df_churn['Contacts'])\n",
    "plt.title('Contacts - Independent Variable')"
   ]
  },
  {
   "cell_type": "code",
   "execution_count": 34,
   "id": "b8f52868-cab2-4c5c-939b-bfd522793bce",
   "metadata": {},
   "outputs": [
    {
     "data": {
      "text/plain": [
       "<Axes: xlabel='Churn', ylabel='Contacts'>"
      ]
     },
     "execution_count": 34,
     "metadata": {},
     "output_type": "execute_result"
    },
    {
     "data": {
      "image/png": "[encoded data removed]",
      "text/plain": [
       "<Figure size 640x480 with 1 Axes>"
      ]
     },
     "metadata": {},
     "output_type": "display_data"
    }
   ],
   "source": [
    "# Bivariate distribution between Contacts and Churn\n",
    "sns.boxplot(x=\"Churn\", y=\"Contacts\", data = df_churn)"
   ]
  },
  {
   "cell_type": "code",
   "execution_count": 35,
   "id": "3480c056-f76c-4663-8011-789b76421833",
   "metadata": {},
   "outputs": [
    {
     "data": {
      "text/plain": [
       "Text(0.5, 1.0, 'Yearly_equip_failure - Inependent Variable')"
      ]
     },
     "execution_count": 35,
     "metadata": {},
     "output_type": "execute_result"
    },
    {
     "data": {
      "image/png": "[encoded data removed]",
      "text/plain": [
       "<Figure size 640x480 with 1 Axes>"
      ]
     },
     "metadata": {},
     "output_type": "display_data"
    }
   ],
   "source": [
    "#Univariate distribution of independent variable, Yearly_equip_failure\n",
    "plt.hist(df_churn['Yearly_equip_failure'])\n",
    "plt.title('Yearly_equip_failure - Inependent Variable')"
   ]
  },
  {
   "cell_type": "code",
   "execution_count": 36,
   "id": "bc69fdce-9144-473b-94ff-3076a17293bc",
   "metadata": {},
   "outputs": [
    {
     "data": {
      "text/plain": [
       "<Axes: xlabel='Churn', ylabel='Yearly_equip_failure'>"
      ]
     },
     "execution_count": 36,
     "metadata": {},
     "output_type": "execute_result"
    },
    {
     "data": {
      "image/png": "[encoded data removed]",
      "text/plain": [
       "<Figure size 640x480 with 1 Axes>"
      ]
     },
     "metadata": {},
     "output_type": "display_data"
    }
   ],
   "source": [
    "# Bivariate distribution between Yearly_equip_failure and Churn\n",
    "sns.boxplot(x=\"Churn\", y=\"Yearly_equip_failure\", data = df_churn)"
   ]
  },
  {
   "cell_type": "code",
   "execution_count": 37,
   "id": "a81954ab-f3dd-4bd9-b821-3f01a4fc2fa7",
   "metadata": {},
   "outputs": [
    {
     "data": {
      "text/plain": [
       "Text(0.5, 1.0, 'Tenure - Independent Variable')"
      ]
     },
     "execution_count": 37,
     "metadata": {},
     "output_type": "execute_result"
    },
    {
     "data": {
      "image/png": "[encoded data removed]",
      "text/plain": [
       "<Figure size 640x480 with 1 Axes>"
      ]
     },
     "metadata": {},
     "output_type": "display_data"
    }
   ],
   "source": [
    "#Univariate distribution of independent variable, Tenure\n",
    "plt.hist(df_churn['Tenure'])\n",
    "plt.title('Tenure - Independent Variable')"
   ]
  },
  {
   "cell_type": "code",
   "execution_count": 38,
   "id": "0c8b6b35-510c-4169-821c-aa509906d4ff",
   "metadata": {},
   "outputs": [
    {
     "data": {
      "text/plain": [
       "<Axes: xlabel='Churn', ylabel='Tenure'>"
      ]
     },
     "execution_count": 38,
     "metadata": {},
     "output_type": "execute_result"
    },
    {
     "data": {
      "image/png": "[encoded data removed]",
      "text/plain": [
       "<Figure size 640x480 with 1 Axes>"
      ]
     },
     "metadata": {},
     "output_type": "display_data"
    }
   ],
   "source": [
    "# Bivariate distribution between Tenure and Churn\n",
    "sns.boxplot(x=\"Churn\", y=\"Tenure\", data = df_churn)"
   ]
  },
  {
   "cell_type": "code",
   "execution_count": 39,
   "id": "5d852a7e-117b-4654-b146-ee88051ede76",
   "metadata": {},
   "outputs": [
    {
     "data": {
      "text/plain": [
       "Text(0.5, 1.0, 'MonthlyCharge - Independent Variable')"
      ]
     },
     "execution_count": 39,
     "metadata": {},
     "output_type": "execute_result"
    },
    {
     "data": {
      "image/png": "[encoded data removed]",
      "text/plain": [
       "<Figure size 640x480 with 1 Axes>"
      ]
     },
     "metadata": {},
     "output_type": "display_data"
    }
   ],
   "source": [
    "#Univariate distribution of independent variable, MonthlyCharge\n",
    "plt.hist(df_churn['MonthlyCharge'])\n",
    "plt.title('MonthlyCharge - Independent Variable')"
   ]
  },
  {
   "cell_type": "code",
   "execution_count": 40,
   "id": "c7622d01-f501-49aa-a9fd-38525de6aa1b",
   "metadata": {},
   "outputs": [
    {
     "data": {
      "text/plain": [
       "<Axes: xlabel='Churn', ylabel='MonthlyCharge'>"
      ]
     },
     "execution_count": 40,
     "metadata": {},
     "output_type": "execute_result"
    },
    {
     "data": {
      "image/png": "[encoded data removed]",
      "text/plain": [
       "<Figure size 640x480 with 1 Axes>"
      ]
     },
     "metadata": {},
     "output_type": "display_data"
    }
   ],
   "source": [
    "# Bivariate distribution between MonthlyCharge and Churn\n",
    "sns.boxplot(x=\"Churn\", y=\"MonthlyCharge\", data = df_churn)"
   ]
  },
  {
   "cell_type": "code",
   "execution_count": 41,
   "id": "47feebc6-337f-4d3c-bb6b-679b2eab1d2f",
   "metadata": {},
   "outputs": [
    {
     "data": {
      "text/plain": [
       "Text(0.5, 1.0, 'Contract - Independent Variable')"
      ]
     },
     "execution_count": 41,
     "metadata": {},
     "output_type": "execute_result"
    },
    {
     "data": {
      "image/png": "[encoded data removed]",
      "text/plain": [
       "<Figure size 640x480 with 1 Axes>"
      ]
     },
     "metadata": {},
     "output_type": "display_data"
    }
   ],
   "source": [
    "#Univariate distribution of independent variable, Contract\n",
    "plt.hist(df_churn['Contract'])\n",
    "plt.title('Contract - Independent Variable')"
   ]
  },
  {
   "cell_type": "code",
   "execution_count": 42,
   "id": "2553b5cc-5b66-4b73-aaec-4e2533ba35c5",
   "metadata": {},
   "outputs": [
    {
     "data": {
      "text/html": [
       "<div>\n",
       "<style scoped>\n",
       "    .dataframe tbody tr th:only-of-type {\n",
       "        vertical-align: middle;\n",
       "    }\n",
       "\n",
       "    .dataframe tbody tr th {\n",
       "        vertical-align: top;\n",
       "    }\n",
       "\n",
       "    .dataframe thead th {\n",
       "        text-align: right;\n",
       "    }\n",
       "</style>\n",
       "<table border=\"1\" class=\"dataframe\">\n",
       "  <thead>\n",
       "    <tr style=\"text-align: right;\">\n",
       "      <th>Churn</th>\n",
       "      <th>No</th>\n",
       "      <th>Yes</th>\n",
       "    </tr>\n",
       "    <tr>\n",
       "      <th>Contract</th>\n",
       "      <th></th>\n",
       "      <th></th>\n",
       "    </tr>\n",
       "  </thead>\n",
       "  <tbody>\n",
       "    <tr>\n",
       "      <th>Month-to-month</th>\n",
       "      <td>3422</td>\n",
       "      <td>2034</td>\n",
       "    </tr>\n",
       "    <tr>\n",
       "      <th>One year</th>\n",
       "      <td>1795</td>\n",
       "      <td>307</td>\n",
       "    </tr>\n",
       "    <tr>\n",
       "      <th>Two Year</th>\n",
       "      <td>2133</td>\n",
       "      <td>309</td>\n",
       "    </tr>\n",
       "  </tbody>\n",
       "</table>\n",
       "</div>"
      ],
      "text/plain": [
       "Churn             No   Yes\n",
       "Contract                  \n",
       "Month-to-month  3422  2034\n",
       "One year        1795   307\n",
       "Two Year        2133   309"
      ]
     },
     "execution_count": 42,
     "metadata": {},
     "output_type": "execute_result"
    }
   ],
   "source": [
    "# Bivariate visualization for Contract and Churn\n",
    "pd.crosstab(df_churn[\"Contract\"], df_churn[\"Churn\"])"
   ]
  },
  {
   "cell_type": "code",
   "execution_count": 43,
   "id": "2fe989f8-f690-447b-b75c-daa70c892c1b",
   "metadata": {},
   "outputs": [
    {
     "data": {
      "text/plain": [
       "Text(0.5, 1.0, 'InternetService - Independent Variable')"
      ]
     },
     "execution_count": 43,
     "metadata": {},
     "output_type": "execute_result"
    },
    {
     "data": {
      "image/png": "[encoded data removed]",
      "text/plain": [
       "<Figure size 640x480 with 1 Axes>"
      ]
     },
     "metadata": {},
     "output_type": "display_data"
    }
   ],
   "source": [
    "#Univariate distribution of independent variable, InternetService\n",
    "plt.hist(df_churn['InternetService'])\n",
    "plt.title('InternetService - Independent Variable')"
   ]
  },
  {
   "cell_type": "code",
   "execution_count": 44,
   "id": "65797797-3176-4ae5-8f99-f98c9201c14e",
   "metadata": {},
   "outputs": [
    {
     "data": {
      "text/html": [
       "<div>\n",
       "<style scoped>\n",
       "    .dataframe tbody tr th:only-of-type {\n",
       "        vertical-align: middle;\n",
       "    }\n",
       "\n",
       "    .dataframe tbody tr th {\n",
       "        vertical-align: top;\n",
       "    }\n",
       "\n",
       "    .dataframe thead th {\n",
       "        text-align: right;\n",
       "    }\n",
       "</style>\n",
       "<table border=\"1\" class=\"dataframe\">\n",
       "  <thead>\n",
       "    <tr style=\"text-align: right;\">\n",
       "      <th>Churn</th>\n",
       "      <th>No</th>\n",
       "      <th>Yes</th>\n",
       "    </tr>\n",
       "    <tr>\n",
       "      <th>InternetService</th>\n",
       "      <th></th>\n",
       "      <th></th>\n",
       "    </tr>\n",
       "  </thead>\n",
       "  <tbody>\n",
       "    <tr>\n",
       "      <th>DSL</th>\n",
       "      <td>2349</td>\n",
       "      <td>1114</td>\n",
       "    </tr>\n",
       "    <tr>\n",
       "      <th>Fiber Optic</th>\n",
       "      <td>3368</td>\n",
       "      <td>1040</td>\n",
       "    </tr>\n",
       "    <tr>\n",
       "      <th>None</th>\n",
       "      <td>1633</td>\n",
       "      <td>496</td>\n",
       "    </tr>\n",
       "  </tbody>\n",
       "</table>\n",
       "</div>"
      ],
      "text/plain": [
       "Churn              No   Yes\n",
       "InternetService            \n",
       "DSL              2349  1114\n",
       "Fiber Optic      3368  1040\n",
       "None             1633   496"
      ]
     },
     "execution_count": 44,
     "metadata": {},
     "output_type": "execute_result"
    }
   ],
   "source": [
    "# Bivariate distribution for InternetService and Churn\n",
    "pd.crosstab(df_churn[\"InternetService\"], df_churn[\"Churn\"])"
   ]
  },
  {
   "cell_type": "code",
   "execution_count": 45,
   "id": "8cfe2020-74d7-4bde-8528-51bc7774b957",
   "metadata": {},
   "outputs": [
    {
     "data": {
      "text/plain": [
       "Text(0.5, 1.0, 'TechSupport - Independent Variable')"
      ]
     },
     "execution_count": 45,
     "metadata": {},
     "output_type": "execute_result"
    },
    {
     "data": {
      "image/png": "[encoded data removed]",
      "text/plain": [
       "<Figure size 640x480 with 1 Axes>"
      ]
     },
     "metadata": {},
     "output_type": "display_data"
    }
   ],
   "source": [
    "#Univariate distribution of independent variable, TechSupport\n",
    "plt.hist(df_churn['TechSupport'])\n",
    "plt.title('TechSupport - Independent Variable')"
   ]
  },
  {
   "cell_type": "code",
   "execution_count": 46,
   "id": "413e4239-e501-4432-a435-1cfea76fd4ca",
   "metadata": {},
   "outputs": [
    {
     "data": {
      "text/html": [
       "<div>\n",
       "<style scoped>\n",
       "    .dataframe tbody tr th:only-of-type {\n",
       "        vertical-align: middle;\n",
       "    }\n",
       "\n",
       "    .dataframe tbody tr th {\n",
       "        vertical-align: top;\n",
       "    }\n",
       "\n",
       "    .dataframe thead th {\n",
       "        text-align: right;\n",
       "    }\n",
       "</style>\n",
       "<table border=\"1\" class=\"dataframe\">\n",
       "  <thead>\n",
       "    <tr style=\"text-align: right;\">\n",
       "      <th>Churn</th>\n",
       "      <th>No</th>\n",
       "      <th>Yes</th>\n",
       "    </tr>\n",
       "    <tr>\n",
       "      <th>TechSupport</th>\n",
       "      <th></th>\n",
       "      <th></th>\n",
       "    </tr>\n",
       "  </thead>\n",
       "  <tbody>\n",
       "    <tr>\n",
       "      <th>No</th>\n",
       "      <td>4634</td>\n",
       "      <td>1616</td>\n",
       "    </tr>\n",
       "    <tr>\n",
       "      <th>Yes</th>\n",
       "      <td>2716</td>\n",
       "      <td>1034</td>\n",
       "    </tr>\n",
       "  </tbody>\n",
       "</table>\n",
       "</div>"
      ],
      "text/plain": [
       "Churn          No   Yes\n",
       "TechSupport            \n",
       "No           4634  1616\n",
       "Yes          2716  1034"
      ]
     },
     "execution_count": 46,
     "metadata": {},
     "output_type": "execute_result"
    }
   ],
   "source": [
    "# Bivariate distribution for TechSupport and Churn\n",
    "pd.crosstab(df_churn[\"TechSupport\"], df_churn[\"Churn\"])"
   ]
  },
  {
   "cell_type": "code",
   "execution_count": 47,
   "id": "061dfd14-cc3b-4885-b6d4-b9ee643dab1e",
   "metadata": {},
   "outputs": [
    {
     "data": {
      "text/plain": [
       "Text(0.5, 1.0, 'Item1 - Independent Variable')"
      ]
     },
     "execution_count": 47,
     "metadata": {},
     "output_type": "execute_result"
    },
    {
     "data": {
      "image/png": "[encoded data removed]",
      "text/plain": [
       "<Figure size 640x480 with 1 Axes>"
      ]
     },
     "metadata": {},
     "output_type": "display_data"
    }
   ],
   "source": [
    "#Univariate distribution of independent variable, Item1\n",
    "plt.hist(df_churn['Item1'])\n",
    "plt.title('Item1 - Independent Variable')"
   ]
  },
  {
   "cell_type": "code",
   "execution_count": 48,
   "id": "707c9870-a112-4f9c-b689-9d68dcc83a8f",
   "metadata": {},
   "outputs": [
    {
     "data": {
      "text/html": [
       "<div>\n",
       "<style scoped>\n",
       "    .dataframe tbody tr th:only-of-type {\n",
       "        vertical-align: middle;\n",
       "    }\n",
       "\n",
       "    .dataframe tbody tr th {\n",
       "        vertical-align: top;\n",
       "    }\n",
       "\n",
       "    .dataframe thead th {\n",
       "        text-align: right;\n",
       "    }\n",
       "</style>\n",
       "<table border=\"1\" class=\"dataframe\">\n",
       "  <thead>\n",
       "    <tr style=\"text-align: right;\">\n",
       "      <th>Churn</th>\n",
       "      <th>No</th>\n",
       "      <th>Yes</th>\n",
       "    </tr>\n",
       "    <tr>\n",
       "      <th>Item1</th>\n",
       "      <th></th>\n",
       "      <th></th>\n",
       "    </tr>\n",
       "  </thead>\n",
       "  <tbody>\n",
       "    <tr>\n",
       "      <th>1</th>\n",
       "      <td>158</td>\n",
       "      <td>66</td>\n",
       "    </tr>\n",
       "    <tr>\n",
       "      <th>2</th>\n",
       "      <td>1002</td>\n",
       "      <td>391</td>\n",
       "    </tr>\n",
       "    <tr>\n",
       "      <th>3</th>\n",
       "      <td>2562</td>\n",
       "      <td>886</td>\n",
       "    </tr>\n",
       "    <tr>\n",
       "      <th>4</th>\n",
       "      <td>2473</td>\n",
       "      <td>885</td>\n",
       "    </tr>\n",
       "    <tr>\n",
       "      <th>5</th>\n",
       "      <td>994</td>\n",
       "      <td>365</td>\n",
       "    </tr>\n",
       "    <tr>\n",
       "      <th>6</th>\n",
       "      <td>146</td>\n",
       "      <td>53</td>\n",
       "    </tr>\n",
       "    <tr>\n",
       "      <th>7</th>\n",
       "      <td>15</td>\n",
       "      <td>4</td>\n",
       "    </tr>\n",
       "  </tbody>\n",
       "</table>\n",
       "</div>"
      ],
      "text/plain": [
       "Churn    No  Yes\n",
       "Item1           \n",
       "1       158   66\n",
       "2      1002  391\n",
       "3      2562  886\n",
       "4      2473  885\n",
       "5       994  365\n",
       "6       146   53\n",
       "7        15    4"
      ]
     },
     "execution_count": 48,
     "metadata": {},
     "output_type": "execute_result"
    }
   ],
   "source": [
    "# Bivariate distribution for Item1 and Churn\n",
    "pd.crosstab(df_churn[\"Item1\"], df_churn[\"Churn\"])"
   ]
  },
  {
   "cell_type": "code",
   "execution_count": 49,
   "id": "d66c1c6e-0d20-4511-8e27-aaa4734af4cb",
   "metadata": {},
   "outputs": [
    {
     "data": {
      "text/plain": [
       "Text(0.5, 1.0, 'Item2 - Independent Variable')"
      ]
     },
     "execution_count": 49,
     "metadata": {},
     "output_type": "execute_result"
    },
    {
     "data": {
      "image/png": "[encoded data removed]",
      "text/plain": [
       "<Figure size 640x480 with 1 Axes>"
      ]
     },
     "metadata": {},
     "output_type": "display_data"
    }
   ],
   "source": [
    "#Univariate distribution of independent variable, Item2\n",
    "plt.hist(df_churn['Item2'])\n",
    "plt.title('Item2 - Independent Variable')"
   ]
  },
  {
   "cell_type": "code",
   "execution_count": 50,
   "id": "2aa7ccfc-2194-4949-bcda-6e338a024415",
   "metadata": {},
   "outputs": [
    {
     "data": {
      "text/html": [
       "<div>\n",
       "<style scoped>\n",
       "    .dataframe tbody tr th:only-of-type {\n",
       "        vertical-align: middle;\n",
       "    }\n",
       "\n",
       "    .dataframe tbody tr th {\n",
       "        vertical-align: top;\n",
       "    }\n",
       "\n",
       "    .dataframe thead th {\n",
       "        text-align: right;\n",
       "    }\n",
       "</style>\n",
       "<table border=\"1\" class=\"dataframe\">\n",
       "  <thead>\n",
       "    <tr style=\"text-align: right;\">\n",
       "      <th>Churn</th>\n",
       "      <th>No</th>\n",
       "      <th>Yes</th>\n",
       "    </tr>\n",
       "    <tr>\n",
       "      <th>Item2</th>\n",
       "      <th></th>\n",
       "      <th></th>\n",
       "    </tr>\n",
       "  </thead>\n",
       "  <tbody>\n",
       "    <tr>\n",
       "      <th>1</th>\n",
       "      <td>160</td>\n",
       "      <td>57</td>\n",
       "    </tr>\n",
       "    <tr>\n",
       "      <th>2</th>\n",
       "      <td>973</td>\n",
       "      <td>387</td>\n",
       "    </tr>\n",
       "    <tr>\n",
       "      <th>3</th>\n",
       "      <td>2519</td>\n",
       "      <td>896</td>\n",
       "    </tr>\n",
       "    <tr>\n",
       "      <th>4</th>\n",
       "      <td>2507</td>\n",
       "      <td>905</td>\n",
       "    </tr>\n",
       "    <tr>\n",
       "      <th>5</th>\n",
       "      <td>1025</td>\n",
       "      <td>343</td>\n",
       "    </tr>\n",
       "    <tr>\n",
       "      <th>6</th>\n",
       "      <td>155</td>\n",
       "      <td>60</td>\n",
       "    </tr>\n",
       "    <tr>\n",
       "      <th>7</th>\n",
       "      <td>11</td>\n",
       "      <td>2</td>\n",
       "    </tr>\n",
       "  </tbody>\n",
       "</table>\n",
       "</div>"
      ],
      "text/plain": [
       "Churn    No  Yes\n",
       "Item2           \n",
       "1       160   57\n",
       "2       973  387\n",
       "3      2519  896\n",
       "4      2507  905\n",
       "5      1025  343\n",
       "6       155   60\n",
       "7        11    2"
      ]
     },
     "execution_count": 50,
     "metadata": {},
     "output_type": "execute_result"
    }
   ],
   "source": [
    "# Bivariate distribution for Item2 and Churn\n",
    "pd.crosstab(df_churn[\"Item2\"], df_churn[\"Churn\"])"
   ]
  },
  {
   "cell_type": "code",
   "execution_count": 51,
   "id": "7e392a6a-4a0c-4050-95e6-0d26badccee2",
   "metadata": {},
   "outputs": [
    {
     "data": {
      "text/plain": [
       "Text(0.5, 1.0, 'Item3 - Independent Variable')"
      ]
     },
     "execution_count": 51,
     "metadata": {},
     "output_type": "execute_result"
    },
    {
     "data": {
      "image/png": "[encoded data removed]",
      "text/plain": [
       "<Figure size 640x480 with 1 Axes>"
      ]
     },
     "metadata": {},
     "output_type": "display_data"
    }
   ],
   "source": [
    "#Univariate distribution of independent variable, Item3\n",
    "plt.hist(df_churn['Item3'])\n",
    "plt.title('Item3 - Independent Variable')"
   ]
  },
  {
   "cell_type": "code",
   "execution_count": 52,
   "id": "70996c56-524d-4f73-89bf-46d5923fa7f0",
   "metadata": {},
   "outputs": [
    {
     "data": {
      "text/html": [
       "<div>\n",
       "<style scoped>\n",
       "    .dataframe tbody tr th:only-of-type {\n",
       "        vertical-align: middle;\n",
       "    }\n",
       "\n",
       "    .dataframe tbody tr th {\n",
       "        vertical-align: top;\n",
       "    }\n",
       "\n",
       "    .dataframe thead th {\n",
       "        text-align: right;\n",
       "    }\n",
       "</style>\n",
       "<table border=\"1\" class=\"dataframe\">\n",
       "  <thead>\n",
       "    <tr style=\"text-align: right;\">\n",
       "      <th>Churn</th>\n",
       "      <th>No</th>\n",
       "      <th>Yes</th>\n",
       "    </tr>\n",
       "    <tr>\n",
       "      <th>Item3</th>\n",
       "      <th></th>\n",
       "      <th></th>\n",
       "    </tr>\n",
       "  </thead>\n",
       "  <tbody>\n",
       "    <tr>\n",
       "      <th>1</th>\n",
       "      <td>146</td>\n",
       "      <td>56</td>\n",
       "    </tr>\n",
       "    <tr>\n",
       "      <th>2</th>\n",
       "      <td>1017</td>\n",
       "      <td>407</td>\n",
       "    </tr>\n",
       "    <tr>\n",
       "      <th>3</th>\n",
       "      <td>2540</td>\n",
       "      <td>895</td>\n",
       "    </tr>\n",
       "    <tr>\n",
       "      <th>4</th>\n",
       "      <td>2527</td>\n",
       "      <td>883</td>\n",
       "    </tr>\n",
       "    <tr>\n",
       "      <th>5</th>\n",
       "      <td>960</td>\n",
       "      <td>353</td>\n",
       "    </tr>\n",
       "    <tr>\n",
       "      <th>6</th>\n",
       "      <td>149</td>\n",
       "      <td>54</td>\n",
       "    </tr>\n",
       "    <tr>\n",
       "      <th>7</th>\n",
       "      <td>10</td>\n",
       "      <td>2</td>\n",
       "    </tr>\n",
       "    <tr>\n",
       "      <th>8</th>\n",
       "      <td>1</td>\n",
       "      <td>0</td>\n",
       "    </tr>\n",
       "  </tbody>\n",
       "</table>\n",
       "</div>"
      ],
      "text/plain": [
       "Churn    No  Yes\n",
       "Item3           \n",
       "1       146   56\n",
       "2      1017  407\n",
       "3      2540  895\n",
       "4      2527  883\n",
       "5       960  353\n",
       "6       149   54\n",
       "7        10    2\n",
       "8         1    0"
      ]
     },
     "execution_count": 52,
     "metadata": {},
     "output_type": "execute_result"
    }
   ],
   "source": [
    "# Bivariate distribution for Item3 and Churn\n",
    "pd.crosstab(df_churn[\"Item3\"], df_churn[\"Churn\"])"
   ]
  },
  {
   "cell_type": "code",
   "execution_count": 53,
   "id": "168f50b9-b7fa-4013-a315-bdddc93ac926",
   "metadata": {},
   "outputs": [
    {
     "data": {
      "text/plain": [
       "Text(0.5, 1.0, 'Item4 - Independent Variable')"
      ]
     },
     "execution_count": 53,
     "metadata": {},
     "output_type": "execute_result"
    },
    {
     "data": {
      "image/png": "[encoded data removed]",
      "text/plain": [
       "<Figure size 640x480 with 1 Axes>"
      ]
     },
     "metadata": {},
     "output_type": "display_data"
    }
   ],
   "source": [
    "#Univariate distribution of independent variable, Item4\n",
    "plt.hist(df_churn['Item4'])\n",
    "plt.title('Item4 - Independent Variable')"
   ]
  },
  {
   "cell_type": "code",
   "execution_count": 54,
   "id": "cf9734f6-9980-4c89-ba57-b9d919ef860e",
   "metadata": {},
   "outputs": [
    {
     "data": {
      "text/html": [
       "<div>\n",
       "<style scoped>\n",
       "    .dataframe tbody tr th:only-of-type {\n",
       "        vertical-align: middle;\n",
       "    }\n",
       "\n",
       "    .dataframe tbody tr th {\n",
       "        vertical-align: top;\n",
       "    }\n",
       "\n",
       "    .dataframe thead th {\n",
       "        text-align: right;\n",
       "    }\n",
       "</style>\n",
       "<table border=\"1\" class=\"dataframe\">\n",
       "  <thead>\n",
       "    <tr style=\"text-align: right;\">\n",
       "      <th>Churn</th>\n",
       "      <th>No</th>\n",
       "      <th>Yes</th>\n",
       "    </tr>\n",
       "    <tr>\n",
       "      <th>Item4</th>\n",
       "      <th></th>\n",
       "      <th></th>\n",
       "    </tr>\n",
       "  </thead>\n",
       "  <tbody>\n",
       "    <tr>\n",
       "      <th>1</th>\n",
       "      <td>162</td>\n",
       "      <td>59</td>\n",
       "    </tr>\n",
       "    <tr>\n",
       "      <th>2</th>\n",
       "      <td>990</td>\n",
       "      <td>360</td>\n",
       "    </tr>\n",
       "    <tr>\n",
       "      <th>3</th>\n",
       "      <td>2524</td>\n",
       "      <td>906</td>\n",
       "    </tr>\n",
       "    <tr>\n",
       "      <th>4</th>\n",
       "      <td>2523</td>\n",
       "      <td>929</td>\n",
       "    </tr>\n",
       "    <tr>\n",
       "      <th>5</th>\n",
       "      <td>998</td>\n",
       "      <td>337</td>\n",
       "    </tr>\n",
       "    <tr>\n",
       "      <th>6</th>\n",
       "      <td>145</td>\n",
       "      <td>58</td>\n",
       "    </tr>\n",
       "    <tr>\n",
       "      <th>7</th>\n",
       "      <td>8</td>\n",
       "      <td>1</td>\n",
       "    </tr>\n",
       "  </tbody>\n",
       "</table>\n",
       "</div>"
      ],
      "text/plain": [
       "Churn    No  Yes\n",
       "Item4           \n",
       "1       162   59\n",
       "2       990  360\n",
       "3      2524  906\n",
       "4      2523  929\n",
       "5       998  337\n",
       "6       145   58\n",
       "7         8    1"
      ]
     },
     "execution_count": 54,
     "metadata": {},
     "output_type": "execute_result"
    }
   ],
   "source": [
    "# Bivariate distribution for Item4 and Churn\n",
    "pd.crosstab(df_churn[\"Item4\"], df_churn[\"Churn\"])"
   ]
  },
  {
   "cell_type": "markdown",
   "id": "8af09263-4c61-4a25-9544-217331ddc4cd",
   "metadata": {
    "tags": []
   },
   "source": [
    "## C4.\n",
    "\n",
    "&nbsp;&nbsp;&nbsp;&nbsp;&nbsp;After treating missing values and outliers, I decided to transform df_churn by re-expressing some of the categorical variables.  The goal of the transformation was to prepare the selected variables for use in my logistic regression model later on.  This regression will allow us to analyze the relationship between the independent variables and the dependent variable \"Churn\".\n",
    "\n",
    "&nbsp;&nbsp;&nbsp;&nbsp;&nbsp;I decided to re-express my dependent variable \"Churn\" and my independent variable \"TechSupport\" using ordinal encoding.  To do this, I created a unique dictionary for both.  Each dictionary assigns a value of 1 to \"Yes\" and 0 to \"No\".  I then used the pandas \"replace()\" method and passed the unique dictionary as a parameter.  This replaced the original \"Yes\" and \"No\" with the numerical values contained in the dictionaries.  To confirm that the values had been changed, I printed the unique values of the \"Churn\" and \"TechSupport\" variables.  The resulting output for each variable showed 1 and 0.\n",
    "\n",
    "&nbsp;&nbsp;&nbsp;&nbsp;&nbsp;I chose to re-express the variable \"InternetService\" using one-hot encoding.  This was because the two categories \"DSL\" and \"Fiber Optic\" represent labels rather than a particular order.  To do this, I used the \"get_dummies()\" method from the pandas library.  This generated a new dataframe containing the dummy variables \"dummy_DSL\" and \"dummy_Fiber Optic\".  Because the values of the resulting dataframe are \"True\" and \"False\" I used the \"astype\" method to convert them to 1 and 0.  This was done to make the values compatible with the logistic regression model I plan to develop later on.  Before adding the dummy variables to \"df_churn\", I chose to exclude \"dummy_DSL\", which will serve as the base category for \"InternetService\".  It is recommended to exclude one of the dummy variables to avoid redundancy (Shmueli, 2015).\n",
    "\n",
    "&nbsp;&nbsp;&nbsp;&nbsp;&nbsp;I also re-expressed \"Contract\" using one-hot encoding.  I chose this method because the values \"Month-to-month\", \"One year\" and \"Two Year\" also represent labels rather than a particular order.  To do this, I used the \"get_dummies()\" method from the pandas library.  This generated a new dataframe containing the dummy variables \"dummy_Month-to-month\", \"dummy_One year\", and \"dummy_Two Year\".  Because the values of the resulting dataframe are \"True\" and \"False\" I used the \"astype\" method to convert them to 1 and 0.  This was done to make the values compatible with the logistic regression model I plan to develop later on.  Before adding the dummy variables to \"df_churn\", I chose to exclude \"dummy_Month-to-month\", which will serve as the base category for \"Contract\". \n",
    "\n",
    "&nbsp;&nbsp;&nbsp;&nbsp;&nbsp;Lastly, I chose to rename a few of the categorical variables that will be used in the regression model.  \"Item1\", \"Item2\", \"Item3\", and \"Item4\" were changed to \"Responses\",\"Fixes\",\"Replacements\", and \"Reliability\".  This was done to make the variables easier to interpret.  The final step I took was to change the data types of all variables to float so they would be compatible with logistic regression.\n",
    "\n",
    "&nbsp;&nbsp;&nbsp;&nbsp;&nbsp;Now that the variables have been transformed, we are ready to proceed with the initial regression model. Please see the annotated code below, which was used to transform the selected categorical variables."
   ]
  },
  {
   "cell_type": "code",
   "execution_count": 55,
   "id": "00920b13-e753-4d3d-8789-8683ac0ed7bf",
   "metadata": {},
   "outputs": [
    {
     "name": "stdout",
     "output_type": "stream",
     "text": [
      "['No' 'Yes']\n",
      "[0. 1.]\n"
     ]
    }
   ],
   "source": [
    "#Re-express dependent variable, Churn, as numeric \n",
    "\n",
    "#Find unique values of variable\n",
    "print(df_churn[\"Churn\"].unique())\n",
    "\n",
    "#Create dictionary to store numeric values for variable\n",
    "dict_churn = {\"Churn\":\n",
    "                    {\"Yes\":1,\n",
    "                     \"No\":0\n",
    "                    }\n",
    "                }\n",
    "\n",
    "#Replace categorical values with numeric values from dictionary\n",
    "df_churn.replace(dict_churn, inplace=True)\n",
    "\n",
    "#Change variable to float for compatability with logistic regression\n",
    "df_churn[\"Churn\"] = df_churn[\"Churn\"].astype(float)\n",
    "\n",
    "#Confirm categorical values have been replaced\n",
    "print(df_churn[\"Churn\"].unique())"
   ]
  },
  {
   "cell_type": "code",
   "execution_count": 56,
   "id": "87961057-94eb-42cd-9c27-946f5c5c5ade",
   "metadata": {},
   "outputs": [],
   "source": [
    "#Re-express Contract as numeric using one-hot encoding\n",
    "\n",
    "#Use pd.get_dummies to turn Contract variable into 3 dummy variables\n",
    "df_contract = pd.get_dummies(df_churn[\"Contract\"], prefix=\"dummy\")\n",
    "\n",
    "#Change data type of dummy variables from boolean to float\n",
    "df_contract = df_contract.astype(float)\n",
    "\n",
    "#Join dummy_One year and dummy_Two Year to df_churn.  Use dummy_Month-to-month as base category.\n",
    "df_churn = df_churn.join(df_contract[[\"dummy_One year\", \"dummy_Two Year\"]])"
   ]
  },
  {
   "cell_type": "code",
   "execution_count": 57,
   "id": "23f6d9a5-6d96-44fa-af3d-c4bd7656c18e",
   "metadata": {},
   "outputs": [],
   "source": [
    "#Re-express InternetService as numeric using one-hot encoding\n",
    "\n",
    "#Use pd.get_dummies to turn InternetService variable into 2 dummy variable\n",
    "df_internet = pd.get_dummies(df_churn[\"InternetService\"], prefix=\"dummy\")\n",
    "\n",
    "#Change data type of dummy variables from boolean to float\n",
    "df_internet = df_internet.astype(float)\n",
    "\n",
    "#Join dummy_Fiber Optic to df_churn\n",
    "df_churn = df_churn.join(df_internet[\"dummy_Fiber Optic\"])"
   ]
  },
  {
   "cell_type": "code",
   "execution_count": 58,
   "id": "7c82f9e1-0f14-44e5-833a-d73395afaea0",
   "metadata": {},
   "outputs": [
    {
     "name": "stdout",
     "output_type": "stream",
     "text": [
      "['No' 'Yes']\n",
      "[0 1]\n"
     ]
    }
   ],
   "source": [
    "#Re-express TechSupport as numeric using ordinal encoding\n",
    "\n",
    "#Find unique values of  variable\n",
    "print(df_churn[\"TechSupport\"].unique())\n",
    "\n",
    "#Create dictionary to store numeric values for variable\n",
    "dict_techsupport = {\"TechSupport\":\n",
    "                    {\"Yes\":1,\n",
    "                     \"No\":0,\n",
    "                    }\n",
    "                }\n",
    "\n",
    "#Replace categorical values with numeric values from dictionary\n",
    "df_churn.replace(dict_techsupport, inplace=True)\n",
    "\n",
    "#Confirm categorical values have been replaced\n",
    "print(df_churn[\"TechSupport\"].unique())"
   ]
  },
  {
   "cell_type": "code",
   "execution_count": 59,
   "id": "0a6e63af-d658-48b8-9ef7-b94195510ce2",
   "metadata": {},
   "outputs": [],
   "source": [
    "#Rename Item columns in df_churn \n",
    "df_churn = df_churn.rename(columns = {'Item1':'Responses','Item2':'Fixes','Item3':'Replacements','Item4':'Reliability'})"
   ]
  },
  {
   "cell_type": "markdown",
   "id": "7b40b93b-c7ce-403c-b7a9-cfe3c7d58703",
   "metadata": {},
   "source": [
    "## C5.\n",
    "\n",
    "Please see the attached csv file containing the prepared data."
   ]
  },
  {
   "cell_type": "code",
   "execution_count": 60,
   "id": "ba65f1c2-4d36-4f48-9c97-ea5f30ed9e27",
   "metadata": {},
   "outputs": [],
   "source": [
    "df_churn.to_csv('churn_prepared.csv')"
   ]
  },
  {
   "cell_type": "markdown",
   "id": "e875e287-024d-421d-a84d-c0a8239beca3",
   "metadata": {
    "tags": []
   },
   "source": [
    "## D1. \n",
    "\n",
    "To build the multiple logistic regression model, I first assigned the independent variables to a dataframe called \"X\" and added a constant using the \"sm.add_constant()\" method. The dependent variable, \"Churn\", was added to a dataframe called \"y\".  I then used the \"Logit()\" method from statsmodels.api and passed the dataframes as parameters. To generate a summary of the model, I used the \"summary2()\" method."
   ]
  },
  {
   "cell_type": "code",
   "execution_count": 63,
   "id": "815e8b56-79d2-4c49-9cae-964104fe7b34",
   "metadata": {},
   "outputs": [
    {
     "ename": "PatsyError",
     "evalue": "model is missing required outcome variables",
     "output_type": "error",
     "traceback": [
      "\u001b[0;31m---------------------------------------------------------------------------\u001b[0m",
      "\u001b[0;31mPatsyError\u001b[0m                                Traceback (most recent call last)",
      "Cell \u001b[0;32mIn[63], line 7\u001b[0m\n\u001b[1;32m      3\u001b[0m \u001b[38;5;66;03m#X = sm.add_constant(X)\u001b[39;00m\n\u001b[1;32m      5\u001b[0m y \u001b[38;5;241m=\u001b[39m pd\u001b[38;5;241m.\u001b[39mDataFrame(df_churn[[\u001b[38;5;124m\"\u001b[39m\u001b[38;5;124mChurn\u001b[39m\u001b[38;5;124m\"\u001b[39m]])\n\u001b[0;32m----> 7\u001b[0m mdl_initial \u001b[38;5;241m=\u001b[39m sm\u001b[38;5;241m.\u001b[39mlogit(y, X)\u001b[38;5;241m.\u001b[39mfit()\n\u001b[1;32m      9\u001b[0m mdl_initial\u001b[38;5;241m.\u001b[39msummary2()\n",
      "File \u001b[0;32m~/anaconda3/lib/python3.11/site-packages/statsmodels/base/model.py:203\u001b[0m, in \u001b[0;36mModel.from_formula\u001b[0;34m(cls, formula, data, subset, drop_cols, *args, **kwargs)\u001b[0m\n\u001b[1;32m    200\u001b[0m \u001b[38;5;28;01mif\u001b[39;00m missing \u001b[38;5;241m==\u001b[39m \u001b[38;5;124m'\u001b[39m\u001b[38;5;124mnone\u001b[39m\u001b[38;5;124m'\u001b[39m:  \u001b[38;5;66;03m# with patsy it's drop or raise. let's raise.\u001b[39;00m\n\u001b[1;32m    201\u001b[0m     missing \u001b[38;5;241m=\u001b[39m \u001b[38;5;124m'\u001b[39m\u001b[38;5;124mraise\u001b[39m\u001b[38;5;124m'\u001b[39m\n\u001b[0;32m--> 203\u001b[0m tmp \u001b[38;5;241m=\u001b[39m handle_formula_data(data, \u001b[38;5;28;01mNone\u001b[39;00m, formula, depth\u001b[38;5;241m=\u001b[39meval_env,\n\u001b[1;32m    204\u001b[0m                           missing\u001b[38;5;241m=\u001b[39mmissing)\n\u001b[1;32m    205\u001b[0m ((endog, exog), missing_idx, design_info) \u001b[38;5;241m=\u001b[39m tmp\n\u001b[1;32m    206\u001b[0m max_endog \u001b[38;5;241m=\u001b[39m \u001b[38;5;28mcls\u001b[39m\u001b[38;5;241m.\u001b[39m_formula_max_endog\n",
      "File \u001b[0;32m~/anaconda3/lib/python3.11/site-packages/statsmodels/formula/formulatools.py:63\u001b[0m, in \u001b[0;36mhandle_formula_data\u001b[0;34m(Y, X, formula, depth, missing)\u001b[0m\n\u001b[1;32m     61\u001b[0m \u001b[38;5;28;01melse\u001b[39;00m:\n\u001b[1;32m     62\u001b[0m     \u001b[38;5;28;01mif\u001b[39;00m data_util\u001b[38;5;241m.\u001b[39m_is_using_pandas(Y, \u001b[38;5;28;01mNone\u001b[39;00m):\n\u001b[0;32m---> 63\u001b[0m         result \u001b[38;5;241m=\u001b[39m dmatrices(formula, Y, depth, return_type\u001b[38;5;241m=\u001b[39m\u001b[38;5;124m'\u001b[39m\u001b[38;5;124mdataframe\u001b[39m\u001b[38;5;124m'\u001b[39m,\n\u001b[1;32m     64\u001b[0m                            NA_action\u001b[38;5;241m=\u001b[39mna_action)\n\u001b[1;32m     65\u001b[0m     \u001b[38;5;28;01melse\u001b[39;00m:\n\u001b[1;32m     66\u001b[0m         result \u001b[38;5;241m=\u001b[39m dmatrices(formula, Y, depth, return_type\u001b[38;5;241m=\u001b[39m\u001b[38;5;124m'\u001b[39m\u001b[38;5;124mdataframe\u001b[39m\u001b[38;5;124m'\u001b[39m,\n\u001b[1;32m     67\u001b[0m                            NA_action\u001b[38;5;241m=\u001b[39mna_action)\n",
      "File \u001b[0;32m~/anaconda3/lib/python3.11/site-packages/patsy/highlevel.py:312\u001b[0m, in \u001b[0;36mdmatrices\u001b[0;34m(formula_like, data, eval_env, NA_action, return_type)\u001b[0m\n\u001b[1;32m    309\u001b[0m (lhs, rhs) \u001b[38;5;241m=\u001b[39m _do_highlevel_design(formula_like, data, eval_env,\n\u001b[1;32m    310\u001b[0m                                   NA_action, return_type)\n\u001b[1;32m    311\u001b[0m \u001b[38;5;28;01mif\u001b[39;00m lhs\u001b[38;5;241m.\u001b[39mshape[\u001b[38;5;241m1\u001b[39m] \u001b[38;5;241m==\u001b[39m \u001b[38;5;241m0\u001b[39m:\n\u001b[0;32m--> 312\u001b[0m     \u001b[38;5;28;01mraise\u001b[39;00m PatsyError(\u001b[38;5;124m\"\u001b[39m\u001b[38;5;124mmodel is missing required outcome variables\u001b[39m\u001b[38;5;124m\"\u001b[39m)\n\u001b[1;32m    313\u001b[0m \u001b[38;5;28;01mreturn\u001b[39;00m (lhs, rhs)\n",
      "\u001b[0;31mPatsyError\u001b[0m: model is missing required outcome variables"
     ]
    }
   ],
   "source": [
    "#Create initial logistic regression model [In-text citation: (LaRose et al, 2019)]\n",
    "X = pd.DataFrame(df_churn[[\"Outage_sec_perweek\",\"Contacts\",\"Yearly_equip_failure\",\"Tenure\",\"MonthlyCharge\",\"dummy_One year\",\"dummy_Two Year\",\"dummy_Fiber Optic\",\"TechSupport\",\"Responses\",\"Fixes\",\"Replacements\",\"Reliability\"]])\n",
    "X = sm.add_constant(X)\n",
    "\n",
    "y = pd.DataFrame(df_churn[[\"Churn\"]])\n",
    "\n",
    "mdl_initial = sm.Logit(y, X).fit()\n",
    "\n",
    "mdl_initial.summary2()"
   ]
  },
  {
   "cell_type": "markdown",
   "id": "b2c2b0a8-f4dd-4eba-801e-ba5eabc07585",
   "metadata": {},
   "source": [
    "## D2. "
   ]
  },
  {
   "cell_type": "markdown",
   "id": "554f05e2-2040-4bfd-84da-8cc4bd40ef93",
   "metadata": {},
   "source": [
    "&nbsp;&nbsp;&nbsp;&nbsp;&nbsp;Now that the initial model has been built, I plan to reduce the amount of features using a few different methods.  This step is imperative because having too many explanatory variables can make a regression model unreliable.  This will help us to identify which factors are indeed the most responsible in predicting customer churn.  \n",
    "\n",
    "&nbsp;&nbsp;&nbsp;&nbsp;&nbsp;The first method I will use is to check for multicollinearity. This occurs when there is a high degree of correlation between two or more independent variables.  This poses a problem because it can lead to inaccurate regression coefficients. To do this, I will calculate the variance inflation factor (VIF) for all features in my initial model.  The first step will be to assign the features to a new dataframe and use the \"variance_inflation_factor()\" method to calculate the VIF for each feature.  Typically, if a predictor has a VIF of 10 or greater, there is a high level of correlation with another predictor (LaRose et al, 2019).  I will remove the variable with the highest VIF greater than 10 and recalculate VIF for the remaining variables.  This process will be repeated until there are no remaining variable with a VIF greater than 10. \n",
    "\n",
    "&nbsp;&nbsp;&nbsp;&nbsp;&nbsp;After removing variables with high VIF, I will use backward stepwise regression to eliminate variables that are not statistically significant.  I will start off by removing the variable with the largest p-value that is greater than .05.  Then I will run a new iteration of the model using the \"Logit()\" method and recalculate the p-values for each variable.  This process will be repeated until all of the remaining independent variables have a p-value less than 0.05.  These variables will be included in the reduced logistic regression model.\n",
    "\n",
    "&nbsp;&nbsp;&nbsp;&nbsp;&nbsp;Lastly, I will compare the pseudo R-squared of the initial and reduced models.  Unlike the R-squared used in linear regression, a pseudo R-squared provides no value unless it is compared to another pseudo R-squared value.  Pseudo r-squared values range from 0 to 1, with higher values indicating a better fit (UCLA Statistical Methods and Data Analytics)."
   ]
  },
  {
   "cell_type": "markdown",
   "id": "c09ae41f-4227-4bb1-866e-e24212afd210",
   "metadata": {},
   "source": [
    "## D3. \n",
    "\n",
    "Please see the annotated model evaluation process below.  This process follows the steps outlined in section D2.  Please see the output of each model iteration below.  The reduced logistic regression model is located at the end of this section."
   ]
  },
  {
   "cell_type": "markdown",
   "id": "a9dbc30b-38f6-4a17-9d5e-942139017529",
   "metadata": {},
   "source": [
    "#### Calculate VIF for all independent variables"
   ]
  },
  {
   "cell_type": "code",
   "execution_count": null,
   "id": "677d388c-33c7-4660-a3ae-842f79b8a098",
   "metadata": {},
   "outputs": [],
   "source": [
    "#Assign independent variables to dataframe X\n",
    "X = pd.DataFrame(df_churn[[\"Outage_sec_perweek\",\"Contacts\",\"Yearly_equip_failure\",\"Tenure\",\"MonthlyCharge\",\"dummy_One year\",\"dummy_Two Year\",\"dummy_Fiber Optic\",\"TechSupport\",\"Responses\",\"Fixes\",\"Replacements\",\"Reliability\"]])\n",
    "\n",
    "#Create VIF dataframe [In-text citation: GeeksforGeeks]\n",
    "vif_data = pd.DataFrame()\n",
    "vif_data[\"feature\"] = X.columns\n",
    "\n",
    "#Calculate VIF for each independent variable\n",
    "vif_data[\"VIF\"] = [variance_inflation_factor(X.values, i) for i in range(len(X.columns))]\n",
    "\n",
    "#print VIF data\n",
    "print(vif_data)"
   ]
  },
  {
   "cell_type": "markdown",
   "id": "bd7a57a8-7650-4aff-b1ca-c8a3640bb170",
   "metadata": {},
   "source": [
    "#### Remove Reponses (VIF = 25.102549) and recalculate VIF"
   ]
  },
  {
   "cell_type": "code",
   "execution_count": null,
   "id": "5ae6a143-ee7a-429c-8e67-cc66ffcbb135",
   "metadata": {},
   "outputs": [],
   "source": [
    "#Assign independent variables to dataframe X, remove Responses \n",
    "X = pd.DataFrame(df_churn[[\"Outage_sec_perweek\",\"Contacts\",\"Yearly_equip_failure\",\"Tenure\",\"MonthlyCharge\",\"dummy_One year\",\"dummy_Two Year\",\"dummy_Fiber Optic\",\"TechSupport\",\"Fixes\",\"Replacements\",\"Reliability\"]])\n",
    "\n",
    "#Create VIF dataframe [In-text citation: GeeksforGeeks]\n",
    "vif_data = pd.DataFrame()\n",
    "vif_data[\"feature\"] = X.columns\n",
    "\n",
    "#Calculate VIF for each independent variable\n",
    "vif_data[\"VIF\"] = [variance_inflation_factor(X.values, i) for i in range(len(X.columns))]\n",
    "\n",
    "#print VIF data\n",
    "print(vif_data)"
   ]
  },
  {
   "cell_type": "markdown",
   "id": "5839f2cd-8728-4bc3-a249-dce00706b362",
   "metadata": {},
   "source": [
    "#### Remove Fixes (VIF = 16.150396) and recalculate VIF"
   ]
  },
  {
   "cell_type": "code",
   "execution_count": null,
   "id": "6a04fa26-6dd9-4362-ae35-155c1a5c82de",
   "metadata": {},
   "outputs": [],
   "source": [
    "#Assign independent variables to dataframe X, remove Responses \n",
    "X = pd.DataFrame(df_churn[[\"Outage_sec_perweek\",\"Contacts\",\"Yearly_equip_failure\",\"Tenure\",\"MonthlyCharge\",\"dummy_One year\",\"dummy_Two Year\",\"dummy_Fiber Optic\",\"TechSupport\",\"Replacements\",\"Reliability\"]])\n",
    "\n",
    "#Create VIF dataframe [In-text citation: GeeksforGeeks]\n",
    "vif_data = pd.DataFrame()\n",
    "vif_data[\"feature\"] = X.columns\n",
    "\n",
    "#Calculate VIF for each independent variable\n",
    "vif_data[\"VIF\"] = [variance_inflation_factor(X.values, i) for i in range(len(X.columns))]\n",
    "\n",
    "#print VIF data\n",
    "print(vif_data)"
   ]
  },
  {
   "cell_type": "markdown",
   "id": "ea3d261d-09b7-4114-ac63-54f1e88f78b8",
   "metadata": {},
   "source": [
    "#### Remove MonthlyCharge (VIF = 13.131709) and recalculate VIF"
   ]
  },
  {
   "cell_type": "code",
   "execution_count": null,
   "id": "107913c1-1de8-417c-959b-eb3835336c5a",
   "metadata": {},
   "outputs": [],
   "source": [
    "#Assign independent variables to dataframe X, remove Responses \n",
    "X = pd.DataFrame(df_churn[[\"Outage_sec_perweek\",\"Contacts\",\"Yearly_equip_failure\",\"Tenure\",\"dummy_One year\",\"dummy_Two Year\",\"dummy_Fiber Optic\",\"TechSupport\",\"Replacements\",\"Reliability\"]])\n",
    "\n",
    "#Create VIF dataframe [In-text citation: GeeksforGeeks]\n",
    "vif_data = pd.DataFrame()\n",
    "vif_data[\"feature\"] = X.columns\n",
    "\n",
    "#Calculate VIF for each independent variable\n",
    "vif_data[\"VIF\"] = [variance_inflation_factor(X.values, i) for i in range(len(X.columns))]\n",
    "\n",
    "#print VIF data\n",
    "print(vif_data)"
   ]
  },
  {
   "cell_type": "markdown",
   "id": "a3eec8a8-a3f7-4432-a4ec-68c11c01bc5f",
   "metadata": {},
   "source": [
    "#### Remove Responses, Fixes, and MonthlyCharge (VIF > 10) from initial model.  Perform new regression to check for features with largest p-value greater than 0.05"
   ]
  },
  {
   "cell_type": "code",
   "execution_count": null,
   "id": "da22be7e-1f0a-4df9-98c7-8e8eb4a11654",
   "metadata": {},
   "outputs": [],
   "source": [
    "#Iterate on logistic regression model, remove Responses, Fixes, and MonthlyCharge (VIF > 10)\n",
    "X = pd.DataFrame(df_churn[[\"Outage_sec_perweek\",\"Contacts\",\"Yearly_equip_failure\",\"Tenure\",\"dummy_One year\",\"dummy_Two Year\",\"dummy_Fiber Optic\",\"TechSupport\",\"Replacements\",\"Reliability\"]])\n",
    "X = sm.add_constant(X)\n",
    "\n",
    "y = pd.DataFrame(df_churn[[\"Churn\"]])\n",
    "\n",
    "mdl_initial = sm.Logit(y, X).fit()\n",
    "\n",
    "mdl_initial.summary2()"
   ]
  },
  {
   "cell_type": "markdown",
   "id": "ec897a31-27c3-49b0-bce7-9d317c3d2396",
   "metadata": {},
   "source": [
    "#### Remove Outage_sec_perweek (p > 0.05) and check p-values again "
   ]
  },
  {
   "cell_type": "code",
   "execution_count": null,
   "id": "fb5be5f5-e75c-4d81-aff5-2ea85b9da683",
   "metadata": {},
   "outputs": [],
   "source": [
    "#Iterate on logistic regression model, remove Outage_sec_perweek (p-value > 0.05)\n",
    "X = pd.DataFrame(df_churn[[\"Contacts\",\"Yearly_equip_failure\",\"Tenure\",\"dummy_One year\",\"dummy_Two Year\",\"dummy_Fiber Optic\",\"TechSupport\",\"Replacements\",\"Reliability\"]])\n",
    "X = sm.add_constant(X)\n",
    "\n",
    "y = pd.DataFrame(df_churn[[\"Churn\"]])\n",
    "\n",
    "mdl_initial = sm.Logit(y, X).fit()\n",
    "\n",
    "mdl_initial.summary2()"
   ]
  },
  {
   "cell_type": "markdown",
   "id": "1d6ca57a-f856-4387-862f-a2415f2063c0",
   "metadata": {},
   "source": [
    "#### Remove Replacements (p > 0.05) and check p-values again"
   ]
  },
  {
   "cell_type": "code",
   "execution_count": null,
   "id": "1cdcc45c-30fc-476c-bb8e-5215f3160ef6",
   "metadata": {},
   "outputs": [],
   "source": [
    "#Iterate on logistic regression model, remove Replacements (p-value > 0.05)\n",
    "X = pd.DataFrame(df_churn[[\"Contacts\",\"Yearly_equip_failure\",\"Tenure\",\"dummy_One year\",\"dummy_Two Year\",\"dummy_Fiber Optic\",\"TechSupport\",\"Reliability\"]])\n",
    "X = sm.add_constant(X)\n",
    "\n",
    "y = pd.DataFrame(df_churn[[\"Churn\"]])\n",
    "\n",
    "mdl_initial = sm.Logit(y, X).fit()\n",
    "\n",
    "mdl_initial.summary2()"
   ]
  },
  {
   "cell_type": "markdown",
   "id": "9a5e2a6d-5be5-43c3-ab7f-088773c23864",
   "metadata": {},
   "source": [
    "#### Remove Yearly_equip_failure (p > 0.05) and check p-values again"
   ]
  },
  {
   "cell_type": "code",
   "execution_count": null,
   "id": "33a91e11-07db-4a97-81b2-784519277487",
   "metadata": {},
   "outputs": [],
   "source": [
    "#Iterate on logistic regression model, remove Yearly_equip_failure (p-value > 0.05)\n",
    "X = pd.DataFrame(df_churn[[\"Contacts\",\"Tenure\",\"dummy_One year\",\"dummy_Two Year\",\"dummy_Fiber Optic\",\"TechSupport\",\"Reliability\"]])\n",
    "X = sm.add_constant(X)\n",
    "\n",
    "y = pd.DataFrame(df_churn[[\"Churn\"]])\n",
    "\n",
    "mdl_initial = sm.Logit(y, X).fit()\n",
    "\n",
    "mdl_initial.summary2()"
   ]
  },
  {
   "cell_type": "markdown",
   "id": "a1fd13bc-2c0b-4fc6-91bc-ea1c9baa1b60",
   "metadata": {},
   "source": [
    "#### Remove Reliability (p > 0.05) and check p-values again "
   ]
  },
  {
   "cell_type": "code",
   "execution_count": null,
   "id": "898ee74d-c4fe-47be-bedd-236a0196c748",
   "metadata": {},
   "outputs": [],
   "source": [
    "#Iterate on logistic regression model, remove Yearly_equip_failure (p-value > 0.05)\n",
    "X = pd.DataFrame(df_churn[[\"Contacts\",\"Tenure\",\"dummy_One year\",\"dummy_Two Year\",\"dummy_Fiber Optic\",\"TechSupport\"]])\n",
    "X = sm.add_constant(X)\n",
    "\n",
    "y = pd.DataFrame(df_churn[[\"Churn\"]])\n",
    "\n",
    "mdl_initial = sm.Logit(y, X).fit()\n",
    "\n",
    "mdl_initial.summary2()"
   ]
  },
  {
   "cell_type": "markdown",
   "id": "e43739b0-7719-4607-bc8a-5f1fb3a6fce2",
   "metadata": {},
   "source": [
    "#### Remove Contacts (p > 0.05) and check p-values"
   ]
  },
  {
   "cell_type": "code",
   "execution_count": null,
   "id": "be1cc8f3-8101-4980-bfac-fe77a321d16c",
   "metadata": {},
   "outputs": [],
   "source": [
    "#Iterate on logistic regression model, remove Contacts (p-value > 0.05)\n",
    "X = pd.DataFrame(df_churn[[\"Tenure\",\"dummy_One year\",\"dummy_Two Year\",\"dummy_Fiber Optic\",\"TechSupport\"]])\n",
    "X = sm.add_constant(X)\n",
    "\n",
    "y = pd.DataFrame(df_churn[[\"Churn\"]])\n",
    "\n",
    "mdl_initial = sm.Logit(y, X).fit()\n",
    "\n",
    "mdl_initial.summary2()"
   ]
  },
  {
   "cell_type": "markdown",
   "id": "1571073e-7616-4e41-abae-067fad199c96",
   "metadata": {},
   "source": [
    "#### Remove TechSupport(p > 0.05) and check p-values"
   ]
  },
  {
   "cell_type": "code",
   "execution_count": null,
   "id": "96d75087-6b0e-4fec-bb31-431c7a15a7cc",
   "metadata": {},
   "outputs": [],
   "source": [
    "#Iterate on logistic regression model, remove TechSupport (p-value > 0.05)\n",
    "X = pd.DataFrame(df_churn[[\"Tenure\",\"dummy_One year\",\"dummy_Two Year\",\"dummy_Fiber Optic\"]])\n",
    "X = sm.add_constant(X)\n",
    "\n",
    "y = pd.DataFrame(df_churn[[\"Churn\"]])\n",
    "\n",
    "mdl_initial = sm.Logit(y, X).fit()\n",
    "\n",
    "mdl_initial.summary2()"
   ]
  },
  {
   "cell_type": "markdown",
   "id": "6ab3f018-809e-412d-9064-3438ef22167f",
   "metadata": {},
   "source": [
    "#### Reduced logistic regression model "
   ]
  },
  {
   "cell_type": "code",
   "execution_count": null,
   "id": "0309b375-10cf-4422-9bd6-63ee76772d95",
   "metadata": {
    "tags": []
   },
   "outputs": [],
   "source": [
    "#Iterate on logistic regression model, remove TechSupport (p-value > 0.05)\n",
    "X = pd.DataFrame(df_churn[[\"Tenure\",\"dummy_One year\",\"dummy_Two Year\",\"dummy_Fiber Optic\"]])\n",
    "X = sm.add_constant(X)\n",
    "\n",
    "y = pd.DataFrame(df_churn[[\"Churn\"]])\n",
    "\n",
    "mdl_reduced = sm.Logit(y, X).fit()\n",
    "\n",
    "mdl_reduced.summary2()"
   ]
  },
  {
   "cell_type": "code",
   "execution_count": null,
   "id": "e08b0c41",
   "metadata": {},
   "outputs": [],
   "source": [
    "print(df_churn.Churn.dtype)"
   ]
  },
  {
   "cell_type": "markdown",
   "id": "00887133-f946-4c07-bd7b-8d69f88f924a",
   "metadata": {},
   "source": [
    "## E1."
   ]
  },
  {
   "cell_type": "markdown",
   "id": "4002e59b-a7db-45df-a1b2-de4fc6810986",
   "metadata": {},
   "source": [
    "&nbsp;&nbsp;&nbsp;&nbsp;&nbsp;After checking the variance inflation factor and p-value of each variable, I was able to iterate on my initial model several times until I was left with a complete reduced model.  The VIF calculations indicated that \"Responses\", \"Fixes\", and \"MonthlyCharge\" needed to be removed due to high correlation with other predictors.  Additionally, I was left with only statistically significant variables because I eliminated all independent variables with p-values greater than 0.05.  The final model contains 4 independent variables from the 15 (including dummy variables) in the initial model.  These variables are \"Tenure\", \"dummy_One year\", \"dummy_Two Year\", and \"dummy_Fiber Optic\". \n",
    "\n",
    "&nbsp;&nbsp;&nbsp;&nbsp;&nbsp;To compare these two models, I decided to review their pseudo R-squared values.  As mentioned previously, a single pseudo R-squared value means nothing on its own.  However, a comparison of the values between the two models will inform us which one is superior.  We can see from calculations above that the initial model has a pseudo R-squared of 0.573.  The reduced model has a pseudo R-squared of 0.329.  Based on this information, we can conclude that the initial model has a better fit than the reduced model.  "
   ]
  },
  {
   "cell_type": "markdown",
   "id": "fa0b8923-707e-4f5c-b5fd-8dfe7bd7204f",
   "metadata": {},
   "source": [
    "## E2. "
   ]
  },
  {
   "cell_type": "code",
   "execution_count": null,
   "id": "f8416243-2dde-4e38-a37f-dd5799767ee0",
   "metadata": {},
   "outputs": [],
   "source": [
    "y_pred = mdl_reduced.predict(X)"
   ]
  },
  {
   "cell_type": "code",
   "execution_count": null,
   "id": "cbf2bec1",
   "metadata": {},
   "outputs": [],
   "source": [
    "print(y_pred)"
   ]
  },
  {
   "cell_type": "code",
   "execution_count": null,
   "id": "3eaa3c6f",
   "metadata": {},
   "outputs": [],
   "source": [
    "#y_pred = np.round(y_pred)"
   ]
  },
  {
   "cell_type": "code",
   "execution_count": null,
   "id": "c97fc481-061b-4a7b-a472-a5d9eaa2a96f",
   "metadata": {},
   "outputs": [],
   "source": [
    "confusion_matrix(y, y_pred)"
   ]
  },
  {
   "cell_type": "code",
   "execution_count": null,
   "id": "9c59ceca",
   "metadata": {},
   "outputs": [],
   "source": [
    "accuracy_score(y, np.round(y_pred))"
   ]
  },
  {
   "cell_type": "markdown",
   "id": "0c81935b-bcc3-4a4d-8d97-fc8383eb1f5c",
   "metadata": {},
   "source": [
    "## H. Sources\n",
    "\n",
    "UCLA Statistical Consulting Group. (n.d.). FAQ: What are Pseudo R-Squareds?. UCLA Statistical Methods and Analytics. https://stats.oarc.ucla.edu/other/mult-pkg/faq/general/faq-what-are-pseudo-r-squareds/\n",
    "\n",
    "https://www.analyticsvidhya.com/blog/2020/04/confusion-matrix-machine-learning/"
   ]
  },
  {
   "cell_type": "code",
   "execution_count": null,
   "id": "a904884f",
   "metadata": {},
   "outputs": [],
   "source": []
  }
 ],
 "metadata": {
  "kernelspec": {
   "display_name": "Python 3 (ipykernel)",
   "language": "python",
   "name": "python3"
  },
  "language_info": {
   "codemirror_mode": {
    "name": "ipython",
    "version": 3
   },
   "file_extension": ".py",
   "mimetype": "text/x-python",
   "name": "python",
   "nbconvert_exporter": "python",
   "pygments_lexer": "ipython3",
   "version": "3.11.4"
  }
 },
 "nbformat": 4,
 "nbformat_minor": 5
}
