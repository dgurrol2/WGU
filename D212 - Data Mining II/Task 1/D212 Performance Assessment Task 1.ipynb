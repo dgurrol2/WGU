{
 "cells": [
  {
   "cell_type": "markdown",
   "id": "f07a149d",
   "metadata": {},
   "source": [
    "## Darian Gurrola\n",
    "## Course Instructor: Dr. Keiona Middleton"
   ]
  },
  {
   "cell_type": "markdown",
   "id": "233b9529-a21a-4ba6-b871-cadb75afe6fb",
   "metadata": {},
   "source": [
    "## A1. \n",
    "\n",
    "&nbsp;&nbsp;&nbsp;&nbsp;&nbsp;The business question being investigated is \"How can the telecommunications company segment its customers into distinct clusters?\"  This will be answered using a k-means clustering algorithm."
   ]
  },
  {
   "cell_type": "markdown",
   "id": "8fd2c5aa-e7e5-4992-a828-6739c28c15fa",
   "metadata": {},
   "source": [
    "## A2. \n",
    "\n",
    "&nbsp;&nbsp;&nbsp;&nbsp;&nbsp;The primary goal of this analysis is to determine the optimal number of clusters using K-means.  "
   ]
  },
  {
   "cell_type": "markdown",
   "id": "9aa4b3af-9e0b-4cda-b519-680ef24f7e08",
   "metadata": {},
   "source": [
    "## B1.\n",
    "\n",
    "For this analysis, I will use a K-means to group the telecommunications customers into clusters.  K-means works by selecting k data points to serve as centroids (center points) of a cluster.  The remaining data points are assigned to the nearest centroid to form clusters.  This process is repeated by iterating over a range of values for k (Sharma 2024).  The expected outcome is to determine what the optimal number of clusters is."
   ]
  },
  {
   "cell_type": "markdown",
   "id": "17692435-4e36-436e-b796-0eeea4016607",
   "metadata": {},
   "source": [
    "## B2. \n",
    "\n",
    "One assumption of K-means clustering is that all clusters have the same variance.  This means that the data points should be distributed similarly around each centroid (Geeks for Geeks, 2023)."
   ]
  },
  {
   "cell_type": "markdown",
   "id": "45f1934f-201c-4294-8015-0476b895c4b7",
   "metadata": {},
   "source": [
    "## B3.\n",
    "\n",
    "&nbsp;&nbsp;&nbsp;&nbsp;&nbsp;I used several python libraries to support this analysis.  Pandas was used to import and manipulate the initial data.  Numpy was used to perform basic calculations.  Seaborn and matplotlib were used to generate visualizations.  Lastly, scikit-learn was used to create and evaluate the K-means models."
   ]
  },
  {
   "cell_type": "code",
   "execution_count": 1,
   "id": "f549f37f-6590-4d47-b61e-5413ae7043fe",
   "metadata": {},
   "outputs": [],
   "source": [
    "import pandas as pd\n",
    "import numpy as np\n",
    "import seaborn as sns\n",
    "import matplotlib.pyplot as plt\n",
    "import sklearn\n",
    "from sklearn.preprocessing import StandardScaler\n",
    "from sklearn.cluster import KMeans\n",
    "from sklearn.metrics import silhouette_score"
   ]
  },
  {
   "cell_type": "markdown",
   "id": "e2e84390-6249-4571-92cc-ad0c3604deda",
   "metadata": {},
   "source": [
    "## C1. \n",
    "\n",
    "&nbsp;&nbsp;&nbsp;&nbsp;&nbsp;One data preprocessing goal for this analysis is to clean the data.  This process will involve detecting and treating any duplicates, missing values, and outliers.  Data cleaning is required to produce consistent, structured, and accurate data for use in an analysis.  Failure to treat data quality issues could cause the clustering model to produce misleading results."
   ]
  },
  {
   "cell_type": "markdown",
   "id": "adb88631-a328-4e9f-acde-da6d2a4cfec8",
   "metadata": {},
   "source": [
    "## C2. "
   ]
  },
  {
   "cell_type": "markdown",
   "id": "4e46b244-42d9-4db4-8f2a-9175cdf90109",
   "metadata": {},
   "source": [
    "For this analysis, I will be using the variables below.  Each variable selected is continuous.\n",
    "\n",
    "<ul>\n",
    "    <li>Population</li>\n",
    "    <li>Children</li>\n",
    "    <li>Age</li>\n",
    "    <li>Income</li>\n",
    "    <li>Outage_sec_perweek</li>\n",
    "    <li>Email</li>\n",
    "    <li>Contacts</li>\n",
    "    <li>Yearly_equip_failure</li>\n",
    "    <li>Tenure</li>\n",
    "    <li>MonthlyCharge</li>\n",
    "    <li>Bandwidth_GB_Year</li>\n",
    "</ul>"
   ]
  },
  {
   "cell_type": "markdown",
   "id": "8a4874fd-664b-4a38-8fcb-30c30c0a0111",
   "metadata": {},
   "source": [
    "## C3."
   ]
  },
  {
   "cell_type": "markdown",
   "id": "c4fa324e-4c58-4085-b43d-6476648ff7ca",
   "metadata": {},
   "source": [
    "The first step in preparing the data is to import the initial csv file.  To do this, I will use the \"read_csv()\" method from the pandas library.  The initial data will be imported to a dataframe called \"df_initial\"."
   ]
  },
  {
   "cell_type": "code",
   "execution_count": 2,
   "id": "2b51768a-28db-4310-9ece-8ff4951baab5",
   "metadata": {},
   "outputs": [],
   "source": [
    "df_initial = pd.read_csv('churn_clean.csv')"
   ]
  },
  {
   "cell_type": "markdown",
   "id": "aa01d81d-fa3c-4118-86d2-921ef9848747",
   "metadata": {},
   "source": [
    "I will then select my continuous variables and assign them to a new dataframe called \"df_churn\"."
   ]
  },
  {
   "cell_type": "code",
   "execution_count": 3,
   "id": "9c876ccc-e19e-445c-8370-c6860ba825ef",
   "metadata": {},
   "outputs": [],
   "source": [
    "df_churn = df_initial[[\"Population\",\"Children\",\"Age\",\"Income\",\"Outage_sec_perweek\",\"Email\",\"Contacts\",\"Yearly_equip_failure\",\"Tenure\",\"MonthlyCharge\",\"Bandwidth_GB_Year\"]]"
   ]
  },
  {
   "cell_type": "markdown",
   "id": "65baea94-8108-4f46-ba7d-9bb0d7a7ed18",
   "metadata": {},
   "source": [
    "The next step is to explore the dataset.  I will do this by printing the first five observations using the \"head()\" function from pandas.  This will provide a general idea of what the data looks like.  After that, I will use the \"describe()\" method to obtain summary statistics such as the mean and median values for each of the selected variables."
   ]
  },
  {
   "cell_type": "code",
   "execution_count": 4,
   "id": "6c5adc2c-a098-4086-8059-a459f4a22d89",
   "metadata": {},
   "outputs": [
    {
     "data": {
      "text/html": [
       "<div>\n",
       "<style scoped>\n",
       "    .dataframe tbody tr th:only-of-type {\n",
       "        vertical-align: middle;\n",
       "    }\n",
       "\n",
       "    .dataframe tbody tr th {\n",
       "        vertical-align: top;\n",
       "    }\n",
       "\n",
       "    .dataframe thead th {\n",
       "        text-align: right;\n",
       "    }\n",
       "</style>\n",
       "<table border=\"1\" class=\"dataframe\">\n",
       "  <thead>\n",
       "    <tr style=\"text-align: right;\">\n",
       "      <th></th>\n",
       "      <th>Population</th>\n",
       "      <th>Children</th>\n",
       "      <th>Age</th>\n",
       "      <th>Income</th>\n",
       "      <th>Outage_sec_perweek</th>\n",
       "      <th>Email</th>\n",
       "      <th>Contacts</th>\n",
       "      <th>Yearly_equip_failure</th>\n",
       "      <th>Tenure</th>\n",
       "      <th>MonthlyCharge</th>\n",
       "      <th>Bandwidth_GB_Year</th>\n",
       "    </tr>\n",
       "  </thead>\n",
       "  <tbody>\n",
       "    <tr>\n",
       "      <th>0</th>\n",
       "      <td>38</td>\n",
       "      <td>0</td>\n",
       "      <td>68</td>\n",
       "      <td>28561.99</td>\n",
       "      <td>7.978323</td>\n",
       "      <td>10</td>\n",
       "      <td>0</td>\n",
       "      <td>1</td>\n",
       "      <td>6.795513</td>\n",
       "      <td>172.455519</td>\n",
       "      <td>904.536110</td>\n",
       "    </tr>\n",
       "    <tr>\n",
       "      <th>1</th>\n",
       "      <td>10446</td>\n",
       "      <td>1</td>\n",
       "      <td>27</td>\n",
       "      <td>21704.77</td>\n",
       "      <td>11.699080</td>\n",
       "      <td>12</td>\n",
       "      <td>0</td>\n",
       "      <td>1</td>\n",
       "      <td>1.156681</td>\n",
       "      <td>242.632554</td>\n",
       "      <td>800.982766</td>\n",
       "    </tr>\n",
       "    <tr>\n",
       "      <th>2</th>\n",
       "      <td>3735</td>\n",
       "      <td>4</td>\n",
       "      <td>50</td>\n",
       "      <td>9609.57</td>\n",
       "      <td>10.752800</td>\n",
       "      <td>9</td>\n",
       "      <td>0</td>\n",
       "      <td>1</td>\n",
       "      <td>15.754144</td>\n",
       "      <td>159.947583</td>\n",
       "      <td>2054.706961</td>\n",
       "    </tr>\n",
       "    <tr>\n",
       "      <th>3</th>\n",
       "      <td>13863</td>\n",
       "      <td>1</td>\n",
       "      <td>48</td>\n",
       "      <td>18925.23</td>\n",
       "      <td>14.913540</td>\n",
       "      <td>15</td>\n",
       "      <td>2</td>\n",
       "      <td>0</td>\n",
       "      <td>17.087227</td>\n",
       "      <td>119.956840</td>\n",
       "      <td>2164.579412</td>\n",
       "    </tr>\n",
       "    <tr>\n",
       "      <th>4</th>\n",
       "      <td>11352</td>\n",
       "      <td>0</td>\n",
       "      <td>83</td>\n",
       "      <td>40074.19</td>\n",
       "      <td>8.147417</td>\n",
       "      <td>16</td>\n",
       "      <td>2</td>\n",
       "      <td>1</td>\n",
       "      <td>1.670972</td>\n",
       "      <td>149.948316</td>\n",
       "      <td>271.493436</td>\n",
       "    </tr>\n",
       "  </tbody>\n",
       "</table>\n",
       "</div>"
      ],
      "text/plain": [
       "   Population  Children  Age    Income  Outage_sec_perweek  Email  Contacts  \\\n",
       "0          38         0   68  28561.99            7.978323     10         0   \n",
       "1       10446         1   27  21704.77           11.699080     12         0   \n",
       "2        3735         4   50   9609.57           10.752800      9         0   \n",
       "3       13863         1   48  18925.23           14.913540     15         2   \n",
       "4       11352         0   83  40074.19            8.147417     16         2   \n",
       "\n",
       "   Yearly_equip_failure     Tenure  MonthlyCharge  Bandwidth_GB_Year  \n",
       "0                     1   6.795513     172.455519         904.536110  \n",
       "1                     1   1.156681     242.632554         800.982766  \n",
       "2                     1  15.754144     159.947583        2054.706961  \n",
       "3                     0  17.087227     119.956840        2164.579412  \n",
       "4                     1   1.670972     149.948316         271.493436  "
      ]
     },
     "execution_count": 4,
     "metadata": {},
     "output_type": "execute_result"
    }
   ],
   "source": [
    "#Print first five rows of df_churn\n",
    "df_churn.head()"
   ]
  },
  {
   "cell_type": "code",
   "execution_count": 5,
   "id": "5a97d7e0-94b3-4cb5-a980-59fa7c7cbfeb",
   "metadata": {},
   "outputs": [
    {
     "name": "stdout",
     "output_type": "stream",
     "text": [
      "count     10000.000000\n",
      "mean       9756.562400\n",
      "std       14432.698671\n",
      "min           0.000000\n",
      "25%         738.000000\n",
      "50%        2910.500000\n",
      "75%       13168.000000\n",
      "max      111850.000000\n",
      "Name: Population, dtype: float64\n"
     ]
    }
   ],
   "source": [
    "#Print summary of Population variable\n",
    "print(df_churn[\"Population\"].describe())"
   ]
  },
  {
   "cell_type": "code",
   "execution_count": 6,
   "id": "17b0857c-3a02-4768-986f-9c93d7f0f5cf",
   "metadata": {},
   "outputs": [
    {
     "name": "stdout",
     "output_type": "stream",
     "text": [
      "count    10000.0000\n",
      "mean         2.0877\n",
      "std          2.1472\n",
      "min          0.0000\n",
      "25%          0.0000\n",
      "50%          1.0000\n",
      "75%          3.0000\n",
      "max         10.0000\n",
      "Name: Children, dtype: float64\n"
     ]
    }
   ],
   "source": [
    "#Print summary of Children variable\n",
    "print(df_churn[\"Children\"].describe())"
   ]
  },
  {
   "cell_type": "code",
   "execution_count": 7,
   "id": "ce2ef1a1-b4d9-46e9-a31b-346756c56b56",
   "metadata": {},
   "outputs": [
    {
     "name": "stdout",
     "output_type": "stream",
     "text": [
      "count    10000.000000\n",
      "mean        53.078400\n",
      "std         20.698882\n",
      "min         18.000000\n",
      "25%         35.000000\n",
      "50%         53.000000\n",
      "75%         71.000000\n",
      "max         89.000000\n",
      "Name: Age, dtype: float64\n"
     ]
    }
   ],
   "source": [
    "#Print summary of Age variable\n",
    "print(df_churn[\"Age\"].describe())"
   ]
  },
  {
   "cell_type": "code",
   "execution_count": 8,
   "id": "8700d103-583c-4caf-878f-734f704ed8c0",
   "metadata": {},
   "outputs": [
    {
     "name": "stdout",
     "output_type": "stream",
     "text": [
      "count     10000.000000\n",
      "mean      39806.926771\n",
      "std       28199.916702\n",
      "min         348.670000\n",
      "25%       19224.717500\n",
      "50%       33170.605000\n",
      "75%       53246.170000\n",
      "max      258900.700000\n",
      "Name: Income, dtype: float64\n"
     ]
    }
   ],
   "source": [
    "#Print summary of Income variable\n",
    "print(df_churn[\"Income\"].describe())"
   ]
  },
  {
   "cell_type": "code",
   "execution_count": 9,
   "id": "557f495b-0b03-4fd1-b592-897026e17929",
   "metadata": {},
   "outputs": [
    {
     "name": "stdout",
     "output_type": "stream",
     "text": [
      "count     10000.000000\n",
      "mean       9756.562400\n",
      "std       14432.698671\n",
      "min           0.000000\n",
      "25%         738.000000\n",
      "50%        2910.500000\n",
      "75%       13168.000000\n",
      "max      111850.000000\n",
      "Name: Population, dtype: float64\n"
     ]
    }
   ],
   "source": [
    "#Print summary of Outage_sec_perweek variable\n",
    "print(df_churn[\"Population\"].describe())"
   ]
  },
  {
   "cell_type": "code",
   "execution_count": 10,
   "id": "5b43511e-4114-44b8-8acf-eb9b5953605f",
   "metadata": {},
   "outputs": [
    {
     "name": "stdout",
     "output_type": "stream",
     "text": [
      "count    10000.000000\n",
      "mean        12.016000\n",
      "std          3.025898\n",
      "min          1.000000\n",
      "25%         10.000000\n",
      "50%         12.000000\n",
      "75%         14.000000\n",
      "max         23.000000\n",
      "Name: Email, dtype: float64\n"
     ]
    }
   ],
   "source": [
    "#Print summary of Email variable\n",
    "print(df_churn[\"Email\"].describe())"
   ]
  },
  {
   "cell_type": "code",
   "execution_count": 11,
   "id": "b3fe7612-063c-4660-bd48-73d6ee0a00d9",
   "metadata": {},
   "outputs": [
    {
     "name": "stdout",
     "output_type": "stream",
     "text": [
      "count    10000.000000\n",
      "mean         0.994200\n",
      "std          0.988466\n",
      "min          0.000000\n",
      "25%          0.000000\n",
      "50%          1.000000\n",
      "75%          2.000000\n",
      "max          7.000000\n",
      "Name: Contacts, dtype: float64\n"
     ]
    }
   ],
   "source": [
    "#Print summary of Contacts variable\n",
    "print(df_churn[\"Contacts\"].describe())"
   ]
  },
  {
   "cell_type": "code",
   "execution_count": 12,
   "id": "c8575925-636a-4102-8d3e-9819d1b3a661",
   "metadata": {},
   "outputs": [
    {
     "name": "stdout",
     "output_type": "stream",
     "text": [
      "count    10000.000000\n",
      "mean         0.398000\n",
      "std          0.635953\n",
      "min          0.000000\n",
      "25%          0.000000\n",
      "50%          0.000000\n",
      "75%          1.000000\n",
      "max          6.000000\n",
      "Name: Yearly_equip_failure, dtype: float64\n"
     ]
    }
   ],
   "source": [
    "#Print summary of Yearly_equip_failure variable\n",
    "print(df_churn[\"Yearly_equip_failure\"].describe())"
   ]
  },
  {
   "cell_type": "code",
   "execution_count": 13,
   "id": "6293d70d-c395-449c-90e5-c450f37428b3",
   "metadata": {},
   "outputs": [
    {
     "name": "stdout",
     "output_type": "stream",
     "text": [
      "count    10000.000000\n",
      "mean        34.526188\n",
      "std         26.443063\n",
      "min          1.000259\n",
      "25%          7.917694\n",
      "50%         35.430507\n",
      "75%         61.479795\n",
      "max         71.999280\n",
      "Name: Tenure, dtype: float64\n"
     ]
    }
   ],
   "source": [
    "#Print summary of Tenure variable\n",
    "print(df_churn[\"Tenure\"].describe())"
   ]
  },
  {
   "cell_type": "code",
   "execution_count": 14,
   "id": "59d6816f-71df-426f-97e9-b644a0cd2560",
   "metadata": {},
   "outputs": [
    {
     "name": "stdout",
     "output_type": "stream",
     "text": [
      "count    10000.000000\n",
      "mean       172.624816\n",
      "std         42.943094\n",
      "min         79.978860\n",
      "25%        139.979239\n",
      "50%        167.484700\n",
      "75%        200.734725\n",
      "max        290.160419\n",
      "Name: MonthlyCharge, dtype: float64\n"
     ]
    }
   ],
   "source": [
    "#Print summary of MonthlyCharge variable\n",
    "print(df_churn[\"MonthlyCharge\"].describe())"
   ]
  },
  {
   "cell_type": "code",
   "execution_count": 15,
   "id": "9dd1a654-63a3-4985-a1c3-a1d05e04b4d8",
   "metadata": {},
   "outputs": [
    {
     "name": "stdout",
     "output_type": "stream",
     "text": [
      "count    10000.000000\n",
      "mean      3392.341550\n",
      "std       2185.294852\n",
      "min        155.506715\n",
      "25%       1236.470827\n",
      "50%       3279.536903\n",
      "75%       5586.141370\n",
      "max       7158.981530\n",
      "Name: Bandwidth_GB_Year, dtype: float64\n"
     ]
    }
   ],
   "source": [
    "#Print summary of Bandwidth_GB_Year variable\n",
    "print(df_churn[\"Bandwidth_GB_Year\"].describe())"
   ]
  },
  {
   "cell_type": "markdown",
   "id": "32ea801e-9f98-40d6-bd6b-52f134065e49",
   "metadata": {},
   "source": [
    "&nbsp;&nbsp;&nbsp;&nbsp;&nbsp;The next step in my preparation process was to clean the data.  This will involve detecting and treating data quality issues such as duplicates, missing values, and outliers.  I detected duplicates by combining the \"duplicated()\" and \"value_counts()” methods from the pandas library and using them on \"df_churn\".  The output indicated that there were no duplicate rows in the data.  \n",
    "\n",
    "&nbsp;&nbsp;&nbsp;&nbsp;&nbsp;I then moved on to detecting missing values in the data. To do this, I used the \"isnull()\" method from pandas and the \"sum()\" method on \"df_churn\".  The output showed that there were no missing values in the dataset.\n",
    "\n",
    "&nbsp;&nbsp;&nbsp;&nbsp;&nbsp;I detected outliers in the data by generating boxplots for each of the quantitative variables.  This was done using the \"boxplot()\" function from the seaborn library.   In addition to the visualizations, I created a function called \"boxplot_info()\".  This function accepts a feature from df_churn as an input and provides key information such as the number of outliers and the range of outlier values.  The resulting output showed that there were outliers in \"Population\", \"Children\", \"Income\", \"Outage_sec_perweek\", and \"Yearly_equip_failure\". \n",
    "\n",
    "&nbsp;&nbsp;&nbsp;&nbsp;&nbsp;After reviewing the boxplots for each numerical variable, I chose to retain all outliers.  This was because the values were plausible and in my opinion, not egregrious enough to exclude.  I also did not want to reduce the sample size or potentially introduce bias into the dataset. "
   ]
  },
  {
   "cell_type": "code",
   "execution_count": 16,
   "id": "ff7be459-5b5e-40b4-941f-7bfd5bae8787",
   "metadata": {},
   "outputs": [
    {
     "name": "stdout",
     "output_type": "stream",
     "text": [
      "False    10000\n",
      "dtype: int64\n"
     ]
    }
   ],
   "source": [
    "#Detect duplicate rows in df_churn \n",
    "print(df_churn.duplicated().value_counts())"
   ]
  },
  {
   "cell_type": "code",
   "execution_count": 17,
   "id": "3c0fd85c-3acc-466c-a469-ecccfe00d76a",
   "metadata": {},
   "outputs": [
    {
     "data": {
      "text/plain": [
       "Population              0\n",
       "Children                0\n",
       "Age                     0\n",
       "Income                  0\n",
       "Outage_sec_perweek      0\n",
       "Email                   0\n",
       "Contacts                0\n",
       "Yearly_equip_failure    0\n",
       "Tenure                  0\n",
       "MonthlyCharge           0\n",
       "Bandwidth_GB_Year       0\n",
       "dtype: int64"
      ]
     },
     "execution_count": 17,
     "metadata": {},
     "output_type": "execute_result"
    }
   ],
   "source": [
    "#Detect missing values in df_churn\n",
    "df_churn.isnull().sum()"
   ]
  },
  {
   "cell_type": "code",
   "execution_count": 18,
   "id": "55f35500-f16b-4f10-a8ff-fd9e747aae60",
   "metadata": {},
   "outputs": [],
   "source": [
    "#Create function to provide boxplot information\n",
    "def boxplot_info(input):\n",
    "\n",
    "    #obtain values of column and ignore nulls \n",
    "    data = input.dropna().values\n",
    "    \n",
    "    #calculate values of Q1 and Q3   \n",
    "    q1 = input.quantile(0.25)\n",
    "    print(\"Q1: \" + str(q1))\n",
    "    q3 = input.quantile(0.75)\n",
    "    print(\"Q3: \" + str(q3))\n",
    "    \n",
    "    #Calculate interquartile range for boxplot by subtracting Q1 from Q3\n",
    "    iqr = q3 - q1\n",
    "    print(\"IQR: \" + str(iqr))\n",
    "    \n",
    "    #Calculate whisker values of boxplot. \n",
    "    whisker_lower = q1 - (1.5 * iqr)\n",
    "    print(\"Lower Whisker: \" + str(whisker_lower))\n",
    "    whisker_upper = q3 + (1.5 * iqr)\n",
    "    print(\"Upper Whisker: \" + str(whisker_upper))\n",
    "    \n",
    "     #Find number of outliers outside of Q1 and Q3.  Print total number of outliers in column.  \n",
    "    outliers_min = (input < whisker_lower).sum()\n",
    "    print(\"Number of outliers lower than boxplot minimum: \" + str(outliers_min))\n",
    "    outliers_max = (input > whisker_upper).sum()\n",
    "    print(\"Number of outliers greater than boxplot maximum: \" + str(outliers_max))\n",
    "    outliers_total = outliers_min + outliers_max\n",
    "    print(\"Total number of Outliers: \" + str(outliers_total))\n",
    "    max_outlier = max(data)\n",
    "    print(\"Maximum Value: \" + str(max_outlier))\n",
    "    min_outlier = min(data)\n",
    "    print(\"Minimum Value: \" + str(min_outlier))"
   ]
  },
  {
   "cell_type": "code",
   "execution_count": 19,
   "id": "491c6379-0032-46be-b975-c4c38bed4078",
   "metadata": {},
   "outputs": [
    {
     "name": "stdout",
     "output_type": "stream",
     "text": [
      "Q1: 738.0\n",
      "Q3: 13168.0\n",
      "IQR: 12430.0\n",
      "Lower Whisker: -17907.0\n",
      "Upper Whisker: 31813.0\n",
      "Number of outliers lower than boxplot minimum: 0\n",
      "Number of outliers greater than boxplot maximum: 937\n",
      "Total number of Outliers: 937\n",
      "Maximum Value: 111850\n",
      "Minimum Value: 0\n"
     ]
    },
    {
     "data": {
      "image/png": "[encoded data removed]",
      "text/plain": [
       "<Figure size 640x480 with 1 Axes>"
      ]
     },
     "metadata": {},
     "output_type": "display_data"
    }
   ],
   "source": [
    "#Detect outliers in Population variable\n",
    "population_boxplot = sns.boxplot(x=\"Population\", data = df_churn).set_title(\"Population\")\n",
    "\n",
    "#Generate boxplot info for Population using boxplot_info function\n",
    "boxplot_info(df_churn['Population'])"
   ]
  },
  {
   "cell_type": "code",
   "execution_count": 20,
   "id": "522cdc4a-45b0-47ec-b27a-b9d592458501",
   "metadata": {},
   "outputs": [
    {
     "name": "stdout",
     "output_type": "stream",
     "text": [
      "Q1: 0.0\n",
      "Q3: 3.0\n",
      "IQR: 3.0\n",
      "Lower Whisker: -4.5\n",
      "Upper Whisker: 7.5\n",
      "Number of outliers lower than boxplot minimum: 0\n",
      "Number of outliers greater than boxplot maximum: 401\n",
      "Total number of Outliers: 401\n",
      "Maximum Value: 10\n",
      "Minimum Value: 0\n"
     ]
    },
    {
     "data": {
      "image/png": "[encoded data removed]",
      "text/plain": [
       "<Figure size 640x480 with 1 Axes>"
      ]
     },
     "metadata": {},
     "output_type": "display_data"
    }
   ],
   "source": [
    "#Detect outliers in Children variable\n",
    "population_boxplot = sns.boxplot(x=\"Children\", data = df_churn).set_title(\"Children\")\n",
    "\n",
    "#Generate boxplot info for Children using boxplot_info function\n",
    "boxplot_info(df_churn['Children'])"
   ]
  },
  {
   "cell_type": "code",
   "execution_count": 21,
   "id": "907ad50a-48ba-41e2-9fa7-c009a208e6d5",
   "metadata": {},
   "outputs": [
    {
     "name": "stdout",
     "output_type": "stream",
     "text": [
      "Q1: 35.0\n",
      "Q3: 71.0\n",
      "IQR: 36.0\n",
      "Lower Whisker: -19.0\n",
      "Upper Whisker: 125.0\n",
      "Number of outliers lower than boxplot minimum: 0\n",
      "Number of outliers greater than boxplot maximum: 0\n",
      "Total number of Outliers: 0\n",
      "Maximum Value: 89\n",
      "Minimum Value: 18\n"
     ]
    },
    {
     "data": {
      "image/png": "[encoded data removed]",
      "text/plain": [
       "<Figure size 640x480 with 1 Axes>"
      ]
     },
     "metadata": {},
     "output_type": "display_data"
    }
   ],
   "source": [
    "#Detect outliers in Age variable\n",
    "population_boxplot = sns.boxplot(x=\"Age\", data = df_churn).set_title(\"Age\")\n",
    "\n",
    "#Generate boxplot info for Population using boxplot_info function\n",
    "boxplot_info(df_churn['Age'])"
   ]
  },
  {
   "cell_type": "code",
   "execution_count": 22,
   "id": "70c2c97d-196c-41a6-8aa5-98693e0bae02",
   "metadata": {},
   "outputs": [
    {
     "name": "stdout",
     "output_type": "stream",
     "text": [
      "Q1: 19224.7175\n",
      "Q3: 53246.17\n",
      "IQR: 34021.4525\n",
      "Lower Whisker: -31807.46125\n",
      "Upper Whisker: 104278.34875\n",
      "Number of outliers lower than boxplot minimum: 0\n",
      "Number of outliers greater than boxplot maximum: 336\n",
      "Total number of Outliers: 336\n",
      "Maximum Value: 258900.7\n",
      "Minimum Value: 348.67\n"
     ]
    },
    {
     "data": {
      "image/png": "[encoded data removed]",
      "text/plain": [
       "<Figure size 640x480 with 1 Axes>"
      ]
     },
     "metadata": {},
     "output_type": "display_data"
    }
   ],
   "source": [
    "#Generate boxplot for Income variable\n",
    "income_boxplot = sns.boxplot(x=\"Income\", data = df_churn).set_title(\"Income\")\n",
    "\n",
    "#Generate boxplot info using boxplot_info() function\n",
    "boxplot_info(df_churn['Income'])"
   ]
  },
  {
   "cell_type": "code",
   "execution_count": 23,
   "id": "6e2b3e6e-3c33-4359-b8e6-10e14cda3ff6",
   "metadata": {},
   "outputs": [
    {
     "name": "stdout",
     "output_type": "stream",
     "text": [
      "Q1: 10.0\n",
      "Q3: 14.0\n",
      "IQR: 4.0\n",
      "Lower Whisker: 4.0\n",
      "Upper Whisker: 20.0\n",
      "Number of outliers lower than boxplot minimum: 23\n",
      "Number of outliers greater than boxplot maximum: 15\n",
      "Total number of Outliers: 38\n",
      "Maximum Value: 23\n",
      "Minimum Value: 1\n"
     ]
    },
    {
     "data": {
      "image/png": "[encoded data removed]",
      "text/plain": [
       "<Figure size 640x480 with 1 Axes>"
      ]
     },
     "metadata": {},
     "output_type": "display_data"
    }
   ],
   "source": [
    "#Generate boxplot for Email variable\n",
    "email_boxplot = sns.boxplot(x=\"Email\", data = df_churn).set_title(\"Email\")\n",
    "\n",
    "#Generate boxplot info using boxplot_info() function\n",
    "boxplot_info(df_churn['Email'])"
   ]
  },
  {
   "cell_type": "code",
   "execution_count": 24,
   "id": "bab06f0b-523f-40f1-a63c-6d97667e9606",
   "metadata": {},
   "outputs": [
    {
     "name": "stdout",
     "output_type": "stream",
     "text": [
      "Q1: 8.018214\n",
      "Q3: 11.969485\n",
      "IQR: 3.951271\n",
      "Lower Whisker: 2.0913075\n",
      "Upper Whisker: 17.8963915\n",
      "Number of outliers lower than boxplot minimum: 33\n",
      "Number of outliers greater than boxplot maximum: 43\n",
      "Total number of Outliers: 76\n",
      "Maximum Value: 21.20723\n",
      "Minimum Value: 0.09974694\n"
     ]
    },
    {
     "data": {
      "image/png": "[encoded data removed]",
      "text/plain": [
       "<Figure size 640x480 with 1 Axes>"
      ]
     },
     "metadata": {},
     "output_type": "display_data"
    }
   ],
   "source": [
    "#Generate boxplot for Outage_sec_perweek variable\n",
    "outage_boxplot = sns.boxplot(x=\"Outage_sec_perweek\", data = df_churn).set_title(\"Outage_sec_perweek\")\n",
    "\n",
    "#Generate boxplot info using boxplot_info() function\n",
    "boxplot_info(df_churn['Outage_sec_perweek'])"
   ]
  },
  {
   "cell_type": "code",
   "execution_count": 25,
   "id": "fcc96a92-4831-47bf-8e28-0d5364d25fb8",
   "metadata": {},
   "outputs": [
    {
     "name": "stdout",
     "output_type": "stream",
     "text": [
      "Q1: 0.0\n",
      "Q3: 1.0\n",
      "IQR: 1.0\n",
      "Lower Whisker: -1.5\n",
      "Upper Whisker: 2.5\n",
      "Number of outliers lower than boxplot minimum: 0\n",
      "Number of outliers greater than boxplot maximum: 94\n",
      "Total number of Outliers: 94\n",
      "Maximum Value: 6\n",
      "Minimum Value: 0\n"
     ]
    },
    {
     "data": {
      "image/png": "[encoded data removed]",
      "text/plain": [
       "<Figure size 640x480 with 1 Axes>"
      ]
     },
     "metadata": {},
     "output_type": "display_data"
    }
   ],
   "source": [
    "#Generate boxplot for Yearly_equip_failure variable\n",
    "email_boxplot = sns.boxplot(x=\"Yearly_equip_failure\", data = df_churn).set_title(\"Yearly_equip_failure\")\n",
    "\n",
    "#Generate boxplot info using boxplot_info() function\n",
    "boxplot_info(df_churn['Yearly_equip_failure'])"
   ]
  },
  {
   "cell_type": "code",
   "execution_count": 26,
   "id": "3c87032e-6340-4ca8-8e99-feb07d7f03dc",
   "metadata": {},
   "outputs": [
    {
     "name": "stdout",
     "output_type": "stream",
     "text": [
      "Q1: 7.91769359175\n",
      "Q3: 61.479795\n",
      "IQR: 53.56210140825\n",
      "Lower Whisker: -72.42545852062501\n",
      "Upper Whisker: 141.822947112375\n",
      "Number of outliers lower than boxplot minimum: 0\n",
      "Number of outliers greater than boxplot maximum: 0\n",
      "Total number of Outliers: 0\n",
      "Maximum Value: 71.99928\n",
      "Minimum Value: 1.00025934\n"
     ]
    },
    {
     "data": {
      "image/png": "[encoded data removed]",
      "text/plain": [
       "<Figure size 640x480 with 1 Axes>"
      ]
     },
     "metadata": {},
     "output_type": "display_data"
    }
   ],
   "source": [
    "#Generate boxplot for Tenure variable\n",
    "email_boxplot = sns.boxplot(x=\"Tenure\", data = df_churn).set_title(\"Tenure\")\n",
    "\n",
    "#Generate boxplot info using boxplot_info() function\n",
    "boxplot_info(df_churn['Tenure'])"
   ]
  },
  {
   "cell_type": "code",
   "execution_count": 27,
   "id": "715c510b-a7a3-4fcb-82d5-a736b41df4eb",
   "metadata": {},
   "outputs": [
    {
     "name": "stdout",
     "output_type": "stream",
     "text": [
      "Q1: 139.979239\n",
      "Q3: 200.734725\n",
      "IQR: 60.75548599999999\n",
      "Lower Whisker: 48.84601000000002\n",
      "Upper Whisker: 291.867954\n",
      "Number of outliers lower than boxplot minimum: 0\n",
      "Number of outliers greater than boxplot maximum: 0\n",
      "Total number of Outliers: 0\n",
      "Maximum Value: 290.160419\n",
      "Minimum Value: 79.97886\n"
     ]
    },
    {
     "data": {
      "image/png": "[encoded data removed]",
      "text/plain": [
       "<Figure size 640x480 with 1 Axes>"
      ]
     },
     "metadata": {},
     "output_type": "display_data"
    }
   ],
   "source": [
    "#Generate boxplot for MonthlyCharge variable\n",
    "email_boxplot = sns.boxplot(x=\"MonthlyCharge\", data = df_churn).set_title(\"MonthlyCharge\")\n",
    "\n",
    "#Generate boxplot info using boxplot_info() function\n",
    "boxplot_info(df_churn['MonthlyCharge'])"
   ]
  },
  {
   "cell_type": "markdown",
   "id": "dff7b322-7249-40a2-8bff-e35ffe2140a4",
   "metadata": {},
   "source": [
    "Now that the data has been cleaned, the last step required is to standardize the data.  This step is necessary because distance based algorithms such as K-means are affected by the scale of variables (Sharma, 2019).  If one variable in the dataset has a larger range of values than another, it may be weighted differently by the algorithm.  This could unfavorably impact the results of the analysis.  \n",
    "\n",
    "To scale the variables I will use the \"StandardScaler()\" method from scikit-learn to fit and transform the variables.  This will ensure that all the variables in df_churn have the same magnitude.  The scaled variables will then be assigned to a final dataframe called df_scaled."
   ]
  },
  {
   "cell_type": "code",
   "execution_count": 28,
   "id": "e61eb6fb-b4d5-4610-b8c9-af7addc900ab",
   "metadata": {},
   "outputs": [
    {
     "data": {
      "text/html": [
       "<div>\n",
       "<style scoped>\n",
       "    .dataframe tbody tr th:only-of-type {\n",
       "        vertical-align: middle;\n",
       "    }\n",
       "\n",
       "    .dataframe tbody tr th {\n",
       "        vertical-align: top;\n",
       "    }\n",
       "\n",
       "    .dataframe thead th {\n",
       "        text-align: right;\n",
       "    }\n",
       "</style>\n",
       "<table border=\"1\" class=\"dataframe\">\n",
       "  <thead>\n",
       "    <tr style=\"text-align: right;\">\n",
       "      <th></th>\n",
       "      <th>Population</th>\n",
       "      <th>Children</th>\n",
       "      <th>Age</th>\n",
       "      <th>Income</th>\n",
       "      <th>Outage_sec_perweek</th>\n",
       "      <th>Email</th>\n",
       "      <th>Contacts</th>\n",
       "      <th>Yearly_equip_failure</th>\n",
       "      <th>Tenure</th>\n",
       "      <th>MonthlyCharge</th>\n",
       "      <th>Bandwidth_GB_Year</th>\n",
       "    </tr>\n",
       "  </thead>\n",
       "  <tbody>\n",
       "    <tr>\n",
       "      <th>count</th>\n",
       "      <td>1.000000e+04</td>\n",
       "      <td>1.000000e+04</td>\n",
       "      <td>1.000000e+04</td>\n",
       "      <td>1.000000e+04</td>\n",
       "      <td>1.000000e+04</td>\n",
       "      <td>1.000000e+04</td>\n",
       "      <td>1.000000e+04</td>\n",
       "      <td>1.000000e+04</td>\n",
       "      <td>1.000000e+04</td>\n",
       "      <td>1.000000e+04</td>\n",
       "      <td>1.000000e+04</td>\n",
       "    </tr>\n",
       "    <tr>\n",
       "      <th>mean</th>\n",
       "      <td>-6.110668e-17</td>\n",
       "      <td>5.542233e-17</td>\n",
       "      <td>-9.556800e-17</td>\n",
       "      <td>5.222489e-17</td>\n",
       "      <td>9.521273e-17</td>\n",
       "      <td>-1.705303e-17</td>\n",
       "      <td>-6.039613e-18</td>\n",
       "      <td>-8.242296e-17</td>\n",
       "      <td>2.273737e-17</td>\n",
       "      <td>-2.529532e-16</td>\n",
       "      <td>9.094947e-17</td>\n",
       "    </tr>\n",
       "    <tr>\n",
       "      <th>std</th>\n",
       "      <td>1.000050e+00</td>\n",
       "      <td>1.000050e+00</td>\n",
       "      <td>1.000050e+00</td>\n",
       "      <td>1.000050e+00</td>\n",
       "      <td>1.000050e+00</td>\n",
       "      <td>1.000050e+00</td>\n",
       "      <td>1.000050e+00</td>\n",
       "      <td>1.000050e+00</td>\n",
       "      <td>1.000050e+00</td>\n",
       "      <td>1.000050e+00</td>\n",
       "      <td>1.000050e+00</td>\n",
       "    </tr>\n",
       "    <tr>\n",
       "      <th>min</th>\n",
       "      <td>-6.760378e-01</td>\n",
       "      <td>-9.723379e-01</td>\n",
       "      <td>-1.694785e+00</td>\n",
       "      <td>-1.399303e+00</td>\n",
       "      <td>-3.327464e+00</td>\n",
       "      <td>-3.640754e+00</td>\n",
       "      <td>-1.005852e+00</td>\n",
       "      <td>-6.258635e-01</td>\n",
       "      <td>-1.267917e+00</td>\n",
       "      <td>-2.157520e+00</td>\n",
       "      <td>-1.481263e+00</td>\n",
       "    </tr>\n",
       "    <tr>\n",
       "      <th>25%</th>\n",
       "      <td>-6.249014e-01</td>\n",
       "      <td>-9.723379e-01</td>\n",
       "      <td>-8.734435e-01</td>\n",
       "      <td>-7.299042e-01</td>\n",
       "      <td>-6.665728e-01</td>\n",
       "      <td>-6.662818e-01</td>\n",
       "      <td>-1.005852e+00</td>\n",
       "      <td>-6.258635e-01</td>\n",
       "      <td>-1.006306e+00</td>\n",
       "      <td>-7.602435e-01</td>\n",
       "      <td>-9.865847e-01</td>\n",
       "    </tr>\n",
       "    <tr>\n",
       "      <th>50%</th>\n",
       "      <td>-4.743676e-01</td>\n",
       "      <td>-5.065919e-01</td>\n",
       "      <td>-3.787834e-03</td>\n",
       "      <td>-2.353430e-01</td>\n",
       "      <td>5.615783e-03</td>\n",
       "      <td>-5.287951e-03</td>\n",
       "      <td>5.867974e-03</td>\n",
       "      <td>-6.258635e-01</td>\n",
       "      <td>3.420043e-02</td>\n",
       "      <td>-1.197020e-01</td>\n",
       "      <td>-5.162246e-02</td>\n",
       "    </tr>\n",
       "    <tr>\n",
       "      <th>75%</th>\n",
       "      <td>2.363805e-01</td>\n",
       "      <td>4.249001e-01</td>\n",
       "      <td>8.658679e-01</td>\n",
       "      <td>4.765941e-01</td>\n",
       "      <td>6.611971e-01</td>\n",
       "      <td>6.557059e-01</td>\n",
       "      <td>1.017588e+00</td>\n",
       "      <td>9.466579e-01</td>\n",
       "      <td>1.019358e+00</td>\n",
       "      <td>6.546178e-01</td>\n",
       "      <td>1.003942e+00</td>\n",
       "    </tr>\n",
       "    <tr>\n",
       "      <th>max</th>\n",
       "      <td>7.074113e+00</td>\n",
       "      <td>3.685122e+00</td>\n",
       "      <td>1.735524e+00</td>\n",
       "      <td>7.769694e+00</td>\n",
       "      <td>3.765413e+00</td>\n",
       "      <td>3.630178e+00</td>\n",
       "      <td>6.076186e+00</td>\n",
       "      <td>8.809265e+00</td>\n",
       "      <td>1.417195e+00</td>\n",
       "      <td>2.737145e+00</td>\n",
       "      <td>1.723716e+00</td>\n",
       "    </tr>\n",
       "  </tbody>\n",
       "</table>\n",
       "</div>"
      ],
      "text/plain": [
       "         Population      Children           Age        Income  \\\n",
       "count  1.000000e+04  1.000000e+04  1.000000e+04  1.000000e+04   \n",
       "mean  -6.110668e-17  5.542233e-17 -9.556800e-17  5.222489e-17   \n",
       "std    1.000050e+00  1.000050e+00  1.000050e+00  1.000050e+00   \n",
       "min   -6.760378e-01 -9.723379e-01 -1.694785e+00 -1.399303e+00   \n",
       "25%   -6.249014e-01 -9.723379e-01 -8.734435e-01 -7.299042e-01   \n",
       "50%   -4.743676e-01 -5.065919e-01 -3.787834e-03 -2.353430e-01   \n",
       "75%    2.363805e-01  4.249001e-01  8.658679e-01  4.765941e-01   \n",
       "max    7.074113e+00  3.685122e+00  1.735524e+00  7.769694e+00   \n",
       "\n",
       "       Outage_sec_perweek         Email      Contacts  Yearly_equip_failure  \\\n",
       "count        1.000000e+04  1.000000e+04  1.000000e+04          1.000000e+04   \n",
       "mean         9.521273e-17 -1.705303e-17 -6.039613e-18         -8.242296e-17   \n",
       "std          1.000050e+00  1.000050e+00  1.000050e+00          1.000050e+00   \n",
       "min         -3.327464e+00 -3.640754e+00 -1.005852e+00         -6.258635e-01   \n",
       "25%         -6.665728e-01 -6.662818e-01 -1.005852e+00         -6.258635e-01   \n",
       "50%          5.615783e-03 -5.287951e-03  5.867974e-03         -6.258635e-01   \n",
       "75%          6.611971e-01  6.557059e-01  1.017588e+00          9.466579e-01   \n",
       "max          3.765413e+00  3.630178e+00  6.076186e+00          8.809265e+00   \n",
       "\n",
       "             Tenure  MonthlyCharge  Bandwidth_GB_Year  \n",
       "count  1.000000e+04   1.000000e+04       1.000000e+04  \n",
       "mean   2.273737e-17  -2.529532e-16       9.094947e-17  \n",
       "std    1.000050e+00   1.000050e+00       1.000050e+00  \n",
       "min   -1.267917e+00  -2.157520e+00      -1.481263e+00  \n",
       "25%   -1.006306e+00  -7.602435e-01      -9.865847e-01  \n",
       "50%    3.420043e-02  -1.197020e-01      -5.162246e-02  \n",
       "75%    1.019358e+00   6.546178e-01       1.003942e+00  \n",
       "max    1.417195e+00   2.737145e+00       1.723716e+00  "
      ]
     },
     "execution_count": 28,
     "metadata": {},
     "output_type": "execute_result"
    }
   ],
   "source": [
    "#Assign StandardScaler() to scaler variable\n",
    "scaler = StandardScaler()\n",
    "\n",
    "#Scale variables and assign to df_scaled\n",
    "df_scaled = pd.DataFrame(scaler.fit_transform(df_churn), columns = df_churn.columns)\n",
    "\n",
    "#Print output\n",
    "df_scaled.describe()"
   ]
  },
  {
   "cell_type": "markdown",
   "id": "cc4e99c8-f499-4a45-bb4d-676dde2714ac",
   "metadata": {},
   "source": [
    "## C4.\n",
    "\n",
    "I have attached a copy of my cleaned data in a file called \"churn_preprocessed.csv\"."
   ]
  },
  {
   "cell_type": "code",
   "execution_count": 29,
   "id": "01a16991-9d6c-4671-9e13-9083ee053656",
   "metadata": {},
   "outputs": [],
   "source": [
    "#Export to csv file\n",
    "df_scaled.to_csv(\"churn_preprocessed.csv\")"
   ]
  },
  {
   "cell_type": "markdown",
   "id": "3c81e1c3-333e-40d0-b4b7-6078551b9d8a",
   "metadata": {},
   "source": [
    "## D1.\n",
    "\n",
    "&nbsp;&nbsp;&nbsp;&nbsp;&nbsp;To determine the optimal number of clusters, I used the elbow method.  This is a visual method that involves calculating and plotting the within-cluster sum of squares for a range of k values.  The within-cluster sum of squares, or WCSS, is the sum of the squared distance between each data point and the centroid of a cluster (Saji, 2024).  \n",
    "\n",
    "&nbsp;&nbsp;&nbsp;&nbsp;&nbsp;I began by using a for loop to iterate over different values of k ranging from one through ten.  Within the loop, I initialized the k-means model with k number of centroids, fit the model to the scaled data, and obtained the wcss value using the \"inertia_\" attribute from sklearn.  The last step I took was to plot the wcss for each k value and visually determine where the \"elbow\" was located in the graph.  I determined that two was the optimal number of clusters because the slope of the line begins to flatten with larger values of k."
   ]
  },
  {
   "cell_type": "markdown",
   "id": "a591a07e-ebe8-42af-b593-284e74e409aa",
   "metadata": {},
   "source": [
    "## D2.\n",
    "\n",
    "Please see the code used below used to perform K-means clustering."
   ]
  },
  {
   "cell_type": "code",
   "execution_count": 30,
   "id": "13e12c54-194d-481c-a51d-61662740b8e8",
   "metadata": {},
   "outputs": [
    {
     "data": {
      "image/png": "[encoded data removed]",
      "text/plain": [
       "<Figure size 1000x1000 with 1 Axes>"
      ]
     },
     "metadata": {},
     "output_type": "display_data"
    }
   ],
   "source": [
    "#Calculate Within-Cluster Sum of Squares for K clusters\n",
    "wcss = [] \n",
    "#Use for loop to iterate through k values 1-10\n",
    "for k in range(1, 11): \n",
    "    model = KMeans(n_clusters = k, n_init = 30, random_state = 42)\n",
    "    model.fit(df_scaled)\n",
    "    wcss.append(model.inertia_)\n",
    "#Assign wcss values to pandas series and use k-values as index\n",
    "wcss_s = pd.Series(wcss, index = range(1,11))\n",
    "\n",
    "#Plot WCSS calculations and connect points with line\n",
    "plt.figure(figsize=(10, 10))\n",
    "ax = sns.lineplot(y = wcss_s, x = wcss_s.index)\n",
    "ax = sns.scatterplot(y = wcss_s,  x = wcss_s.index)\n",
    "ax = ax.set(xlabel = 'Optimal Clusters Number (k)',\n",
    "            ylabel = 'Within Cluster Sum of Squares (WCSS)')"
   ]
  },
  {
   "cell_type": "markdown",
   "id": "7d07f2e1-363b-4e86-87f0-e1f0fd8d503c",
   "metadata": {},
   "source": [
    "## E1. \n",
    "\n",
    "&nbsp;&nbsp;&nbsp;&nbsp;&nbsp;To determine the quality of the clusters, I plotted the silhouette score for the k values two through ten.  The silhouette score measures how well customers are grouped within their assigned clusters compared to customers in other clusters (Banerji, 2024).  The score can range from -1 to 1, with -1 considered poor clustering and 1 considered good clustering.  Based on the graph below, we can see that a k-value of 2 achieves a silhouette score of 0.17.  This means that the quality of the clusters is above average but they still lack some cohesion.  "
   ]
  },
  {
   "cell_type": "code",
   "execution_count": 31,
   "id": "280e8b37",
   "metadata": {},
   "outputs": [
    {
     "data": {
      "image/png": "[encoded data removed]",
      "text/plain": [
       "<Figure size 1000x1000 with 1 Axes>"
      ]
     },
     "metadata": {},
     "output_type": "display_data"
    }
   ],
   "source": [
    "#In-text citation: [Evaluating and visualizing the model_def]\n",
    "\n",
    "silhouette = []\n",
    "\n",
    "for k in range (2, 11):\n",
    "    model = KMeans(n_clusters = k, n_init = 30, random_state = 42)\n",
    "    model.fit(df_scaled)\n",
    "    silhouette.append(silhouette_score(df_scaled, model.labels_))\n",
    "\n",
    "silhouette_s = pd.Series(silhouette, index = range(2, 11))\n",
    "\n",
    "plt.figure(figsize = (10, 10))\n",
    "ax = sns.lineplot(y = silhouette_s, x = silhouette_s.index)\n",
    "ax = sns.scatterplot(y = silhouette_s, x = silhouette_s.index)\n",
    "ax = ax.set(xlabel = \"K Clusters\", ylabel = \"Silhouette Score Average\")"
   ]
  },
  {
   "cell_type": "markdown",
   "id": "85baae0c-2983-4c56-b046-1fc8172ce649",
   "metadata": {},
   "source": [
    "## E2.\n",
    "\n",
    "&nbsp;&nbsp;&nbsp;&nbsp;&nbsp;Based on the results of the elbow method and the silhouette score method, we can see that the optimal number of clusters is indeed two.  However, the silhouette score of 0.17 implies that there is some overlap between them.  This is the case for the other k values that were analyzed.  The K-means model did not not produce poor results by any means, but there is room for improvement."
   ]
  },
  {
   "cell_type": "markdown",
   "id": "8fad1865-eb7f-4d63-9cbd-e6a32dddc495",
   "metadata": {},
   "source": [
    "## E3.\n",
    "\n",
    "&nbsp;&nbsp;&nbsp;&nbsp;&nbsp;One limitation of the analysis is that K-means is susceptible to influence from outliers.  Centroids can be dragged by outliers, which may reduce the quality of the clusters (Google).  My decision to retain all outliers rather than treat them may have caused the model to achieve suboptimal results.  "
   ]
  },
  {
   "cell_type": "markdown",
   "id": "7b999818-84c8-4b3e-b0da-616ae0dc9d24",
   "metadata": {},
   "source": [
    "## E4.\n",
    "\n",
    "&nbsp;&nbsp;&nbsp;&nbsp;&nbsp;Based on the results discussed in section E2, there is still some room for improvement in the model.  The company could take a few actions to produce better results in the future.  As mentioned previously, it would be worthwhile to treat outliers in the dataset.  This could influence the centroids used by the model and increase the quality of the clusters.  Additionally, the telecommunications company could try repeating the analysis with fewer variables. As the number of variables increases, the k-means algorithm becomes less effective at clustering (Google).  It's possible the principal component analysis could be used to make the model more reliable.  Overall, these two methods could help produce more meaningful customer segments for the company."
   ]
  },
  {
   "cell_type": "markdown",
   "id": "ddc73880-e1e8-4837-9825-3f56df3dd59e",
   "metadata": {},
   "source": [
    "## F.\n",
    "\n",
    "Please click the link below to access the Panopto recording.\n",
    "\n",
    "https://wgu.hosted.panopto.com/Panopto/Pages/Viewer.aspx?id=b8b7df73-876e-4725-9809-b167000beac4"
   ]
  },
  {
   "cell_type": "markdown",
   "id": "45bc857e",
   "metadata": {},
   "source": [
    "## G. Web Sources\n",
    "\n",
    "Kamara, K. (Narrator). Evaluating and visualizing the model_def [Online video]. https://wgu.hosted.panopto.com/Panopto/Pages/Viewer.aspx?id=9fa8783e-d7d2-4b4d-b06e-b0ee01874bea"
   ]
  },
  {
   "cell_type": "markdown",
   "id": "49f21f2f-85be-4892-b098-92e373a14f81",
   "metadata": {},
   "source": [
    "## H. References\n",
    "\n",
    "Sharma, P. (2024, May 2). The Ultimate Guide to K-Means Clustering: Definition, Methods and Applications. Analytics Vidhya. https://www.analyticsvidhya.com/blog/2019/08/comprehensive-guide-k-means-clustering/\n",
    "\n",
    "Demonstration of K-Means Assumptions. (2019, December 9). Geeks for Geeks. https://www.geeksforgeeks.org/demonstration-of-k-means-assumptions/\n",
    "\n",
    "Sharma, P. (2019, August 25). Why is scaling required in KNN and K-Means?. Medium. https://medium.com/analytics-vidhya/why-is-scaling-required-in-knn-and-k-means-8129e4d88ed7\n",
    "\n",
    "Saji, B. (2024, January 7). Elbow Method for Finding the Optimal Number of Clusters in K-Means. Analytics Vidhya. https://www.analyticsvidhya.com/blog/2021/01/in-depth-intuition-of-k-means-clustering-algorithm-in-machine-learning/\n",
    "\n",
    "Banerji, A. (2024, May 4). K-Mean: Getting the Optimal Number of Clusters. Analytics Vidhya. https://www.analyticsvidhya.com/blog/2021/05/k-mean-getting-the-optimal-number-of-clusters/\n",
    "\n",
    "k-Means Advantages and Disadvantages. (n.d.). Google Machine Learning Education. https://developers.google.com/machine-learning/clustering/algorithm/advantages-disadvantages"
   ]
  }
 ],
 "metadata": {
  "kernelspec": {
   "display_name": "anaconda-panel-2023.05-py310",
   "language": "python",
   "name": "conda-env-anaconda-panel-2023.05-py310-py"
  },
  "language_info": {
   "codemirror_mode": {
    "name": "ipython",
    "version": 3
   },
   "file_extension": ".py",
   "mimetype": "text/x-python",
   "name": "python",
   "nbconvert_exporter": "python",
   "pygments_lexer": "ipython3",
   "version": "3.11.5"
  }
 },
 "nbformat": 4,
 "nbformat_minor": 5
}
