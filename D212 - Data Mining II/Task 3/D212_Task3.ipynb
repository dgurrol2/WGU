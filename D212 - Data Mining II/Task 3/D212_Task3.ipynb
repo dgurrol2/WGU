{
 "cells": [
  {
   "cell_type": "markdown",
   "id": "ef2dca78-4eea-4546-b69d-a3193ebbb06d",
   "metadata": {},
   "source": [
    "## A1. \n",
    "\n",
    "Propose one question relevant to a real-world organizational situation that you will answer using market basket analysis."
   ]
  },
  {
   "cell_type": "markdown",
   "id": "de8c3c85-dd73-41fd-bf23-01ee06bbe067",
   "metadata": {},
   "source": [
    "## A2.\n",
    "\n",
    "Define one goal of the data analysis. Ensure your goal is reasonable within the scope of the selected scenario and is represented in the available data."
   ]
  },
  {
   "cell_type": "markdown",
   "id": "b2c3fe35-280a-4016-9321-927e669ee71c",
   "metadata": {},
   "source": [
    "## B1.\n",
    "\n",
    "Explain how market basket analyzes the selected data set. Include expected outcomes."
   ]
  },
  {
   "cell_type": "markdown",
   "id": "398bf5a5-0c31-4de9-b2f7-9f4526cc0573",
   "metadata": {},
   "source": [
    "## B2.\n",
    "\n",
    "Provide one example of transactions in the data set."
   ]
  },
  {
   "cell_type": "markdown",
   "id": "51ea9807-df5a-43f0-99f2-02531857cfab",
   "metadata": {},
   "source": [
    "## B3.\n",
    "\n",
    "Summarize one assumption of market basket analysis."
   ]
  },
  {
   "cell_type": "markdown",
   "id": "0dfcdc4d-7f91-47d8-b282-51cdafaa6c7b",
   "metadata": {},
   "source": [
    "## C1.\n",
    "\n",
    "Transform the data set to make it suitable for market basket analysis. Include a copy of the cleaned data set."
   ]
  },
  {
   "cell_type": "markdown",
   "id": "46d31646-5435-4c82-ad70-4221528ccfce",
   "metadata": {},
   "source": [
    "https://wgu.hosted.panopto.com/Panopto/Pages/Viewer.aspx?id=9541a29b-2f14-4c5d-9d86-af030005bcf6\n",
    "\n",
    "Data Preparation\n",
    "1. Remove blank rows if any\n",
    "2. Remove blank columns if any\n",
    "   \n",
    "Data Transformation\n",
    "1. Create list of lists\n",
    "2. Feed list to transaction encoder to create a numpy boolean array\n",
    "3. Convert the created array back to dataframe (Results should be 7501 rows x 120 columns\n",
    "4. Remove the blank columns\n",
    "\n",
    "Cleaned dataset for the algorithm should be 7501 rows x 119 columns"
   ]
  },
  {
   "cell_type": "code",
   "execution_count": 1,
   "id": "dceb04ff-7edd-4408-b960-4f41ea7623d0",
   "metadata": {},
   "outputs": [],
   "source": [
    "#Import required libraries\n",
    "import pandas as pd\n",
    "import numpy as np\n",
    "from mlxtend.preprocessing import TransactionEncoder"
   ]
  },
  {
   "cell_type": "code",
   "execution_count": 2,
   "id": "0ad6dfca-e9be-4928-8981-12d9965c6f9f",
   "metadata": {},
   "outputs": [],
   "source": [
    "#Import csv file\n",
    "df_telecom = pd.read_csv(\"teleco_market_basket.csv\")"
   ]
  },
  {
   "cell_type": "code",
   "execution_count": 3,
   "id": "459d93d1-ec30-49a6-bc8f-e599c978dabd",
   "metadata": {},
   "outputs": [
    {
     "name": "stdout",
     "output_type": "stream",
     "text": [
      "(15002, 20)\n"
     ]
    }
   ],
   "source": [
    "#Print shape of dataset\n",
    "print(df_telecom.shape)"
   ]
  },
  {
   "cell_type": "code",
   "execution_count": 9,
   "id": "a8726099-1d82-4b2b-ac59-02f57f54dcb0",
   "metadata": {},
   "outputs": [
    {
     "ename": "AttributeError",
     "evalue": "'NoneType' object has no attribute 'head'",
     "output_type": "error",
     "traceback": [
      "\u001b[0;31m---------------------------------------------------------------------------\u001b[0m",
      "\u001b[0;31mAttributeError\u001b[0m                            Traceback (most recent call last)",
      "Cell \u001b[0;32mIn[9], line 2\u001b[0m\n\u001b[1;32m      1\u001b[0m \u001b[38;5;66;03m#Print first 5 rows of dataset\u001b[39;00m\n\u001b[0;32m----> 2\u001b[0m \u001b[38;5;28mprint\u001b[39m(df_telecom\u001b[38;5;241m.\u001b[39mhead())\n",
      "\u001b[0;31mAttributeError\u001b[0m: 'NoneType' object has no attribute 'head'"
     ]
    }
   ],
   "source": [
    "#Print first 5 rows of dataset\n",
    "print(df_telecom.head())"
   ]
  },
  {
   "cell_type": "code",
   "execution_count": 7,
   "id": "493124ef-4397-4741-80cf-408dc7a3546a",
   "metadata": {},
   "outputs": [
    {
     "ename": "AttributeError",
     "evalue": "'NoneType' object has no attribute 'dropna'",
     "output_type": "error",
     "traceback": [
      "\u001b[0;31m---------------------------------------------------------------------------\u001b[0m",
      "\u001b[0;31mAttributeError\u001b[0m                            Traceback (most recent call last)",
      "Cell \u001b[0;32mIn[7], line 3\u001b[0m\n\u001b[1;32m      1\u001b[0m \u001b[38;5;66;03m#Drop blank rows\u001b[39;00m\n\u001b[1;32m      2\u001b[0m \u001b[38;5;66;03m#df_telecom = df_telecom.dropna(axis = 0, how = 'all')\u001b[39;00m\n\u001b[0;32m----> 3\u001b[0m df_telecom\u001b[38;5;241m.\u001b[39mdropna(how \u001b[38;5;241m=\u001b[39m \u001b[38;5;124m'\u001b[39m\u001b[38;5;124mall\u001b[39m\u001b[38;5;124m'\u001b[39m, inplace\u001b[38;5;241m=\u001b[39m\u001b[38;5;28;01mTrue\u001b[39;00m)\n",
      "\u001b[0;31mAttributeError\u001b[0m: 'NoneType' object has no attribute 'dropna'"
     ]
    }
   ],
   "source": [
    "#Drop blank rows\n",
    "#df_telecom = df_telecom.dropna(axis = 0, how = 'all')\n",
    "df_telecom.dropna(how = 'all', inplace=True)"
   ]
  },
  {
   "cell_type": "code",
   "execution_count": 6,
   "id": "2564e861-7095-48c0-974b-8ed17535c6ad",
   "metadata": {
    "scrolled": true
   },
   "outputs": [
    {
     "ename": "AttributeError",
     "evalue": "'NoneType' object has no attribute 'shape'",
     "output_type": "error",
     "traceback": [
      "\u001b[0;31m---------------------------------------------------------------------------\u001b[0m",
      "\u001b[0;31mAttributeError\u001b[0m                            Traceback (most recent call last)",
      "Cell \u001b[0;32mIn[6], line 1\u001b[0m\n\u001b[0;32m----> 1\u001b[0m \u001b[38;5;28mprint\u001b[39m(df_telecom\u001b[38;5;241m.\u001b[39mshape)\n",
      "\u001b[0;31mAttributeError\u001b[0m: 'NoneType' object has no attribute 'shape'"
     ]
    }
   ],
   "source": [
    "print(df_telecom.shape)"
   ]
  },
  {
   "cell_type": "code",
   "execution_count": null,
   "id": "d4deb2be-f77f-4c5b-9ffb-1979e4e4992e",
   "metadata": {},
   "outputs": [],
   "source": [
    "df_telecom.info()"
   ]
  },
  {
   "cell_type": "code",
   "execution_count": null,
   "id": "7abb9ced-8351-4412-91b4-cee4ca52ee78",
   "metadata": {},
   "outputs": [],
   "source": [
    "#Generate list of lists from df_telecom (In-text citation: [D212 Task 3])\n",
    "rows = []\n",
    "for i in range(0, 7501):\n",
    "    rows.append([str(df_telecom.values[i, j])\n",
    "for j in range(0, 20)])"
   ]
  },
  {
   "cell_type": "code",
   "execution_count": null,
   "id": "415d7c6f-2cdc-4f87-b5ed-c50ec246e238",
   "metadata": {},
   "outputs": [],
   "source": [
    "#Initialize TransactionEncoder and transform data (In-text citation: [TransactionEncoder: Convert item lists into transaction data for frequent itemset mining])\n",
    "te = TransactionEncoder()\n",
    "te_ary = te.fit(rows).transform(rows)\n",
    "te_ary\n",
    "\n",
    "transaction = pd.DataFrame(te_ary, columns = te.columns_)"
   ]
  },
  {
   "cell_type": "code",
   "execution_count": null,
   "id": "130943f6",
   "metadata": {},
   "outputs": [],
   "source": [
    "transaction"
   ]
  },
  {
   "cell_type": "markdown",
   "id": "8ee64a2d-ffcb-4ff6-8e0d-a3d5d7d6804c",
   "metadata": {},
   "source": [
    "## C2.\n",
    "\n",
    "Execute the code used to generate association rules with the Apriori algorithm. Provide screenshots that demonstrate that the code is error free."
   ]
  },
  {
   "cell_type": "markdown",
   "id": "9bde88ad-c3a1-43f8-9f84-0e3e1d869f50",
   "metadata": {},
   "source": [
    "## C3.\n",
    "\n",
    "Provide values for the support, lift, and confidence of the association rules table."
   ]
  },
  {
   "cell_type": "markdown",
   "id": "151d51da-11e8-4c2b-bf00-75dabd29d703",
   "metadata": {},
   "source": [
    "## C4.\n",
    "\n",
    "Explain the top three relevant rules generated by the Apriori algorithm. Include a screenshot of the top three relevant rules."
   ]
  },
  {
   "cell_type": "markdown",
   "id": "49afb3f5-7388-4a3b-8494-472ff9c2d85b",
   "metadata": {},
   "source": [
    "## D1. \n",
    "\n",
    "Summarize the significance of support, lift, and confidence from the results of the analysis."
   ]
  },
  {
   "cell_type": "markdown",
   "id": "c05ad409-e04e-4345-bc32-bcbe84395ac6",
   "metadata": {},
   "source": [
    "## D2.\n",
    "\n",
    "Discuss the practical significance of your findings from the analysis."
   ]
  },
  {
   "cell_type": "markdown",
   "id": "719b2656-c74e-4285-8b2f-fe0c83995897",
   "metadata": {},
   "source": [
    "## D3.\n",
    "\n",
    "Recommend a course of action for the real-world organizational situation from part A1 based on the results from part D1."
   ]
  },
  {
   "cell_type": "markdown",
   "id": "c9a9f472-4193-4704-b7ff-339dd36437fa",
   "metadata": {},
   "source": [
    "## E.\n",
    "\n",
    "Provide a Panopto video recording that includes the presenter and a vocalized demonstration showing all code used, the code being executed, and the results of all code used in the task."
   ]
  },
  {
   "cell_type": "markdown",
   "id": "6c93d332-6b51-42aa-aac8-df58479542b7",
   "metadata": {},
   "source": [
    "## F.\n",
    "\n",
    "Record all web sources you used to acquire data or segments of third-party code to support the application. Ensure the web sources are reliable."
   ]
  },
  {
   "cell_type": "markdown",
   "id": "f2c0088b-ca69-4c71-9a01-48a2e65c7a17",
   "metadata": {},
   "source": [
    "## G.\n",
    "\n",
    "Acknowledge sources, using in-text citations and references, for content that is quoted, paraphrased, or summarized."
   ]
  },
  {
   "cell_type": "markdown",
   "id": "27d5f946-4c4c-4d7b-84ce-d4113e5b7315",
   "metadata": {},
   "source": [
    "https://wgu.hosted.panopto.com/Panopto/Pages/Viewer.aspx?id=9541a29b-2f14-4c5d-9d86-af030005bcf6\n",
    "\n",
    "https://wgu.hosted.panopto.com/Panopto/Pages/Viewer.aspx?id=db85c4f1-0da5-4bde-a1a4-b07c0019d46d\n",
    "\n",
    "Kamara, K. (Narrator). D212 Task 3 [Online video]. https://wgu.hosted.panopto.com/Panopto/Pages/Viewer.aspx?id=db85c4f1-0da5-4bde-a1a4-b07c0019d46d\n",
    "\n",
    "TransactionEncoder: Convert item lists into transaction data for frequent itemset mining. (n.d.). MLXTEND. https://rasbt.github.io/mlxtend/user_guide/preprocessing/TransactionEncoder/\n",
    "\n",
    "https://rasbt.github.io/mlxtend/user_guide/frequent_patterns/apriori/"
   ]
  },
  {
   "cell_type": "markdown",
   "id": "c4e8f086",
   "metadata": {},
   "source": [
    "https://towardsdatascience.com/association-rules-2-aa9a77241654"
   ]
  },
  {
   "cell_type": "code",
   "execution_count": null,
   "id": "44bd6f6e",
   "metadata": {},
   "outputs": [],
   "source": []
  }
 ],
 "metadata": {
  "kernelspec": {
   "display_name": "Python 3 (ipykernel)",
   "language": "python",
   "name": "python3"
  },
  "language_info": {
   "codemirror_mode": {
    "name": "ipython",
    "version": 3
   },
   "file_extension": ".py",
   "mimetype": "text/x-python",
   "name": "python",
   "nbconvert_exporter": "python",
   "pygments_lexer": "ipython3",
   "version": "3.11.4"
  }
 },
 "nbformat": 4,
 "nbformat_minor": 5
}
