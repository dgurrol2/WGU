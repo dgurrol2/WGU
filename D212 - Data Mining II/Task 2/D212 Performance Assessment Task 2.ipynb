{
 "cells": [
  {
   "cell_type": "markdown",
   "id": "fbc5341c-950e-4de8-8704-73b3a0b66443",
   "metadata": {},
   "source": [
    "## Darian Gurrola\n",
    "\n",
    "## Course Instructor: Dr. Keiona Middleton"
   ]
  },
  {
   "cell_type": "markdown",
   "id": "22099f81-ce5d-4c8a-8f08-8d67e807af39",
   "metadata": {},
   "source": [
    "## A1. \n",
    "\n",
    "&nbsp;&nbsp;&nbsp;&nbsp;&nbsp;The question being investigated for this analysis is \"What is the optimal number of principal components that can be identified in the churn dataset?\".  This question will be answered using principal component analysis."
   ]
  },
  {
   "cell_type": "markdown",
   "id": "3b3c3a32-afa6-46e7-9a45-f3676fea4ab8",
   "metadata": {},
   "source": [
    "## A2. \n",
    "\n",
    "The primary goal of this analysis is to reduce the number of dimensions using principal component analysis (PCA).  "
   ]
  },
  {
   "cell_type": "markdown",
   "id": "89ab4a5a-67bd-48e8-b96d-db27d6c74a3d",
   "metadata": {},
   "source": [
    "## B1. \n",
    "\n",
    "&nbsp;&nbsp;&nbsp;&nbsp;&nbsp;Principal componant analysis will be used to reduce the amount of variables in the analysis.  This method makes it easier for machine learning algorithms to process large amounts of data while retaining the most information possible.  PCA reduces the number of variables in the dataset by combining them into groups called principal components.  It begins by assigning the maximum amount of information possible into the first component, then maximum remaining information in the second and so on (Jaadi, 2024).  The expected outcome of this process is to retain only the principal components with the most information.  This will allow us perform future analyses with fewer variables."
   ]
  },
  {
   "cell_type": "markdown",
   "id": "4a706296-2d23-4bf0-9b32-ca7f1ff62ed3",
   "metadata": {},
   "source": [
    "## B2. \n",
    "\n",
    "&nbsp;&nbsp;&nbsp;&nbsp;&nbsp;One assumption of principal component analysis is that a linear relationship exists between all variables.  This is because PCA relies on Pearson correlation coefficients, which measures linear correlation between different variables (Laerd Statistics).  A violation of this assumption could result in principal components that do not capture the most variance possible.  To test this assumption, I will generate a correlation heatmap with my selected variables. "
   ]
  },
  {
   "cell_type": "markdown",
   "id": "a5341a38-9bc0-4d52-a56c-99014fbdef72",
   "metadata": {},
   "source": [
    "## C1. \n",
    "\n",
    "Below are is a list of variables used in the analysis.\n",
    "\n",
    "<ul>\n",
    "    <li>Population</li>\n",
    "    <li>Children</li>\n",
    "    <li>Age</li>\n",
    "    <li>Income</li>\n",
    "    <li>Outage_sec_perweek</li>\n",
    "    <li>Yearly_equip_failure</li>\n",
    "    <li>Tenure</li>\n",
    "    <li>MonthlyCharge</li>\n",
    "    <li>Bandwidth_GB_Year</li>\n",
    "</ul>"
   ]
  },
  {
   "cell_type": "markdown",
   "id": "74b5bc44-faef-4f23-ae1b-00d5c80ba7ae",
   "metadata": {},
   "source": [
    "## C2. \n",
    "\n",
    "&nbsp;&nbsp;&nbsp;&nbsp;&nbsp;Before standardizing the variables for this analysis.  There are a few steps required to preprocess the data.  The first step, I took was to import the necessary libraries required for data exploration and cleaning.  I used pandas to import and manipulate the initial data, numpy to perform calculations, matplotlib and seaborn to create visualizations, and lastly scikit-learn to scale the data."
   ]
  },
  {
   "cell_type": "code",
   "execution_count": 8,
   "id": "fe4e1ddf-bb56-43b4-8015-c2c2b933c798",
   "metadata": {},
   "outputs": [],
   "source": [
    "import pandas as pd\n",
    "import numpy as np\n",
    "import matplotlib.pyplot as plt\n",
    "import seaborn as sns\n",
    "from sklearn.preprocessing import StandardScaler\n",
    "from sklearn.decomposition import PCA"
   ]
  },
  {
   "cell_type": "markdown",
   "id": "55452e17-926e-45d4-9427-f27ae15c4867",
   "metadata": {},
   "source": [
    "&nbsp;&nbsp;&nbsp;&nbsp;&nbsp;After importing the necessary libraries, I imported the \"churn_clean.csv\" file using the read_csv() method from pandas.  I then performed data exploration by inspecting the dataset and selecting variables for the analysis.  The selected variables were imported into a new dataframe called \"df_churn\"."
   ]
  },
  {
   "cell_type": "code",
   "execution_count": 10,
   "id": "c02d48fb-94f5-4094-ab7f-e46f9c4a7071",
   "metadata": {},
   "outputs": [],
   "source": [
    "df_initial = pd.read_csv('churn_clean.csv')"
   ]
  },
  {
   "cell_type": "code",
   "execution_count": 11,
   "id": "755713ac-eb21-48c8-9b57-6b179fcc01df",
   "metadata": {},
   "outputs": [
    {
     "name": "stdout",
     "output_type": "stream",
     "text": [
      "   CaseOrder Customer_id                           Interaction  \\\n",
      "0          1     K409198  aa90260b-4141-4a24-8e36-b04ce1f4f77b   \n",
      "1          2     S120509  fb76459f-c047-4a9d-8af9-e0f7d4ac2524   \n",
      "2          3     K191035  344d114c-3736-4be5-98f7-c72c281e2d35   \n",
      "3          4      D90850  abfa2b40-2d43-4994-b15a-989b8c79e311   \n",
      "4          5     K662701  68a861fd-0d20-4e51-a587-8a90407ee574   \n",
      "\n",
      "                                UID         City State                 County  \\\n",
      "0  e885b299883d4f9fb18e39c75155d990  Point Baker    AK  Prince of Wales-Hyder   \n",
      "1  f2de8bef964785f41a2959829830fb8a  West Branch    MI                 Ogemaw   \n",
      "2  f1784cfa9f6d92ae816197eb175d3c71      Yamhill    OR                Yamhill   \n",
      "3  dc8a365077241bb5cd5ccd305136b05e      Del Mar    CA              San Diego   \n",
      "4  aabb64a116e83fdc4befc1fbab1663f9    Needville    TX              Fort Bend   \n",
      "\n",
      "     Zip       Lat        Lng  ...  MonthlyCharge Bandwidth_GB_Year Item1  \\\n",
      "0  99927  56.25100 -133.37571  ...     172.455519        904.536110     5   \n",
      "1  48661  44.32893  -84.24080  ...     242.632554        800.982766     3   \n",
      "2  97148  45.35589 -123.24657  ...     159.947583       2054.706961     4   \n",
      "3  92014  32.96687 -117.24798  ...     119.956840       2164.579412     4   \n",
      "4  77461  29.38012  -95.80673  ...     149.948316        271.493436     4   \n",
      "\n",
      "  Item2  Item3  Item4  Item5 Item6 Item7 Item8  \n",
      "0     5      5      3      4     4     3     4  \n",
      "1     4      3      3      4     3     4     4  \n",
      "2     4      2      4      4     3     3     3  \n",
      "3     4      4      2      5     4     3     3  \n",
      "4     4      4      3      4     4     4     5  \n",
      "\n",
      "[5 rows x 50 columns]\n"
     ]
    }
   ],
   "source": [
    "print(df_initial.head())"
   ]
  },
  {
   "cell_type": "code",
   "execution_count": 12,
   "id": "4205a38e-e967-482b-9e8c-227e7005bfb5",
   "metadata": {},
   "outputs": [],
   "source": [
    "#Assign quantitative continuous variables to df_churn\n",
    "df_churn = df_initial[[\"Population\", \"Children\", \"Age\", \"Income\", \"Outage_sec_perweek\", \"Yearly_equip_failure\", \"Tenure\", \"MonthlyCharge\", \"Bandwidth_GB_Year\"]]"
   ]
  },
  {
   "cell_type": "code",
   "execution_count": 13,
   "id": "15b2b789-88ca-4037-90e3-8efb4e2223e8",
   "metadata": {},
   "outputs": [
    {
     "name": "stdout",
     "output_type": "stream",
     "text": [
      "   Population  Children  Age    Income  Outage_sec_perweek  \\\n",
      "0          38         0   68  28561.99            7.978323   \n",
      "1       10446         1   27  21704.77           11.699080   \n",
      "2        3735         4   50   9609.57           10.752800   \n",
      "3       13863         1   48  18925.23           14.913540   \n",
      "4       11352         0   83  40074.19            8.147417   \n",
      "\n",
      "   Yearly_equip_failure     Tenure  MonthlyCharge  Bandwidth_GB_Year  \n",
      "0                     1   6.795513     172.455519         904.536110  \n",
      "1                     1   1.156681     242.632554         800.982766  \n",
      "2                     1  15.754144     159.947583        2054.706961  \n",
      "3                     0  17.087227     119.956840        2164.579412  \n",
      "4                     1   1.670972     149.948316         271.493436  \n"
     ]
    }
   ],
   "source": [
    "print(df_churn.head())"
   ]
  },
  {
   "cell_type": "markdown",
   "id": "369505fc-0a99-42b2-a38c-56f20f446f33",
   "metadata": {},
   "source": [
    "&nbsp;&nbsp;&nbsp;&nbsp;&nbsp;To explore the data, I generated summary statistics for each of the selected variables using the \"describe()\" method from the pandas library.  I also generated a correlation heatmap to see if any relationships exist betwen them.  From the heatmap, we can see that only tenure and bandwidth_GB_year are correlated.  This means that the PCA assumption discussed earlier has not been met."
   ]
  },
  {
   "cell_type": "code",
   "execution_count": 15,
   "id": "7d76af6d-b90d-4e57-b15c-415fffb96744",
   "metadata": {},
   "outputs": [
    {
     "data": {
      "text/plain": [
       "count     10000.000000\n",
       "mean       9756.562400\n",
       "std       14432.698671\n",
       "min           0.000000\n",
       "25%         738.000000\n",
       "50%        2910.500000\n",
       "75%       13168.000000\n",
       "max      111850.000000\n",
       "Name: Population, dtype: float64"
      ]
     },
     "execution_count": 15,
     "metadata": {},
     "output_type": "execute_result"
    }
   ],
   "source": [
    "df_churn[\"Population\"].describe()"
   ]
  },
  {
   "cell_type": "code",
   "execution_count": 16,
   "id": "4630a839-9217-42db-8fd6-2a7baed26b7e",
   "metadata": {},
   "outputs": [
    {
     "data": {
      "text/plain": [
       "count    10000.0000\n",
       "mean         2.0877\n",
       "std          2.1472\n",
       "min          0.0000\n",
       "25%          0.0000\n",
       "50%          1.0000\n",
       "75%          3.0000\n",
       "max         10.0000\n",
       "Name: Children, dtype: float64"
      ]
     },
     "execution_count": 16,
     "metadata": {},
     "output_type": "execute_result"
    }
   ],
   "source": [
    "df_churn[\"Children\"].describe()"
   ]
  },
  {
   "cell_type": "code",
   "execution_count": 17,
   "id": "3df51d0f-9993-4407-bd62-1838c2b35a12",
   "metadata": {},
   "outputs": [
    {
     "data": {
      "text/plain": [
       "count    10000.000000\n",
       "mean        53.078400\n",
       "std         20.698882\n",
       "min         18.000000\n",
       "25%         35.000000\n",
       "50%         53.000000\n",
       "75%         71.000000\n",
       "max         89.000000\n",
       "Name: Age, dtype: float64"
      ]
     },
     "execution_count": 17,
     "metadata": {},
     "output_type": "execute_result"
    }
   ],
   "source": [
    "df_churn[\"Age\"].describe()"
   ]
  },
  {
   "cell_type": "code",
   "execution_count": 18,
   "id": "f96ec13c-9784-4d75-bc19-10acd4a6d69c",
   "metadata": {},
   "outputs": [
    {
     "data": {
      "text/plain": [
       "count     10000.000000\n",
       "mean      39806.926771\n",
       "std       28199.916702\n",
       "min         348.670000\n",
       "25%       19224.717500\n",
       "50%       33170.605000\n",
       "75%       53246.170000\n",
       "max      258900.700000\n",
       "Name: Income, dtype: float64"
      ]
     },
     "execution_count": 18,
     "metadata": {},
     "output_type": "execute_result"
    }
   ],
   "source": [
    "df_churn[\"Income\"].describe()"
   ]
  },
  {
   "cell_type": "code",
   "execution_count": 19,
   "id": "f5572d28-a08c-49e2-9ba4-d0bf7fd3bcd6",
   "metadata": {},
   "outputs": [
    {
     "data": {
      "text/plain": [
       "count    10000.000000\n",
       "mean        10.001848\n",
       "std          2.976019\n",
       "min          0.099747\n",
       "25%          8.018214\n",
       "50%         10.018560\n",
       "75%         11.969485\n",
       "max         21.207230\n",
       "Name: Outage_sec_perweek, dtype: float64"
      ]
     },
     "execution_count": 19,
     "metadata": {},
     "output_type": "execute_result"
    }
   ],
   "source": [
    "df_churn[\"Outage_sec_perweek\"].describe()"
   ]
  },
  {
   "cell_type": "code",
   "execution_count": 20,
   "id": "29b7069e-d13a-4735-b968-248bee15ec44",
   "metadata": {},
   "outputs": [
    {
     "data": {
      "text/plain": [
       "count    10000.000000\n",
       "mean         0.398000\n",
       "std          0.635953\n",
       "min          0.000000\n",
       "25%          0.000000\n",
       "50%          0.000000\n",
       "75%          1.000000\n",
       "max          6.000000\n",
       "Name: Yearly_equip_failure, dtype: float64"
      ]
     },
     "execution_count": 20,
     "metadata": {},
     "output_type": "execute_result"
    }
   ],
   "source": [
    "df_churn[\"Yearly_equip_failure\"].describe()"
   ]
  },
  {
   "cell_type": "code",
   "execution_count": 21,
   "id": "243aa381-1ea0-4a66-915f-d1647b8ee294",
   "metadata": {},
   "outputs": [
    {
     "data": {
      "text/plain": [
       "count    10000.000000\n",
       "mean        34.526188\n",
       "std         26.443063\n",
       "min          1.000259\n",
       "25%          7.917694\n",
       "50%         35.430507\n",
       "75%         61.479795\n",
       "max         71.999280\n",
       "Name: Tenure, dtype: float64"
      ]
     },
     "execution_count": 21,
     "metadata": {},
     "output_type": "execute_result"
    }
   ],
   "source": [
    "df_churn[\"Tenure\"].describe()"
   ]
  },
  {
   "cell_type": "code",
   "execution_count": 22,
   "id": "00dbef92-e05e-4062-bfc1-aaaad9c33a55",
   "metadata": {},
   "outputs": [
    {
     "data": {
      "text/plain": [
       "count    10000.000000\n",
       "mean       172.624816\n",
       "std         42.943094\n",
       "min         79.978860\n",
       "25%        139.979239\n",
       "50%        167.484700\n",
       "75%        200.734725\n",
       "max        290.160419\n",
       "Name: MonthlyCharge, dtype: float64"
      ]
     },
     "execution_count": 22,
     "metadata": {},
     "output_type": "execute_result"
    }
   ],
   "source": [
    "df_churn[\"MonthlyCharge\"].describe()"
   ]
  },
  {
   "cell_type": "code",
   "execution_count": 23,
   "id": "1f519b1a-4e35-4a72-8b9a-6144991b3289",
   "metadata": {},
   "outputs": [
    {
     "data": {
      "text/plain": [
       "count    10000.000000\n",
       "mean      3392.341550\n",
       "std       2185.294852\n",
       "min        155.506715\n",
       "25%       1236.470827\n",
       "50%       3279.536903\n",
       "75%       5586.141370\n",
       "max       7158.981530\n",
       "Name: Bandwidth_GB_Year, dtype: float64"
      ]
     },
     "execution_count": 23,
     "metadata": {},
     "output_type": "execute_result"
    }
   ],
   "source": [
    "df_churn[\"Bandwidth_GB_Year\"].describe()"
   ]
  },
  {
   "cell_type": "code",
   "execution_count": 24,
   "id": "33777418-0afd-4a73-ac99-3e5d5fffee1b",
   "metadata": {},
   "outputs": [
    {
     "data": {
      "text/plain": [
       "<Axes: >"
      ]
     },
     "execution_count": 24,
     "metadata": {},
     "output_type": "execute_result"
    },
    {
     "data": {
      "image/png": "[encoded data removed]",
      "text/plain": [
       "<Figure size 640x480 with 2 Axes>"
      ]
     },
     "metadata": {},
     "output_type": "display_data"
    }
   ],
   "source": [
    "#Check for correlation between quantitative variables\n",
    "sns.heatmap(data=df_churn.corr(), annot=True, cmap=\"coolwarm\")"
   ]
  },
  {
   "cell_type": "markdown",
   "id": "21afae78-3418-4589-abec-b2369d41f634",
   "metadata": {},
   "source": [
    "&nbsp;&nbsp;&nbsp;&nbsp;&nbsp;The next step was to clean the data.  To do this, I would need to detect and treat missing values, duplicates, and outliers.  To determine if there were any missing values, I used the \"isnull()\" and \"sum()\" method on df_churn.  The output indicated that there were no missing values in the dataset.  I then checked for duplicate rows using the \"duplicated()\" and \"value_counts()\" methods on df_churn.  The output confirmed that there were also no duplicates.  \n",
    "\n",
    "&nbsp;&nbsp;&nbsp;&nbsp;&nbsp;To check for outliers, I generated boxplots for each of the variables.  The output showed that the variables \"Population\", \"Children\", \"Income\", \"Outage_sec_perweek\", and \"Yearly_equip_failure\" all contained outliers.  I chose to retain the outliers because they seemed like plausible values and because I did not want to reduce the sample size of the data."
   ]
  },
  {
   "cell_type": "code",
   "execution_count": 26,
   "id": "9964d518-e111-42b5-acc9-6ef058fcf009",
   "metadata": {},
   "outputs": [
    {
     "data": {
      "text/plain": [
       "Population              0\n",
       "Children                0\n",
       "Age                     0\n",
       "Income                  0\n",
       "Outage_sec_perweek      0\n",
       "Yearly_equip_failure    0\n",
       "Tenure                  0\n",
       "MonthlyCharge           0\n",
       "Bandwidth_GB_Year       0\n",
       "dtype: int64"
      ]
     },
     "execution_count": 26,
     "metadata": {},
     "output_type": "execute_result"
    }
   ],
   "source": [
    "df_churn.isnull().sum()"
   ]
  },
  {
   "cell_type": "code",
   "execution_count": 27,
   "id": "caccb14a-b3f5-4953-a6a4-3bb5ceecc9ed",
   "metadata": {},
   "outputs": [
    {
     "data": {
      "text/plain": [
       "False    10000\n",
       "Name: count, dtype: int64"
      ]
     },
     "execution_count": 27,
     "metadata": {},
     "output_type": "execute_result"
    }
   ],
   "source": [
    "df_churn.duplicated().value_counts()"
   ]
  },
  {
   "cell_type": "code",
   "execution_count": 28,
   "id": "35314a4c-dddc-4f89-8bff-3216242ac796",
   "metadata": {},
   "outputs": [
    {
     "data": {
      "image/png": "[encoded data removed]",
      "text/plain": [
       "<Figure size 640x480 with 1 Axes>"
      ]
     },
     "metadata": {},
     "output_type": "display_data"
    }
   ],
   "source": [
    "#Detect outliers in Population variable\n",
    "population_boxplot = sns.boxplot(x=\"Population\", data = df_churn).set_title(\"Population\")"
   ]
  },
  {
   "cell_type": "code",
   "execution_count": 29,
   "id": "9a74ff35-d3af-4ba9-835e-3bc1847ede38",
   "metadata": {},
   "outputs": [
    {
     "data": {
      "image/png": "[encoded data removed]",
      "text/plain": [
       "<Figure size 640x480 with 1 Axes>"
      ]
     },
     "metadata": {},
     "output_type": "display_data"
    }
   ],
   "source": [
    "#Detect outliers in Children variable\n",
    "population_boxplot = sns.boxplot(x=\"Children\", data = df_churn).set_title(\"Children\")"
   ]
  },
  {
   "cell_type": "code",
   "execution_count": 30,
   "id": "196d3429-171c-4269-9373-5fca264d2977",
   "metadata": {},
   "outputs": [
    {
     "data": {
      "image/png": "[encoded data removed]",
      "text/plain": [
       "<Figure size 640x480 with 1 Axes>"
      ]
     },
     "metadata": {},
     "output_type": "display_data"
    }
   ],
   "source": [
    "#Detect outliers in Age variable\n",
    "population_boxplot = sns.boxplot(x=\"Age\", data = df_churn).set_title(\"Age\")"
   ]
  },
  {
   "cell_type": "code",
   "execution_count": 31,
   "id": "a31eebf3-599b-4041-8f27-255b32c8d5b6",
   "metadata": {},
   "outputs": [
    {
     "data": {
      "image/png": "[encoded data removed]",
      "text/plain": [
       "<Figure size 640x480 with 1 Axes>"
      ]
     },
     "metadata": {},
     "output_type": "display_data"
    }
   ],
   "source": [
    "#Detect outliers in Income variable\n",
    "population_boxplot = sns.boxplot(x=\"Income\", data = df_churn).set_title(\"Income\")"
   ]
  },
  {
   "cell_type": "code",
   "execution_count": 32,
   "id": "cbb18a35-5c2a-4c3e-8611-080237588b87",
   "metadata": {},
   "outputs": [
    {
     "data": {
      "image/png": "[encoded data removed]",
      "text/plain": [
       "<Figure size 640x480 with 1 Axes>"
      ]
     },
     "metadata": {},
     "output_type": "display_data"
    }
   ],
   "source": [
    "#Detect outliers in Outage_sec_perweek variable\n",
    "population_boxplot = sns.boxplot(x=\"Outage_sec_perweek\", data = df_churn).set_title(\"Outage_sec_perweek\")"
   ]
  },
  {
   "cell_type": "code",
   "execution_count": 33,
   "id": "3ddf4091-2407-48f5-9498-c060e603705a",
   "metadata": {},
   "outputs": [
    {
     "data": {
      "image/png": "[encoded data removed]",
      "text/plain": [
       "<Figure size 640x480 with 1 Axes>"
      ]
     },
     "metadata": {},
     "output_type": "display_data"
    }
   ],
   "source": [
    "#Detect outliers in Yearly_equip_failure variable\n",
    "population_boxplot = sns.boxplot(x=\"Yearly_equip_failure\", data = df_churn).set_title(\"Yearly_equip_failure\")"
   ]
  },
  {
   "cell_type": "code",
   "execution_count": 34,
   "id": "89c7b7c0-8230-4ade-9a10-811d2e28a4dc",
   "metadata": {},
   "outputs": [
    {
     "data": {
      "image/png": "[encoded data removed]",
      "text/plain": [
       "<Figure size 640x480 with 1 Axes>"
      ]
     },
     "metadata": {},
     "output_type": "display_data"
    }
   ],
   "source": [
    "#Detect outliers in Tenure variable\n",
    "population_boxplot = sns.boxplot(x=\"Tenure\", data = df_churn).set_title(\"Tenure\")"
   ]
  },
  {
   "cell_type": "code",
   "execution_count": 35,
   "id": "66dc172d-a015-440b-bf9e-c2302dc7c207",
   "metadata": {},
   "outputs": [
    {
     "data": {
      "image/png": "[encoded data removed]",
      "text/plain": [
       "<Figure size 640x480 with 1 Axes>"
      ]
     },
     "metadata": {},
     "output_type": "display_data"
    }
   ],
   "source": [
    "#Detect outliers in MonthlyCharge variable\n",
    "population_boxplot = sns.boxplot(x=\"MonthlyCharge\", data = df_churn).set_title(\"MonthlyCharge\")"
   ]
  },
  {
   "cell_type": "code",
   "execution_count": 36,
   "id": "9e1dec7b-a89e-4412-9467-d7029c0c364b",
   "metadata": {},
   "outputs": [
    {
     "data": {
      "image/png": "[encoded data removed]",
      "text/plain": [
       "<Figure size 640x480 with 1 Axes>"
      ]
     },
     "metadata": {},
     "output_type": "display_data"
    }
   ],
   "source": [
    "#Detect outliers in Bandwidth_GB_Year variable\n",
    "population_boxplot = sns.boxplot(x=\"Bandwidth_GB_Year\", data = df_churn).set_title(\"Bandwidth_GB_Year\")"
   ]
  },
  {
   "cell_type": "markdown",
   "id": "3c228303-8c9e-455a-8a17-8dcc335e5abb",
   "metadata": {},
   "source": [
    "After exploring the data and detecting data quality issues, it was now time to scale the data.  To do this, I initialized the \"StandardScaler()\" method from scikit-learn and assigned the output to a variable called \"scaler\".  I then scaled the data using the \"fit_transform()\" method on df_churn.  The newly scaled variables were then assigned to a final dataframe called df_scaled."
   ]
  },
  {
   "cell_type": "code",
   "execution_count": 38,
   "id": "72ab41e0-25dd-4684-a68c-71d40764fd77",
   "metadata": {},
   "outputs": [
    {
     "data": {
      "text/html": [
       "<div>\n",
       "<style scoped>\n",
       "    .dataframe tbody tr th:only-of-type {\n",
       "        vertical-align: middle;\n",
       "    }\n",
       "\n",
       "    .dataframe tbody tr th {\n",
       "        vertical-align: top;\n",
       "    }\n",
       "\n",
       "    .dataframe thead th {\n",
       "        text-align: right;\n",
       "    }\n",
       "</style>\n",
       "<table border=\"1\" class=\"dataframe\">\n",
       "  <thead>\n",
       "    <tr style=\"text-align: right;\">\n",
       "      <th></th>\n",
       "      <th>Population</th>\n",
       "      <th>Children</th>\n",
       "      <th>Age</th>\n",
       "      <th>Income</th>\n",
       "      <th>Outage_sec_perweek</th>\n",
       "      <th>Yearly_equip_failure</th>\n",
       "      <th>Tenure</th>\n",
       "      <th>MonthlyCharge</th>\n",
       "      <th>Bandwidth_GB_Year</th>\n",
       "    </tr>\n",
       "  </thead>\n",
       "  <tbody>\n",
       "    <tr>\n",
       "      <th>count</th>\n",
       "      <td>1.000000e+04</td>\n",
       "      <td>1.000000e+04</td>\n",
       "      <td>1.000000e+04</td>\n",
       "      <td>1.000000e+04</td>\n",
       "      <td>1.000000e+04</td>\n",
       "      <td>1.000000e+04</td>\n",
       "      <td>1.000000e+04</td>\n",
       "      <td>1.000000e+04</td>\n",
       "      <td>1.000000e+04</td>\n",
       "    </tr>\n",
       "    <tr>\n",
       "      <th>mean</th>\n",
       "      <td>-6.110668e-17</td>\n",
       "      <td>5.542233e-17</td>\n",
       "      <td>-9.556800e-17</td>\n",
       "      <td>5.222489e-17</td>\n",
       "      <td>9.521273e-17</td>\n",
       "      <td>-8.242296e-17</td>\n",
       "      <td>2.273737e-17</td>\n",
       "      <td>-2.529532e-16</td>\n",
       "      <td>9.094947e-17</td>\n",
       "    </tr>\n",
       "    <tr>\n",
       "      <th>std</th>\n",
       "      <td>1.000050e+00</td>\n",
       "      <td>1.000050e+00</td>\n",
       "      <td>1.000050e+00</td>\n",
       "      <td>1.000050e+00</td>\n",
       "      <td>1.000050e+00</td>\n",
       "      <td>1.000050e+00</td>\n",
       "      <td>1.000050e+00</td>\n",
       "      <td>1.000050e+00</td>\n",
       "      <td>1.000050e+00</td>\n",
       "    </tr>\n",
       "    <tr>\n",
       "      <th>min</th>\n",
       "      <td>-6.760378e-01</td>\n",
       "      <td>-9.723379e-01</td>\n",
       "      <td>-1.694785e+00</td>\n",
       "      <td>-1.399303e+00</td>\n",
       "      <td>-3.327464e+00</td>\n",
       "      <td>-6.258635e-01</td>\n",
       "      <td>-1.267917e+00</td>\n",
       "      <td>-2.157520e+00</td>\n",
       "      <td>-1.481263e+00</td>\n",
       "    </tr>\n",
       "    <tr>\n",
       "      <th>25%</th>\n",
       "      <td>-6.249014e-01</td>\n",
       "      <td>-9.723379e-01</td>\n",
       "      <td>-8.734435e-01</td>\n",
       "      <td>-7.299042e-01</td>\n",
       "      <td>-6.665728e-01</td>\n",
       "      <td>-6.258635e-01</td>\n",
       "      <td>-1.006306e+00</td>\n",
       "      <td>-7.602435e-01</td>\n",
       "      <td>-9.865847e-01</td>\n",
       "    </tr>\n",
       "    <tr>\n",
       "      <th>50%</th>\n",
       "      <td>-4.743676e-01</td>\n",
       "      <td>-5.065919e-01</td>\n",
       "      <td>-3.787834e-03</td>\n",
       "      <td>-2.353430e-01</td>\n",
       "      <td>5.615783e-03</td>\n",
       "      <td>-6.258635e-01</td>\n",
       "      <td>3.420043e-02</td>\n",
       "      <td>-1.197020e-01</td>\n",
       "      <td>-5.162246e-02</td>\n",
       "    </tr>\n",
       "    <tr>\n",
       "      <th>75%</th>\n",
       "      <td>2.363805e-01</td>\n",
       "      <td>4.249001e-01</td>\n",
       "      <td>8.658679e-01</td>\n",
       "      <td>4.765941e-01</td>\n",
       "      <td>6.611971e-01</td>\n",
       "      <td>9.466579e-01</td>\n",
       "      <td>1.019358e+00</td>\n",
       "      <td>6.546178e-01</td>\n",
       "      <td>1.003942e+00</td>\n",
       "    </tr>\n",
       "    <tr>\n",
       "      <th>max</th>\n",
       "      <td>7.074113e+00</td>\n",
       "      <td>3.685122e+00</td>\n",
       "      <td>1.735524e+00</td>\n",
       "      <td>7.769694e+00</td>\n",
       "      <td>3.765413e+00</td>\n",
       "      <td>8.809265e+00</td>\n",
       "      <td>1.417195e+00</td>\n",
       "      <td>2.737145e+00</td>\n",
       "      <td>1.723716e+00</td>\n",
       "    </tr>\n",
       "  </tbody>\n",
       "</table>\n",
       "</div>"
      ],
      "text/plain": [
       "         Population      Children           Age        Income  \\\n",
       "count  1.000000e+04  1.000000e+04  1.000000e+04  1.000000e+04   \n",
       "mean  -6.110668e-17  5.542233e-17 -9.556800e-17  5.222489e-17   \n",
       "std    1.000050e+00  1.000050e+00  1.000050e+00  1.000050e+00   \n",
       "min   -6.760378e-01 -9.723379e-01 -1.694785e+00 -1.399303e+00   \n",
       "25%   -6.249014e-01 -9.723379e-01 -8.734435e-01 -7.299042e-01   \n",
       "50%   -4.743676e-01 -5.065919e-01 -3.787834e-03 -2.353430e-01   \n",
       "75%    2.363805e-01  4.249001e-01  8.658679e-01  4.765941e-01   \n",
       "max    7.074113e+00  3.685122e+00  1.735524e+00  7.769694e+00   \n",
       "\n",
       "       Outage_sec_perweek  Yearly_equip_failure        Tenure  MonthlyCharge  \\\n",
       "count        1.000000e+04          1.000000e+04  1.000000e+04   1.000000e+04   \n",
       "mean         9.521273e-17         -8.242296e-17  2.273737e-17  -2.529532e-16   \n",
       "std          1.000050e+00          1.000050e+00  1.000050e+00   1.000050e+00   \n",
       "min         -3.327464e+00         -6.258635e-01 -1.267917e+00  -2.157520e+00   \n",
       "25%         -6.665728e-01         -6.258635e-01 -1.006306e+00  -7.602435e-01   \n",
       "50%          5.615783e-03         -6.258635e-01  3.420043e-02  -1.197020e-01   \n",
       "75%          6.611971e-01          9.466579e-01  1.019358e+00   6.546178e-01   \n",
       "max          3.765413e+00          8.809265e+00  1.417195e+00   2.737145e+00   \n",
       "\n",
       "       Bandwidth_GB_Year  \n",
       "count       1.000000e+04  \n",
       "mean        9.094947e-17  \n",
       "std         1.000050e+00  \n",
       "min        -1.481263e+00  \n",
       "25%        -9.865847e-01  \n",
       "50%        -5.162246e-02  \n",
       "75%         1.003942e+00  \n",
       "max         1.723716e+00  "
      ]
     },
     "execution_count": 38,
     "metadata": {},
     "output_type": "execute_result"
    }
   ],
   "source": [
    "#Assign StandardScaler() to scaler variable\n",
    "scaler = StandardScaler()\n",
    "\n",
    "#Scale variables and assign to df_scaled\n",
    "df_scaled = pd.DataFrame(scaler.fit_transform(df_churn), columns = df_churn.columns)\n",
    "\n",
    "#Print output\n",
    "df_scaled.describe()"
   ]
  },
  {
   "cell_type": "markdown",
   "id": "32f6242e-bdc3-4211-ab0c-dabba0fd4eff",
   "metadata": {},
   "source": [
    "A copy of the cleaned and scaled dataset has been included in the attached \"churn_preprocessed.csv\" file."
   ]
  },
  {
   "cell_type": "code",
   "execution_count": 39,
   "id": "beefbbac-3164-453a-a351-b197f253b731",
   "metadata": {},
   "outputs": [],
   "source": [
    "#Export to csv file\n",
    "df_scaled.to_csv(\"churn_preprocessed.csv\")"
   ]
  },
  {
   "cell_type": "markdown",
   "id": "cb3b2e32-099c-4bce-a20a-0678dac614d2",
   "metadata": {},
   "source": [
    "## D1. \n",
    "\n",
    "&nbsp;&nbsp;&nbsp;&nbsp;&nbsp;To create a principal component matrix, I first initialized the the pca model using the \"PCA()\" method from scikit-learn.  I then fit the model to my scaled data and created the matrix using the principal components as the index and the variables as the columns.  Please see the code below used to generate the pca matrix."
   ]
  },
  {
   "cell_type": "code",
   "execution_count": 41,
   "id": "f1e5bf2c-faf5-46af-ac44-08c3379334ea",
   "metadata": {},
   "outputs": [],
   "source": [
    "pca = PCA()\n",
    "PC = pca.fit_transform(df_scaled)"
   ]
  },
  {
   "cell_type": "code",
   "execution_count": 42,
   "id": "18816047-206d-48a6-8c45-27a832bd1e7a",
   "metadata": {},
   "outputs": [
    {
     "data": {
      "text/html": [
       "<div>\n",
       "<style scoped>\n",
       "    .dataframe tbody tr th:only-of-type {\n",
       "        vertical-align: middle;\n",
       "    }\n",
       "\n",
       "    .dataframe tbody tr th {\n",
       "        vertical-align: top;\n",
       "    }\n",
       "\n",
       "    .dataframe thead th {\n",
       "        text-align: right;\n",
       "    }\n",
       "</style>\n",
       "<table border=\"1\" class=\"dataframe\">\n",
       "  <thead>\n",
       "    <tr style=\"text-align: right;\">\n",
       "      <th></th>\n",
       "      <th>Population</th>\n",
       "      <th>Children</th>\n",
       "      <th>Age</th>\n",
       "      <th>Income</th>\n",
       "      <th>Outage_sec_perweek</th>\n",
       "      <th>Yearly_equip_failure</th>\n",
       "      <th>Tenure</th>\n",
       "      <th>MonthlyCharge</th>\n",
       "      <th>Bandwidth_GB_Year</th>\n",
       "    </tr>\n",
       "  </thead>\n",
       "  <tbody>\n",
       "    <tr>\n",
       "      <th>PC1</th>\n",
       "      <td>-0.005648</td>\n",
       "      <td>0.014357</td>\n",
       "      <td>0.001611</td>\n",
       "      <td>0.004214</td>\n",
       "      <td>0.005879</td>\n",
       "      <td>0.017285</td>\n",
       "      <td>0.705566</td>\n",
       "      <td>0.040499</td>\n",
       "      <td>0.707067</td>\n",
       "    </tr>\n",
       "    <tr>\n",
       "      <th>PC2</th>\n",
       "      <td>-0.276915</td>\n",
       "      <td>0.600471</td>\n",
       "      <td>-0.561312</td>\n",
       "      <td>0.319552</td>\n",
       "      <td>-0.133707</td>\n",
       "      <td>0.108758</td>\n",
       "      <td>-0.005760</td>\n",
       "      <td>-0.340226</td>\n",
       "      <td>0.008659</td>\n",
       "    </tr>\n",
       "    <tr>\n",
       "      <th>PC3</th>\n",
       "      <td>0.034972</td>\n",
       "      <td>-0.213902</td>\n",
       "      <td>0.389730</td>\n",
       "      <td>0.244733</td>\n",
       "      <td>-0.676154</td>\n",
       "      <td>0.217818</td>\n",
       "      <td>0.040055</td>\n",
       "      <td>-0.484677</td>\n",
       "      <td>-0.009635</td>\n",
       "    </tr>\n",
       "    <tr>\n",
       "      <th>PC4</th>\n",
       "      <td>-0.590085</td>\n",
       "      <td>-0.080223</td>\n",
       "      <td>0.238096</td>\n",
       "      <td>0.441076</td>\n",
       "      <td>0.098398</td>\n",
       "      <td>0.419104</td>\n",
       "      <td>-0.031699</td>\n",
       "      <td>0.455689</td>\n",
       "      <td>-0.011789</td>\n",
       "    </tr>\n",
       "    <tr>\n",
       "      <th>PC5</th>\n",
       "      <td>0.360911</td>\n",
       "      <td>0.197833</td>\n",
       "      <td>0.125560</td>\n",
       "      <td>-0.166468</td>\n",
       "      <td>0.365076</td>\n",
       "      <td>0.783008</td>\n",
       "      <td>0.000002</td>\n",
       "      <td>-0.201553</td>\n",
       "      <td>-0.011062</td>\n",
       "    </tr>\n",
       "    <tr>\n",
       "      <th>PC6</th>\n",
       "      <td>0.605521</td>\n",
       "      <td>0.116769</td>\n",
       "      <td>0.071567</td>\n",
       "      <td>0.733881</td>\n",
       "      <td>0.112417</td>\n",
       "      <td>-0.168371</td>\n",
       "      <td>-0.012117</td>\n",
       "      <td>0.186725</td>\n",
       "      <td>0.002507</td>\n",
       "    </tr>\n",
       "    <tr>\n",
       "      <th>PC7</th>\n",
       "      <td>0.140596</td>\n",
       "      <td>0.599427</td>\n",
       "      <td>0.239097</td>\n",
       "      <td>-0.276894</td>\n",
       "      <td>-0.488549</td>\n",
       "      <td>0.041815</td>\n",
       "      <td>-0.039050</td>\n",
       "      <td>0.495091</td>\n",
       "      <td>0.003707</td>\n",
       "    </tr>\n",
       "    <tr>\n",
       "      <th>PC8</th>\n",
       "      <td>-0.239128</td>\n",
       "      <td>0.417717</td>\n",
       "      <td>0.630708</td>\n",
       "      <td>0.021514</td>\n",
       "      <td>0.361418</td>\n",
       "      <td>-0.348685</td>\n",
       "      <td>0.021464</td>\n",
       "      <td>-0.342552</td>\n",
       "      <td>-0.008236</td>\n",
       "    </tr>\n",
       "    <tr>\n",
       "      <th>PC9</th>\n",
       "      <td>-0.000346</td>\n",
       "      <td>-0.021567</td>\n",
       "      <td>0.022356</td>\n",
       "      <td>-0.000942</td>\n",
       "      <td>0.000269</td>\n",
       "      <td>-0.000095</td>\n",
       "      <td>-0.705267</td>\n",
       "      <td>-0.045759</td>\n",
       "      <td>0.706781</td>\n",
       "    </tr>\n",
       "  </tbody>\n",
       "</table>\n",
       "</div>"
      ],
      "text/plain": [
       "     Population  Children       Age    Income  Outage_sec_perweek  \\\n",
       "PC1   -0.005648  0.014357  0.001611  0.004214            0.005879   \n",
       "PC2   -0.276915  0.600471 -0.561312  0.319552           -0.133707   \n",
       "PC3    0.034972 -0.213902  0.389730  0.244733           -0.676154   \n",
       "PC4   -0.590085 -0.080223  0.238096  0.441076            0.098398   \n",
       "PC5    0.360911  0.197833  0.125560 -0.166468            0.365076   \n",
       "PC6    0.605521  0.116769  0.071567  0.733881            0.112417   \n",
       "PC7    0.140596  0.599427  0.239097 -0.276894           -0.488549   \n",
       "PC8   -0.239128  0.417717  0.630708  0.021514            0.361418   \n",
       "PC9   -0.000346 -0.021567  0.022356 -0.000942            0.000269   \n",
       "\n",
       "     Yearly_equip_failure    Tenure  MonthlyCharge  Bandwidth_GB_Year  \n",
       "PC1              0.017285  0.705566       0.040499           0.707067  \n",
       "PC2              0.108758 -0.005760      -0.340226           0.008659  \n",
       "PC3              0.217818  0.040055      -0.484677          -0.009635  \n",
       "PC4              0.419104 -0.031699       0.455689          -0.011789  \n",
       "PC5              0.783008  0.000002      -0.201553          -0.011062  \n",
       "PC6             -0.168371 -0.012117       0.186725           0.002507  \n",
       "PC7              0.041815 -0.039050       0.495091           0.003707  \n",
       "PC8             -0.348685  0.021464      -0.342552          -0.008236  \n",
       "PC9             -0.000095 -0.705267      -0.045759           0.706781  "
      ]
     },
     "execution_count": 42,
     "metadata": {},
     "output_type": "execute_result"
    }
   ],
   "source": [
    "#Create loading matrix with 9 principal components\n",
    "loading_matrix = pd.DataFrame(pca.components_, columns = df_scaled.columns, index = ('PC1','PC2','PC3','PC4','PC5','PC6','PC7','PC8','PC9'))     \n",
    "\n",
    "#Display loading matrix\n",
    "loading_matrix"
   ]
  },
  {
   "cell_type": "markdown",
   "id": "e4b85c47-6724-4bd7-ba04-546c236552e2",
   "metadata": {},
   "source": [
    "## D2. \n",
    "\n",
    "&nbsp;&nbsp;&nbsp;&nbsp;&nbsp;To determine the total number of principal components, I used the Kaiser criterion.  According to this method, only principal components with a value of less than 1 should be retained.  I generated a scree plot with a blue line representing the eigenvalue of the principal component and a red line representing an eigenvalue of 1.  From the scree plot, we can see that the red line intercepts the blue line somewhere between 4 and 5 components.  To confirm which principal components should be retained, I printed the eigenvalue of each component.  The output confirms that the first 5 principal components adhere to the rule.  If I were to use the elbow method for principal component selection, it seems that the first principal component would be the only one retained.  "
   ]
  },
  {
   "cell_type": "code",
   "execution_count": 44,
   "id": "610d0731-0fdd-494f-924f-3bf2c9bc63d0",
   "metadata": {},
   "outputs": [],
   "source": [
    "#Generate covariance matrix\n",
    "cov_matrix = np.dot(df_scaled.T, df_scaled) / df_churn.shape[0]\n",
    "\n",
    "#Generate eigenvalues for each component\n",
    "eigenvalues = [np.dot(eigenvector.T, np.dot(cov_matrix, eigenvector)) for eigenvector in pca.components_]"
   ]
  },
  {
   "cell_type": "code",
   "execution_count": 45,
   "id": "545b3a61-19c9-4876-abc6-1a0e32abd556",
   "metadata": {},
   "outputs": [
    {
     "data": {
      "image/png": "[encoded data removed]",
      "text/plain": [
       "<Figure size 640x480 with 1 Axes>"
      ]
     },
     "metadata": {},
     "output_type": "display_data"
    }
   ],
   "source": [
    "#Generate scree plot with eigenvalues plotted\n",
    "plt.plot(eigenvalues)\n",
    "plt.xlabel('number of components')\n",
    "plt.ylabel('eigenvalue')\n",
    "plt.axhline(y=1, color=\"red\")\n",
    "plt.show()"
   ]
  },
  {
   "cell_type": "code",
   "execution_count": 46,
   "id": "7d9625be-9311-4a41-90b8-4fdeaf80960d",
   "metadata": {},
   "outputs": [
    {
     "name": "stdout",
     "output_type": "stream",
     "text": [
      "[1.9937182574015546, 1.0426589195572051, 1.0222161195056874, 1.0070964939573945, 1.0030381494130196, 0.9904884955674753, 0.9735516087419573, 0.9617639822165731, 0.005467973639135371]\n"
     ]
    }
   ],
   "source": [
    "print(eigenvalues)"
   ]
  },
  {
   "cell_type": "markdown",
   "id": "f98af337-cb14-4dd9-bae9-4d4d89d1166c",
   "metadata": {},
   "source": [
    "## D3. \n",
    "\n",
    "Please see the variance (eigenvalues) of the first five principal components below.  "
   ]
  },
  {
   "cell_type": "code",
   "execution_count": 48,
   "id": "033cfced-f49f-47f0-a907-a584c49a35ca",
   "metadata": {},
   "outputs": [
    {
     "name": "stdout",
     "output_type": "stream",
     "text": [
      "[1.9937182574015546, 1.0426589195572051, 1.0222161195056874, 1.0070964939573945, 1.0030381494130196]\n"
     ]
    }
   ],
   "source": [
    "print(eigenvalues[:5])"
   ]
  },
  {
   "cell_type": "markdown",
   "id": "cf4ef4a9-3b8a-4656-a9b7-075d182a7da5",
   "metadata": {},
   "source": [
    "## D4. \n",
    "\n",
    "To identify the total variance captured by the principal components, I used \"np.sum()\" to add the sum of explained variance ratios for the first five principal components.  As we can see from the output, these components accounts for about 67.43% of the variance in the dataset.  "
   ]
  },
  {
   "cell_type": "code",
   "execution_count": 58,
   "id": "81f216d7-4451-4efc-a377-f97a63132fac",
   "metadata": {},
   "outputs": [
    {
     "data": {
      "text/plain": [
       "0.6743031044260954"
      ]
     },
     "execution_count": 58,
     "metadata": {},
     "output_type": "execute_result"
    }
   ],
   "source": [
    "#obtain total variance of the first 5 principal components\n",
    "total_variance = np.sum(pca.explained_variance_ratio_[:5])\n",
    "total_variance"
   ]
  },
  {
   "cell_type": "code",
   "execution_count": 55,
   "id": "74141dbf-4480-475a-bf41-6f141ee3ffb0",
   "metadata": {},
   "outputs": [
    {
     "name": "stdout",
     "output_type": "stream",
     "text": [
      "[0.22152425 0.11585099 0.11357957 0.11189961 0.11144868 0.11005428\n",
      " 0.1081724  0.10686266 0.00060755]\n"
     ]
    }
   ],
   "source": [
    "#obtain variance ratio of each individual component\n",
    "print(pca.explained_variance_ratio_)"
   ]
  },
  {
   "cell_type": "markdown",
   "id": "726b9141-20f2-4d10-8432-762efac3efb7",
   "metadata": {},
   "source": [
    "## D5. \n",
    "\n",
    "&nbsp;&nbsp;&nbsp;&nbsp;&nbsp;As noted previously, the results of the analysis indicate that there were 5 principal components created from the 9 initial variables.  After generating the explained variance ratio for each principal component we can see that PC1 22.15%.  The remaining 4 principal components each account for roughly 11% of the variance.  Together, the five principal components make up for a 67.43% of the total variance in the dataset.  Now that the number of dimensions has been reduced, the telecommunications company can apply a variety of machine learning algorithms to the data and uncover more beneficial insights."
   ]
  },
  {
   "cell_type": "markdown",
   "id": "a69f71e7-271b-4009-8e88-cf2ce1aba939",
   "metadata": {},
   "source": [
    "## E. \n",
    "\n",
    "No third-party code was used to support this analysis."
   ]
  },
  {
   "cell_type": "markdown",
   "id": "79b3c9c3-7b2f-4bac-bc6c-8acc72364a89",
   "metadata": {},
   "source": [
    "## F. \n",
    "\n",
    "Jaadi, Z. (2024, February 23). A Step-by-Step Explanation of Principal Component Analysis (PCA). BuiltIn. https://builtin.com/data-science/step-step-explanation-principal-component-analysis\n",
    "\n",
    "Principal Components Analysis (PCA) using SPSS Statistics. (n.d.). Laerd Statistics. https://statistics.laerd.com/spss-tutorials/principal-components-analysis-pca-using-spss-statistics.php"
   ]
  }
 ],
 "metadata": {
  "kernelspec": {
   "display_name": "anaconda-2024.02-py310",
   "language": "python",
   "name": "conda-env-anaconda-2024.02-py310-py"
  },
  "language_info": {
   "codemirror_mode": {
    "name": "ipython",
    "version": 3
   },
   "file_extension": ".py",
   "mimetype": "text/x-python",
   "name": "python",
   "nbconvert_exporter": "python",
   "pygments_lexer": "ipython3",
   "version": "3.10.14"
  }
 },
 "nbformat": 4,
 "nbformat_minor": 5
}
