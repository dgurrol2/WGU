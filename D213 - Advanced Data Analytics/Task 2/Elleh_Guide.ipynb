{
 "cells": [
  {
   "cell_type": "markdown",
   "id": "6c0f92bf-b7ce-4c64-96bb-5abc33f7065f",
   "metadata": {},
   "source": [
    "https://wgu.hosted.panopto.com/Panopto/Pages/Viewer.aspx?id=8639374a-964b-4ae9-b33b-b1210052c07d"
   ]
  },
  {
   "cell_type": "markdown",
   "id": "6f8da1a5-8384-4ec1-aa4b-970cc6ca2719",
   "metadata": {},
   "source": [
    "Slide 21\n",
    "\n",
    "1. Import data set as a dataframe\n",
    "2. Load libraries\n",
    "3. Remove null and nan\n",
    "4. Remove unusual characters\n",
    "5. Measure vocab size\n",
    "6. Explore N-Gram\n",
    "7. Determine word embedding and explore embedded words based on target inputs\n",
    "8. Set max sequence length based on length of longest sentence in dataset\n",
    "9. Tokenize sentences into a list of tokens and remove stopwords\n",
    "10. Pad cleaned sentences to fit the maximum sequence length after each text sequence\n",
    "11. Create an activation function filled with dense layers of the neural network\n",
    "12. Split the data into testing and training sets or into testing/training/validation sets"
   ]
  },
  {
   "cell_type": "markdown",
   "id": "d88486c6-d1f9-453c-9546-7e0d7d3ca489",
   "metadata": {},
   "source": [
    "Slide 37\n",
    "1. Import the dataset\n",
    "2. Check on any unusual or abnormal characters\n",
    "3. Explore the data\n",
    "4. Clean the data\n",
    "5. Create a two dimensional numpy array with our ratings by encoding (vectorize)\n",
    "6. Split into testing and training datasets\n",
    "7. On the training set apply the tokenizer using the fit_on_texts() method\n",
    "8. Retrieve the word_index of the training set\n",
    "9. Pre-padding/Post-padding the sequence to get the maximum length needed\n",
    "10. Fit the final model, convert both the training set and testing set into arrays using numpy"
   ]
  },
  {
   "cell_type": "code",
   "execution_count": 29,
   "id": "e7bf8577-d305-4bb8-92fb-559a58fd7f03",
   "metadata": {},
   "outputs": [],
   "source": [
    "# Install and import libraries\n",
    "import pandas as pd\n",
    "import numpy\n",
    "import csv\n",
    "import itertools\n",
    "import seaborn as sns\n",
    "import numpy as np\n",
    "import matplotlib.pyplot as plt\n",
    "import sys\n",
    "import sklearn\n",
    "from sklearn import preprocessing\n",
    "from sklearn.preprocessing import OneHotEncoder\n",
    "from sklearn import model_selection\n",
    "from sklearn.model_selection import train_test_split\n",
    "import re\n",
    "import tensorflow as tf \n",
    "import keras # Neural Network API\n",
    "from keras import preprocessing\n",
    "from tensorflow.keras.preprocessing.text import Tokenizer #Convert input text to tokens\n",
    "from tensorflow.keras.callbacks import EarlyStopping #Stop training at a threshold\n",
    "from tensorflow.keras.models import load_model #To load a saved model\n",
    "from tensorflow.keras.layers import Dense, Embedding\n",
    "from tensorflow.keras.models import Sequential\n",
    "from tensorflow.keras.callbacks import EarlyStopping\n",
    "from tensorflow.keras.preprocessing.sequence import pad_sequences\n",
    "\n",
    "from nltk.corpus import stopwords\n",
    "import nltk"
   ]
  },
  {
   "cell_type": "code",
   "execution_count": 2,
   "id": "57fa206b-76b4-4318-b9aa-08b2742d6fe7",
   "metadata": {},
   "outputs": [],
   "source": [
    "#Import files\n",
    "yelp = pd.read_csv(\"yelp_labelled.txt\", sep=\"\\t\", header=None, quoting=csv.QUOTE_NONE)\n",
    "imdb = pd.read_csv(\"imdb_labelled.txt\", sep=\"\\t\", header=None, quoting=csv.QUOTE_NONE)\n",
    "amazon = pd.read_csv(\"amazon_cells_labelled.txt\", sep=\"\\t\", header=None, quoting=csv.QUOTE_NONE)\n",
    "\n",
    "#Concatenate files and set column names\n",
    "df = pd.concat([yelp, imdb, amazon], ignore_index = True)\n",
    "df.columns = ['Review', 'Sentiment']"
   ]
  },
  {
   "cell_type": "code",
   "execution_count": 3,
   "id": "637fb80a-31f9-40ac-85f1-c8ade5692432",
   "metadata": {},
   "outputs": [
    {
     "data": {
      "text/plain": [
       "(3000, 2)"
      ]
     },
     "execution_count": 3,
     "metadata": {},
     "output_type": "execute_result"
    }
   ],
   "source": [
    "df.shape"
   ]
  },
  {
   "cell_type": "code",
   "execution_count": 4,
   "id": "534e50fe-45d1-494d-bcd1-3a3e51437418",
   "metadata": {},
   "outputs": [
    {
     "data": {
      "text/html": [
       "<div>\n",
       "<style scoped>\n",
       "    .dataframe tbody tr th:only-of-type {\n",
       "        vertical-align: middle;\n",
       "    }\n",
       "\n",
       "    .dataframe tbody tr th {\n",
       "        vertical-align: top;\n",
       "    }\n",
       "\n",
       "    .dataframe thead th {\n",
       "        text-align: right;\n",
       "    }\n",
       "</style>\n",
       "<table border=\"1\" class=\"dataframe\">\n",
       "  <thead>\n",
       "    <tr style=\"text-align: right;\">\n",
       "      <th></th>\n",
       "      <th>Review</th>\n",
       "      <th>Sentiment</th>\n",
       "    </tr>\n",
       "  </thead>\n",
       "  <tbody>\n",
       "    <tr>\n",
       "      <th>0</th>\n",
       "      <td>Wow... Loved this place.</td>\n",
       "      <td>1</td>\n",
       "    </tr>\n",
       "    <tr>\n",
       "      <th>1</th>\n",
       "      <td>Crust is not good.</td>\n",
       "      <td>0</td>\n",
       "    </tr>\n",
       "    <tr>\n",
       "      <th>2</th>\n",
       "      <td>Not tasty and the texture was just nasty.</td>\n",
       "      <td>0</td>\n",
       "    </tr>\n",
       "    <tr>\n",
       "      <th>3</th>\n",
       "      <td>Stopped by during the late May bank holiday of...</td>\n",
       "      <td>1</td>\n",
       "    </tr>\n",
       "    <tr>\n",
       "      <th>4</th>\n",
       "      <td>The selection on the menu was great and so wer...</td>\n",
       "      <td>1</td>\n",
       "    </tr>\n",
       "  </tbody>\n",
       "</table>\n",
       "</div>"
      ],
      "text/plain": [
       "                                              Review  Sentiment\n",
       "0                           Wow... Loved this place.          1\n",
       "1                                 Crust is not good.          0\n",
       "2          Not tasty and the texture was just nasty.          0\n",
       "3  Stopped by during the late May bank holiday of...          1\n",
       "4  The selection on the menu was great and so wer...          1"
      ]
     },
     "execution_count": 4,
     "metadata": {},
     "output_type": "execute_result"
    }
   ],
   "source": [
    "df.head()"
   ]
  },
  {
   "cell_type": "code",
   "execution_count": 5,
   "id": "3845c154-f05e-4ea6-b310-4115959a7a78",
   "metadata": {},
   "outputs": [
    {
     "data": {
      "text/plain": [
       "False"
      ]
     },
     "execution_count": 5,
     "metadata": {},
     "output_type": "execute_result"
    }
   ],
   "source": [
    "#Detect missing values\n",
    "df.isnull().values.any()"
   ]
  },
  {
   "cell_type": "code",
   "execution_count": 6,
   "id": "32a4d09d-77ce-4a8c-ba52-4791436dc059",
   "metadata": {},
   "outputs": [
    {
     "data": {
      "text/plain": [
       "Review       0\n",
       "Sentiment    0\n",
       "dtype: int64"
      ]
     },
     "execution_count": 6,
     "metadata": {},
     "output_type": "execute_result"
    }
   ],
   "source": [
    "df.isna().sum()"
   ]
  },
  {
   "cell_type": "code",
   "execution_count": 7,
   "id": "46777631-0d85-4cfa-b5f3-72afbab2d817",
   "metadata": {},
   "outputs": [
    {
     "name": "stdout",
     "output_type": "stream",
     "text": [
      "['W', 'o', 'w', '.', ' ', 'L', 'v', 'e', 'd', 't', 'h', 'i', 's', 'p', 'l', 'a', 'c', 'C', 'r', 'u', 'n', 'g', 'N', 'y', 'x', 'j', 'S', 'b', 'M', 'k', 'f', 'R', 'm', 'T', 'I', 'H', \"'\", 'A', ')', ',', '!', 'V', 'B', 'z', '-', '4', 'O', '2', '3', 'q', 'P', 'F', 'G', '5', '1', '0', 'E', 'Z', 'D', 'U', 'J', 'Y', 'K', '&', 'é', ':', ';', '9', '7', '(', 'X', '\"', '/', '8', 'Q', '$', '%', '+', '*', '?', '6', 'ê', '\\x96', '\\x85', 'å', '\\x97', '#', '[', ']']\n"
     ]
    }
   ],
   "source": [
    "#Detect unusual characters \n",
    "reviews = df['Review']\n",
    "char_list = []\n",
    "for review in reviews:\n",
    "    for char in review:\n",
    "        if char not in char_list:\n",
    "            char_list.append(char)\n",
    "print(char_list)"
   ]
  },
  {
   "cell_type": "code",
   "execution_count": 8,
   "id": "1a636bb6-9839-4a9e-bb5f-a6b5ca391060",
   "metadata": {},
   "outputs": [],
   "source": [
    "#Drop null values\n",
    "df.dropna(inplace = True)"
   ]
  },
  {
   "cell_type": "code",
   "execution_count": 9,
   "id": "d94d5aba-6b84-4a9c-bce2-ed815f9bacc3",
   "metadata": {},
   "outputs": [
    {
     "data": {
      "text/plain": [
       "<Axes: xlabel='Sentiment', ylabel='count'>"
      ]
     },
     "execution_count": 9,
     "metadata": {},
     "output_type": "execute_result"
    },
    {
     "data": {
      "image/png": "[encoded data removed]",
      "text/plain": [
       "<Figure size 640x480 with 1 Axes>"
      ]
     },
     "metadata": {},
     "output_type": "display_data"
    }
   ],
   "source": [
    "#Compare positive and negative sentiments in dataset\n",
    "sns.countplot(x='Sentiment', data=df)"
   ]
  },
  {
   "cell_type": "code",
   "execution_count": 10,
   "id": "fe68baac-07b7-4b03-93ee-df499b257e07",
   "metadata": {},
   "outputs": [],
   "source": [
    "# Unusual characters, tokenization, and lemmatization\n",
    "description_list = []\n",
    "stop_words = stopwords.words('english')\n",
    "for description in df['Review']:\n",
    "\n",
    "    #Regular expression, removes punctuation and special characters\n",
    "    description = re.sub(\"[^a-zA-Z]\", \" \", description)\n",
    "\n",
    "    #Convert to lower case\n",
    "    description = description.lower()\n",
    "\n",
    "    #Perform tokenization\n",
    "    description = nltk.word_tokenize(description)\n",
    "\n",
    "    #Perform lemmatization\n",
    "    lemma = nltk.WordNetLemmatizer()\n",
    "    description = [lemma.lemmatize(word) for word in description]\n",
    "\n",
    "    #Removing stopwords\n",
    "    description = [word for word in description if not word in stop_words]\n",
    "    description = \" \".join(description)\n",
    "    description_list.append(description)"
   ]
  },
  {
   "cell_type": "code",
   "execution_count": 11,
   "id": "632eceae-407b-4e1b-8be4-875ca3888f50",
   "metadata": {},
   "outputs": [
    {
     "name": "stdout",
     "output_type": "stream",
     "text": [
      "['w', 'o', ' ', 'l', 'v', 'e', 'd', 'p', 'a', 'c', 'r', 'u', 's', 't', 'g', 'y', 'x', 'n', 'm', 'b', 'k', 'h', 'i', 'f', 'z', 'q', 'j']\n"
     ]
    }
   ],
   "source": [
    "#Initial list of characters in reviews\n",
    "reviews = description_list\n",
    "char_list = []\n",
    "for review in reviews:\n",
    "    for char in review:\n",
    "        if char not in char_list:\n",
    "            char_list.append(char)\n",
    "print(char_list)"
   ]
  },
  {
   "cell_type": "markdown",
   "id": "bf514cba-43b9-40f1-be29-fd63fc96f9e0",
   "metadata": {},
   "source": [
    "### Vocab Size: based on preprocessed data"
   ]
  },
  {
   "cell_type": "code",
   "execution_count": 12,
   "id": "26765936-96f0-43e1-b3cc-75063174ed24",
   "metadata": {},
   "outputs": [
    {
     "name": "stdout",
     "output_type": "stream",
     "text": [
      "Vocabulary Size: 4553\n"
     ]
    }
   ],
   "source": [
    "#Identify vocabulary size\n",
    "tokenizer = Tokenizer()\n",
    "tokenizer.fit_on_texts(description_list)\n",
    "vocab_size = len(tokenizer.word_index)+1\n",
    "print(\"Vocabulary Size: \" + str(vocab_size))"
   ]
  },
  {
   "cell_type": "markdown",
   "id": "f5de5a24-38e6-442c-ba25-403b32a3fa5b",
   "metadata": {},
   "source": [
    "### Length of review: based on preprocessed data 10:35.  From Slide 28 of Cohort PowerPoint."
   ]
  },
  {
   "cell_type": "markdown",
   "id": "55126644-be76-4038-8cd4-5ef9ba1f8b58",
   "metadata": {},
   "source": [
    "### MAX LENGTH IS THE MOST IMPORTANT"
   ]
  },
  {
   "cell_type": "code",
   "execution_count": 13,
   "id": "8d925b3f-34b1-4c7f-a276-7cf97b54e58c",
   "metadata": {},
   "outputs": [
    {
     "name": "stdout",
     "output_type": "stream",
     "text": [
      "44\n",
      "5.0\n",
      "1\n"
     ]
    }
   ],
   "source": [
    "#Determine min, med, and max length of reviews\n",
    "review_length = []\n",
    "for char_len in description_list:\n",
    "    review_length.append(len(char_len.split(\" \")))\n",
    "\n",
    "review_max = np.max(review_length)\n",
    "review_min = np.min(review_length)\n",
    "review_median = np.median(review_length)\n",
    "print(review_max)\n",
    "print(review_median)\n",
    "print(review_min) "
   ]
  },
  {
   "cell_type": "markdown",
   "id": "2f652d6d-d22b-4cf3-8111-f65fa3698bb1",
   "metadata": {},
   "source": [
    "### Embedding Length: NOT IN PPT"
   ]
  },
  {
   "cell_type": "code",
   "execution_count": 14,
   "id": "fbdbbd9f-2c4a-4b5b-a1a2-964fe3ca52eb",
   "metadata": {},
   "outputs": [
    {
     "data": {
      "text/plain": [
       "8"
      ]
     },
     "execution_count": 14,
     "metadata": {},
     "output_type": "execute_result"
    }
   ],
   "source": [
    "max_sequence_embedding = int(round(numpy.sqrt(numpy.sqrt(vocab_size)), 0))\n",
    "max_sequence_embedding"
   ]
  },
  {
   "cell_type": "markdown",
   "id": "e28c1283-4310-4b53-8fbf-f56e1d95d6e5",
   "metadata": {},
   "source": [
    "### Train Test Split"
   ]
  },
  {
   "cell_type": "code",
   "execution_count": 15,
   "id": "3d7fe637-8dbd-4354-a0ee-25eff829ed6e",
   "metadata": {},
   "outputs": [
    {
     "name": "stdout",
     "output_type": "stream",
     "text": [
      "Training size:  (2400,)\n",
      "Testing size:  (600,)\n"
     ]
    }
   ],
   "source": [
    "#Train test split\n",
    "X = np.array(description_list)\n",
    "y = df[\"Sentiment\"]\n",
    "\n",
    "X_train, X_test, y_train, y_test = train_test_split(X, y, test_size = 0.20, random_state = 15, stratify = y)\n",
    "\n",
    "y_train = pd.Series(y_train)\n",
    "y_test = pd.Series(y_test)\n",
    "\n",
    "#View training and test sample sizes\n",
    "print(\"Training size: \", X_train.shape)\n",
    "print(\"Testing size: \", X_test.shape)"
   ]
  },
  {
   "cell_type": "markdown",
   "id": "df39738b-8743-4c84-83fa-eba59f61e95a",
   "metadata": {},
   "source": [
    "### Padding 13:30"
   ]
  },
  {
   "cell_type": "code",
   "execution_count": 16,
   "id": "76433779-ba75-4de7-b065-41e0a5825793",
   "metadata": {},
   "outputs": [],
   "source": [
    "#Apply padding to training data\n",
    "sequences_train = tokenizer.texts_to_sequences(X_train)\n",
    "padded_train = pad_sequences(sequences_train, maxlen = review_max, padding = \"post\", truncating = \"post\")\n",
    "\n",
    "#Apply padding to testing data\n",
    "sequences_test = tokenizer.texts_to_sequences(X_test)\n",
    "padded_test = pad_sequences(sequences_test, maxlen = review_max, padding = \"post\", truncating = \"post\")"
   ]
  },
  {
   "cell_type": "markdown",
   "id": "a9a915d5-93fd-4257-9304-a740872870b1",
   "metadata": {},
   "source": [
    "### Display the padded sequence 13:37"
   ]
  },
  {
   "cell_type": "code",
   "execution_count": 17,
   "id": "b325a400-b299-4526-aeef-bb0b065300b7",
   "metadata": {},
   "outputs": [
    {
     "data": {
      "text/plain": [
       "array([ 61,  60, 793, 191,  18,   0,   0,   0,   0,   0,   0,   0,   0,\n",
       "         0,   0,   0,   0,   0,   0,   0,   0,   0,   0,   0,   0,   0,\n",
       "         0,   0,   0,   0,   0,   0,   0,   0,   0,   0,   0,   0,   0,\n",
       "         0,   0,   0,   0,   0])"
      ]
     },
     "execution_count": 17,
     "metadata": {},
     "output_type": "execute_result"
    }
   ],
   "source": [
    "np.set_printoptions(threshold=sys.maxsize)\n",
    "padded_train[1]"
   ]
  },
  {
   "cell_type": "markdown",
   "id": "68a28b02-4b80-4a1a-afcc-d512569c1f61",
   "metadata": {},
   "source": [
    "### Export Data File 14:21"
   ]
  },
  {
   "cell_type": "code",
   "execution_count": 18,
   "id": "f6090044-a9d2-43a1-9c4e-6bca7d2ab04c",
   "metadata": {},
   "outputs": [],
   "source": [
    "#Convert padded data to numpy array to be used in model\n",
    "training_padded = np.array(padded_train)\n",
    "training_label = np.array(y_train)\n",
    "test_padded = np.array(padded_test)\n",
    "test_label = np.array(y_test)"
   ]
  },
  {
   "cell_type": "code",
   "execution_count": 19,
   "id": "b46b95c7-b3b1-4940-bfd6-07195f5ac332",
   "metadata": {},
   "outputs": [],
   "source": [
    "#Export the data to csv files\n",
    "#pd.DataFrame(training_padded).to_csv(\"training_padded.csv\")\n",
    "#pd.DataFrame(training_label).to_csv(\"training_label.csv\")\n",
    "#pd.DataFrame(test_padded).to_csv(\"test_padded.csv\")\n",
    "#pd.DataFrame(test_label).to_csv(\"test_label.csv\")"
   ]
  },
  {
   "cell_type": "markdown",
   "id": "1da0c24d-4225-4b5c-b8b0-f9b9e995e9c1",
   "metadata": {},
   "source": [
    "### KEY NOTES:\n",
    "Embedding length is used when performing embedding.  Understand where it is used when creating the embedding layer.\n",
    "Sequence length is used when performing padding."
   ]
  },
  {
   "cell_type": "markdown",
   "id": "174ec5f5-7857-4b95-b636-9b07f8c46251",
   "metadata": {},
   "source": [
    "### Building NN and NLP in Python"
   ]
  },
  {
   "cell_type": "markdown",
   "id": "85f80a5b-88d5-4db8-9da2-cfe6e825c89c",
   "metadata": {},
   "source": [
    "https://wgu.hosted.panopto.com/Panopto/Pages/Viewer.aspx?id=1b9aff54-735f-456a-a6b4-b11b00eb8d2f"
   ]
  },
  {
   "cell_type": "markdown",
   "id": "57654e2d-6b6d-4e1d-9589-cc1f802c900a",
   "metadata": {},
   "source": [
    "### Building the Neural Network 24:11"
   ]
  },
  {
   "cell_type": "code",
   "execution_count": 20,
   "id": "bf50c1ad-efaa-4ff8-ada1-8ad3b5354831",
   "metadata": {},
   "outputs": [
    {
     "name": "stdout",
     "output_type": "stream",
     "text": [
      "Epoch 1/20\n"
     ]
    },
    {
     "name": "stderr",
     "output_type": "stream",
     "text": [
      "C:\\Users\\darian.gurrola\\AppData\\Local\\anaconda3\\Lib\\site-packages\\keras\\src\\layers\\core\\embedding.py:90: UserWarning: Argument `input_length` is deprecated. Just remove it.\n",
      "  warnings.warn(\n"
     ]
    },
    {
     "name": "stdout",
     "output_type": "stream",
     "text": [
      "\u001b[1m53/53\u001b[0m \u001b[32m━━━━━━━━━━━━━━━━━━━━\u001b[0m\u001b[37m\u001b[0m \u001b[1m1s\u001b[0m 4ms/step - accuracy: 0.4957 - loss: 0.6937 - val_accuracy: 0.5069 - val_loss: 0.6930\n",
      "Epoch 2/20\n",
      "\u001b[1m53/53\u001b[0m \u001b[32m━━━━━━━━━━━━━━━━━━━━\u001b[0m\u001b[37m\u001b[0m \u001b[1m0s\u001b[0m 2ms/step - accuracy: 0.5033 - loss: 0.6930 - val_accuracy: 0.4931 - val_loss: 0.6929\n",
      "Epoch 3/20\n",
      "\u001b[1m53/53\u001b[0m \u001b[32m━━━━━━━━━━━━━━━━━━━━\u001b[0m\u001b[37m\u001b[0m \u001b[1m0s\u001b[0m 2ms/step - accuracy: 0.5073 - loss: 0.6921 - val_accuracy: 0.4944 - val_loss: 0.6929\n",
      "Epoch 4/20\n",
      "\u001b[1m53/53\u001b[0m \u001b[32m━━━━━━━━━━━━━━━━━━━━\u001b[0m\u001b[37m\u001b[0m \u001b[1m0s\u001b[0m 2ms/step - accuracy: 0.5434 - loss: 0.6900 - val_accuracy: 0.7806 - val_loss: 0.6810\n",
      "Epoch 5/20\n",
      "\u001b[1m53/53\u001b[0m \u001b[32m━━━━━━━━━━━━━━━━━━━━\u001b[0m\u001b[37m\u001b[0m \u001b[1m0s\u001b[0m 2ms/step - accuracy: 0.6768 - loss: 0.6560 - val_accuracy: 0.7944 - val_loss: 0.5977\n",
      "Epoch 6/20\n",
      "\u001b[1m53/53\u001b[0m \u001b[32m━━━━━━━━━━━━━━━━━━━━\u001b[0m\u001b[37m\u001b[0m \u001b[1m0s\u001b[0m 2ms/step - accuracy: 0.7346 - loss: 0.5461 - val_accuracy: 0.6833 - val_loss: 0.5720\n",
      "Epoch 7/20\n",
      "\u001b[1m53/53\u001b[0m \u001b[32m━━━━━━━━━━━━━━━━━━━━\u001b[0m\u001b[37m\u001b[0m \u001b[1m0s\u001b[0m 2ms/step - accuracy: 0.8010 - loss: 0.4484 - val_accuracy: 0.7139 - val_loss: 0.5398\n",
      "Epoch 8/20\n",
      "\u001b[1m53/53\u001b[0m \u001b[32m━━━━━━━━━━━━━━━━━━━━\u001b[0m\u001b[37m\u001b[0m \u001b[1m0s\u001b[0m 2ms/step - accuracy: 0.9153 - loss: 0.3054 - val_accuracy: 0.7403 - val_loss: 0.5240\n",
      "Epoch 9/20\n",
      "\u001b[1m53/53\u001b[0m \u001b[32m━━━━━━━━━━━━━━━━━━━━\u001b[0m\u001b[37m\u001b[0m \u001b[1m0s\u001b[0m 2ms/step - accuracy: 0.8725 - loss: 0.2969 - val_accuracy: 0.7764 - val_loss: 0.4856\n",
      "Epoch 10/20\n",
      "\u001b[1m53/53\u001b[0m \u001b[32m━━━━━━━━━━━━━━━━━━━━\u001b[0m\u001b[37m\u001b[0m \u001b[1m0s\u001b[0m 2ms/step - accuracy: 0.9159 - loss: 0.2324 - val_accuracy: 0.8042 - val_loss: 0.4543\n",
      "Epoch 11/20\n",
      "\u001b[1m53/53\u001b[0m \u001b[32m━━━━━━━━━━━━━━━━━━━━\u001b[0m\u001b[37m\u001b[0m \u001b[1m0s\u001b[0m 2ms/step - accuracy: 0.9478 - loss: 0.1564 - val_accuracy: 0.7889 - val_loss: 0.4727\n",
      "Epoch 12/20\n",
      "\u001b[1m53/53\u001b[0m \u001b[32m━━━━━━━━━━━━━━━━━━━━\u001b[0m\u001b[37m\u001b[0m \u001b[1m0s\u001b[0m 2ms/step - accuracy: 0.9437 - loss: 0.1616 - val_accuracy: 0.7972 - val_loss: 0.4716\n"
     ]
    },
    {
     "data": {
      "text/html": [
       "<pre style=\"white-space:pre;overflow-x:auto;line-height:normal;font-family:Menlo,'DejaVu Sans Mono',consolas,'Courier New',monospace\"><span style=\"font-weight: bold\">Model: \"sequential\"</span>\n",
       "</pre>\n"
      ],
      "text/plain": [
       "\u001b[1mModel: \"sequential\"\u001b[0m\n"
      ]
     },
     "metadata": {},
     "output_type": "display_data"
    },
    {
     "data": {
      "text/html": [
       "<pre style=\"white-space:pre;overflow-x:auto;line-height:normal;font-family:Menlo,'DejaVu Sans Mono',consolas,'Courier New',monospace\">┏━━━━━━━━━━━━━━━━━━━━━━━━━━━━━━━━━┳━━━━━━━━━━━━━━━━━━━━━━━━┳━━━━━━━━━━━━━━━┓\n",
       "┃<span style=\"font-weight: bold\"> Layer (type)                    </span>┃<span style=\"font-weight: bold\"> Output Shape           </span>┃<span style=\"font-weight: bold\">       Param # </span>┃\n",
       "┡━━━━━━━━━━━━━━━━━━━━━━━━━━━━━━━━━╇━━━━━━━━━━━━━━━━━━━━━━━━╇━━━━━━━━━━━━━━━┩\n",
       "│ embedding (<span style=\"color: #0087ff; text-decoration-color: #0087ff\">Embedding</span>)           │ (<span style=\"color: #00d7ff; text-decoration-color: #00d7ff\">None</span>, <span style=\"color: #00af00; text-decoration-color: #00af00\">44</span>, <span style=\"color: #00af00; text-decoration-color: #00af00\">8</span>)          │        <span style=\"color: #00af00; text-decoration-color: #00af00\">36,424</span> │\n",
       "├─────────────────────────────────┼────────────────────────┼───────────────┤\n",
       "│ global_average_pooling1d        │ (<span style=\"color: #00d7ff; text-decoration-color: #00d7ff\">None</span>, <span style=\"color: #00af00; text-decoration-color: #00af00\">8</span>)              │             <span style=\"color: #00af00; text-decoration-color: #00af00\">0</span> │\n",
       "│ (<span style=\"color: #0087ff; text-decoration-color: #0087ff\">GlobalAveragePooling1D</span>)        │                        │               │\n",
       "├─────────────────────────────────┼────────────────────────┼───────────────┤\n",
       "│ dense (<span style=\"color: #0087ff; text-decoration-color: #0087ff\">Dense</span>)                   │ (<span style=\"color: #00d7ff; text-decoration-color: #00d7ff\">None</span>, <span style=\"color: #00af00; text-decoration-color: #00af00\">100</span>)            │           <span style=\"color: #00af00; text-decoration-color: #00af00\">900</span> │\n",
       "├─────────────────────────────────┼────────────────────────┼───────────────┤\n",
       "│ dense_1 (<span style=\"color: #0087ff; text-decoration-color: #0087ff\">Dense</span>)                 │ (<span style=\"color: #00d7ff; text-decoration-color: #00d7ff\">None</span>, <span style=\"color: #00af00; text-decoration-color: #00af00\">50</span>)             │         <span style=\"color: #00af00; text-decoration-color: #00af00\">5,050</span> │\n",
       "├─────────────────────────────────┼────────────────────────┼───────────────┤\n",
       "│ dense_2 (<span style=\"color: #0087ff; text-decoration-color: #0087ff\">Dense</span>)                 │ (<span style=\"color: #00d7ff; text-decoration-color: #00d7ff\">None</span>, <span style=\"color: #00af00; text-decoration-color: #00af00\">2</span>)              │           <span style=\"color: #00af00; text-decoration-color: #00af00\">102</span> │\n",
       "└─────────────────────────────────┴────────────────────────┴───────────────┘\n",
       "</pre>\n"
      ],
      "text/plain": [
       "┏━━━━━━━━━━━━━━━━━━━━━━━━━━━━━━━━━┳━━━━━━━━━━━━━━━━━━━━━━━━┳━━━━━━━━━━━━━━━┓\n",
       "┃\u001b[1m \u001b[0m\u001b[1mLayer (type)                   \u001b[0m\u001b[1m \u001b[0m┃\u001b[1m \u001b[0m\u001b[1mOutput Shape          \u001b[0m\u001b[1m \u001b[0m┃\u001b[1m \u001b[0m\u001b[1m      Param #\u001b[0m\u001b[1m \u001b[0m┃\n",
       "┡━━━━━━━━━━━━━━━━━━━━━━━━━━━━━━━━━╇━━━━━━━━━━━━━━━━━━━━━━━━╇━━━━━━━━━━━━━━━┩\n",
       "│ embedding (\u001b[38;5;33mEmbedding\u001b[0m)           │ (\u001b[38;5;45mNone\u001b[0m, \u001b[38;5;34m44\u001b[0m, \u001b[38;5;34m8\u001b[0m)          │        \u001b[38;5;34m36,424\u001b[0m │\n",
       "├─────────────────────────────────┼────────────────────────┼───────────────┤\n",
       "│ global_average_pooling1d        │ (\u001b[38;5;45mNone\u001b[0m, \u001b[38;5;34m8\u001b[0m)              │             \u001b[38;5;34m0\u001b[0m │\n",
       "│ (\u001b[38;5;33mGlobalAveragePooling1D\u001b[0m)        │                        │               │\n",
       "├─────────────────────────────────┼────────────────────────┼───────────────┤\n",
       "│ dense (\u001b[38;5;33mDense\u001b[0m)                   │ (\u001b[38;5;45mNone\u001b[0m, \u001b[38;5;34m100\u001b[0m)            │           \u001b[38;5;34m900\u001b[0m │\n",
       "├─────────────────────────────────┼────────────────────────┼───────────────┤\n",
       "│ dense_1 (\u001b[38;5;33mDense\u001b[0m)                 │ (\u001b[38;5;45mNone\u001b[0m, \u001b[38;5;34m50\u001b[0m)             │         \u001b[38;5;34m5,050\u001b[0m │\n",
       "├─────────────────────────────────┼────────────────────────┼───────────────┤\n",
       "│ dense_2 (\u001b[38;5;33mDense\u001b[0m)                 │ (\u001b[38;5;45mNone\u001b[0m, \u001b[38;5;34m2\u001b[0m)              │           \u001b[38;5;34m102\u001b[0m │\n",
       "└─────────────────────────────────┴────────────────────────┴───────────────┘\n"
      ]
     },
     "metadata": {},
     "output_type": "display_data"
    },
    {
     "data": {
      "text/html": [
       "<pre style=\"white-space:pre;overflow-x:auto;line-height:normal;font-family:Menlo,'DejaVu Sans Mono',consolas,'Courier New',monospace\"><span style=\"font-weight: bold\"> Total params: </span><span style=\"color: #00af00; text-decoration-color: #00af00\">127,430</span> (497.78 KB)\n",
       "</pre>\n"
      ],
      "text/plain": [
       "\u001b[1m Total params: \u001b[0m\u001b[38;5;34m127,430\u001b[0m (497.78 KB)\n"
      ]
     },
     "metadata": {},
     "output_type": "display_data"
    },
    {
     "data": {
      "text/html": [
       "<pre style=\"white-space:pre;overflow-x:auto;line-height:normal;font-family:Menlo,'DejaVu Sans Mono',consolas,'Courier New',monospace\"><span style=\"font-weight: bold\"> Trainable params: </span><span style=\"color: #00af00; text-decoration-color: #00af00\">42,476</span> (165.92 KB)\n",
       "</pre>\n"
      ],
      "text/plain": [
       "\u001b[1m Trainable params: \u001b[0m\u001b[38;5;34m42,476\u001b[0m (165.92 KB)\n"
      ]
     },
     "metadata": {},
     "output_type": "display_data"
    },
    {
     "data": {
      "text/html": [
       "<pre style=\"white-space:pre;overflow-x:auto;line-height:normal;font-family:Menlo,'DejaVu Sans Mono',consolas,'Courier New',monospace\"><span style=\"font-weight: bold\"> Non-trainable params: </span><span style=\"color: #00af00; text-decoration-color: #00af00\">0</span> (0.00 B)\n",
       "</pre>\n"
      ],
      "text/plain": [
       "\u001b[1m Non-trainable params: \u001b[0m\u001b[38;5;34m0\u001b[0m (0.00 B)\n"
      ]
     },
     "metadata": {},
     "output_type": "display_data"
    },
    {
     "data": {
      "text/html": [
       "<pre style=\"white-space:pre;overflow-x:auto;line-height:normal;font-family:Menlo,'DejaVu Sans Mono',consolas,'Courier New',monospace\"><span style=\"font-weight: bold\"> Optimizer params: </span><span style=\"color: #00af00; text-decoration-color: #00af00\">84,954</span> (331.86 KB)\n",
       "</pre>\n"
      ],
      "text/plain": [
       "\u001b[1m Optimizer params: \u001b[0m\u001b[38;5;34m84,954\u001b[0m (331.86 KB)\n"
      ]
     },
     "metadata": {},
     "output_type": "display_data"
    }
   ],
   "source": [
    "What type of neural network is this?\n",
    "\n",
    "activation = 'softmax'\n",
    "loss = 'sparse_categorical_crossentropy'\n",
    "optimizer = 'adam' #rmsprop\n",
    "num_epochs = 20\n",
    "\n",
    "#Define early stopping monitor\n",
    "early_stopping_monitor = EarlyStopping(patience = 2)\n",
    "\n",
    "model = tf.keras.Sequential([\n",
    "#tf.keras.layers.Embedding(vocab_size, embedding_dim, input_length),     #Original line without parameters set correctly\n",
    "tf.keras.layers.Embedding(input_dim=vocab_size, output_dim=max_sequence_embedding, input_length=review_max),\n",
    "tf.keras.layers.GlobalAveragePooling1D(),\n",
    "tf.keras.layers.Dense(100, activation='relu'),\n",
    "tf.keras.layers.Dense(50, activation='relu'),\n",
    "tf.keras.layers.Dense(2, activation = activation)\n",
    "])\n",
    "\n",
    "model.compile(loss = loss, optimizer = optimizer, metrics = ['accuracy'])\n",
    "#model.summary()     #It was here originally\n",
    "history = model.fit(training_padded, training_label, batch_size = 32, epochs = num_epochs,\n",
    "                    validation_split = 0.3, callbacks = [early_stopping_monitor], verbose = True)\n",
    "model.summary()"
   ]
  },
  {
   "cell_type": "markdown",
   "id": "77d93193-11e4-4a3a-9398-1ea8bd93a73b",
   "metadata": {},
   "source": [
    "### Perform Prediction 33:39"
   ]
  },
  {
   "cell_type": "code",
   "execution_count": 21,
   "id": "e9991c56-83d0-484e-a64f-80ddf95fccef",
   "metadata": {},
   "outputs": [],
   "source": [
    "#Saving and reloading the model to perform predictions\n",
    "#SAVE THE MODEL\n",
    "model.save('my_model.keras')\n",
    "\n",
    "#Load the model for performing future predictions\n",
    "my_model = load_model('my_model.keras')"
   ]
  },
  {
   "cell_type": "code",
   "execution_count": 22,
   "id": "f7773ac7-8fce-490d-9abf-6cfa239a43c4",
   "metadata": {},
   "outputs": [
    {
     "name": "stdout",
     "output_type": "stream",
     "text": [
      "\u001b[1m75/75\u001b[0m \u001b[32m━━━━━━━━━━━━━━━━━━━━\u001b[0m\u001b[37m\u001b[0m \u001b[1m0s\u001b[0m 817us/step\n"
     ]
    }
   ],
   "source": [
    "#Perform predictions\n",
    "predictions = my_model.predict(training_padded)"
   ]
  },
  {
   "cell_type": "code",
   "execution_count": 23,
   "id": "f7706e75-f8b7-4fcc-b09f-f0e86d43e475",
   "metadata": {},
   "outputs": [
    {
     "name": "stdout",
     "output_type": "stream",
     "text": [
      "\u001b[1m19/19\u001b[0m \u001b[32m━━━━━━━━━━━━━━━━━━━━\u001b[0m\u001b[37m\u001b[0m \u001b[1m0s\u001b[0m 3ms/step\n"
     ]
    }
   ],
   "source": [
    "#Perform predictions on the test data\n",
    "predictions = my_model.predict(test_padded)"
   ]
  },
  {
   "cell_type": "markdown",
   "id": "73713e3c-6741-4022-a882-f6d081112187",
   "metadata": {},
   "source": [
    "### THERE'S AN ISSUE BECAUSE THERE IS NO INDEX 9 FOR y_test"
   ]
  },
  {
   "cell_type": "code",
   "execution_count": 24,
   "id": "34993f7e-b42d-455b-8479-8c3bdf336090",
   "metadata": {},
   "outputs": [
    {
     "name": "stdout",
     "output_type": "stream",
     "text": [
      "Predicted review text:  fantastic earphone \n",
      "\n",
      "Predicted:  Positive review\n",
      "Actual:  Positive review\n"
     ]
    }
   ],
   "source": [
    "#Verify the predicted sentiment by comparing to the actual label from test data\n",
    "i = 9 #Take any test data to verify\n",
    "\n",
    "print(\"Predicted review text: \", X_test[i], \"\\n\")\n",
    "print(\"Predicted: \", \"Negative\" if predictions[i][0] >= 0.5 else \"Positive\", \"review\")\n",
    "print(\"Actual: \", \"Negative\" if test_label[i] == 0 else \"Positive\", \"review\")"
   ]
  },
  {
   "cell_type": "markdown",
   "id": "aef106b0-22f3-4e0c-adb2-d0dfd0e81dec",
   "metadata": {},
   "source": [
    "### Model Evaluation"
   ]
  },
  {
   "cell_type": "code",
   "execution_count": 25,
   "id": "cc64c260-1bef-4d6c-b974-4e74a13aedef",
   "metadata": {},
   "outputs": [
    {
     "name": "stdout",
     "output_type": "stream",
     "text": [
      "Training Loss: 0.22887636721134186 / Training Accuracy: 0.9125000238418579\n"
     ]
    }
   ],
   "source": [
    "# Verify model accuracy on training data\n",
    "score = model.evaluate(training_padded, training_label, verbose = 0)\n",
    "print(f'Training Loss: {score[0]} / Training Accuracy: {score[1]}')"
   ]
  },
  {
   "cell_type": "code",
   "execution_count": 26,
   "id": "4aa11a9b-8d85-4bae-a703-313ab1599adc",
   "metadata": {},
   "outputs": [
    {
     "name": "stdout",
     "output_type": "stream",
     "text": [
      "Test Loss: 0.47961297631263733 / Test Accuracy: 0.47961297631263733\n"
     ]
    }
   ],
   "source": [
    "# Verify model accuracy on test data (data not seen by the model earlier\n",
    "score = model.evaluate(test_padded, test_label, verbose = 0)\n",
    "print(f'Test Loss: {score[0]} / Test Accuracy: {score[0]}')"
   ]
  },
  {
   "cell_type": "code",
   "execution_count": 27,
   "id": "7624fbfd-3af8-487d-98d5-7435a58b69dd",
   "metadata": {},
   "outputs": [
    {
     "name": "stdout",
     "output_type": "stream",
     "text": [
      "Predicted review text:  fantastic earphone \n",
      "\n",
      "Predicted:  Positive review\n",
      "Actual:  Positive review\n"
     ]
    }
   ],
   "source": [
    "#Verify the predicted sentiment by comparing to actual label from test data \n",
    "i = 9 #Take any test data to verify\n",
    "\n",
    "print(\"Predicted review text: \", X_test[i], \"\\n\")\n",
    "print(\"Predicted: \", \"Negative\" if predictions[i][0] >= 0.5 else \"Positive\", \"review\")\n",
    "print(\"Actual: \", \"Negative\" if test_label[i] == 0 else \"Positive\", \"review\")"
   ]
  },
  {
   "cell_type": "code",
   "execution_count": 30,
   "id": "926728d4-d844-48ed-b9b0-f4d0d437c3f7",
   "metadata": {},
   "outputs": [
    {
     "data": {
      "image/png": "[encoded data removed]",
      "text/plain": [
       "<Figure size 640x480 with 1 Axes>"
      ]
     },
     "metadata": {},
     "output_type": "display_data"
    },
    {
     "data": {
      "image/png": "[encoded data removed]",
      "text/plain": [
       "<Figure size 640x480 with 1 Axes>"
      ]
     },
     "metadata": {},
     "output_type": "display_data"
    }
   ],
   "source": [
    "def plot_graphs(history, string):\n",
    "    plt.plot(history.history[string])\n",
    "    plt.plot(history.history['val_' + string])\n",
    "    plt.xlabel('Epochs')\n",
    "    plt.ylabel(string)\n",
    "    plt.legend([string, 'val_' + string])\n",
    "    plt.show()\n",
    "plot_graphs(history, \"accuracy\")\n",
    "plot_graphs(history, \"loss\")"
   ]
  }
 ],
 "metadata": {
  "kernelspec": {
   "display_name": "Python 3 (ipykernel)",
   "language": "python",
   "name": "python3"
  },
  "language_info": {
   "codemirror_mode": {
    "name": "ipython",
    "version": 3
   },
   "file_extension": ".py",
   "mimetype": "text/x-python",
   "name": "python",
   "nbconvert_exporter": "python",
   "pygments_lexer": "ipython3",
   "version": "3.11.4"
  }
 },
 "nbformat": 4,
 "nbformat_minor": 5
}
